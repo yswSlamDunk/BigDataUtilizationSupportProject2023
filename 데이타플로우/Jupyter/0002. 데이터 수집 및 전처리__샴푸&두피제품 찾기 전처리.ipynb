{
 "cells": [
  {
   "cell_type": "code",
   "execution_count": 7,
   "id": "f2832f6f",
   "metadata": {},
   "outputs": [],
   "source": [
    "import os\n",
    "import numpy as np\n",
    "import pandas as pd\n",
    "import sys\n",
    "from tqdm import tqdm\n",
    "\n",
    "sys.path.append('../Code/')\n",
    "# sys.path.append('..')\n",
    "\n",
    "from Code.preprocessingSentence import *\n",
    "from Code.config import *\n",
    "\n",
    "tqdm.pandas()"
   ]
  },
  {
   "cell_type": "code",
   "execution_count": 8,
   "id": "c59bb090",
   "metadata": {},
   "outputs": [],
   "source": [
    "additionalColumns = ['preprocessedSentence', 'keyword', 'sentimentResult']"
   ]
  },
  {
   "cell_type": "code",
   "execution_count": 9,
   "id": "55570dc2",
   "metadata": {},
   "outputs": [
    {
     "name": "stderr",
     "output_type": "stream",
     "text": [
      "/tmp/ipykernel_12908/592938312.py:5: FutureWarning: DataFrame.fillna with 'method' is deprecated and will raise in a future version. Use obj.ffill() or obj.bfill() instead.\n",
      "  df.loc[:, df.columns[:list(df.columns).index('price') + 1]] = df.loc[:, df.columns[:list(df.columns).index('price') + 1]].fillna(method = 'ffill')\n"
     ]
    }
   ],
   "source": [
    "path = '../Data/Raw/샴푸&두피케어_샴푸&두피제품 찾기.csv'\n",
    "\n",
    "df = pd.read_csv(path)\n",
    "df = df.drop_duplicates()\n",
    "df.loc[:, df.columns[:list(df.columns).index('price') + 1]] = df.loc[:, df.columns[:list(df.columns).index('price') + 1]].fillna(method = 'ffill')\n",
    "df = df.loc[df['tag'].apply(lambda x : x in(['두피샴푸', '탈모샴푸'])), :]\n",
    "df['category'] = np.nan\n",
    "df[additionalColumns] = np.nan\n",
    "# df = df.drop([8370, 2955], axis = 0)\n",
    "df = df.drop(index= [8372, 8373], axis = 0)"
   ]
  },
  {
   "cell_type": "code",
   "execution_count": 10,
   "id": "82d799a8",
   "metadata": {},
   "outputs": [],
   "source": [
    "if ~os.path.isfile(config['샴푸&두피제품 찾기']['outputPath']):\n",
    "    pd.DataFrame(columns = df.columns).to_csv(config['샴푸&두피제품 찾기']['outputPath'], index = False, encoding = 'utf-8-sig')"
   ]
  },
  {
   "cell_type": "code",
   "execution_count": 11,
   "id": "ea2637b4",
   "metadata": {},
   "outputs": [
    {
     "name": "stderr",
     "output_type": "stream",
     "text": [
      "100%|██████████| 916/916 [01:40<00:00,  9.12it/s]\n",
      "/tmp/ipykernel_12908/871133291.py:9: SettingWithCopyWarning: \n",
      "A value is trying to be set on a copy of a slice from a DataFrame.\n",
      "Try using .loc[row_indexer,col_indexer] = value instead\n",
      "\n",
      "See the caveats in the documentation: https://pandas.pydata.org/pandas-docs/stable/user_guide/indexing.html#returning-a-view-versus-a-copy\n",
      "  tmp_df[additionalColumns] = tmp_df.progress_apply(lambda x : preprocessingSentence(x[column], kkma),\n",
      " 15%|█▍        | 1451/9872 [06:06<25:39,  5.47it/s]  "
     ]
    },
    {
     "name": "stdout",
     "output_type": "stream",
     "text": [
      "정제수 소듐라우레스설페이트 소듐라우릴설페이트 어성초추출물 코카마이드디이에이 코카미도프로필베타인 부틸렌글라이콜 징크피리치온 판테놀 나이아신아마이드 하이드록시에칠우레아 오렌지껍질오일 구아하이드록시프로필트리모늄클로라이드 세틸알코올 소듐벤조에이트 트리하이드록시스테아린 자소엽추출물 녹차추출물 하이드롤라이즈드케라틴 완두콩추출물 알지닌 천궁추출물 고삼추출물 자몽추출물 마치현추출물 병풀추출물 은행잎추출물 단삼뿌리추출물 알로에베라잎추출물 당귀추출물 쑥추출물 효모추출물 하수오추출물 초피나무열매추출물 인삼추출물 바이오틴 감초추출물 라이신에이치씨엘 트립토판 피리독신에이치씨엘 카페트리펩타이드1 하이드로제네이티드레시틴 시스테인 메치오닌 폴리쿼터늄7 베르가모트열매오일 라벤더오일 살리실릭애씨드 멘톨 시트릭애씨드 카보머 소듐클로라이드 소듐시트레이트 디소듐이디티에이 징크클로라이드 소듐폴리나프탈렌설포네이트 디소듐포스페이트 소듐카보네이트.\n"
     ]
    },
    {
     "name": "stderr",
     "output_type": "stream",
     "text": [
      " 15%|█▌        | 1501/9872 [06:18<34:46,  4.01it/s]"
     ]
    },
    {
     "name": "stdout",
     "output_type": "stream",
     "text": [
      "깔끔해지는거같아요. 정제수 소듐라우레스설페이트 소듐라우릴설페이트 어성초추출물 코카마이드디이에이 코카미도프로필베타인 부틸렌글라이콜 징크피리치온 판테놀 나이아신아마이드 하이드록시에칠우레아 오렌지껍질오일 구아하이드록시프로필트리모늄클로라이드 세틸알코올 소듐벤조에이트 트리하이드록시스테아린 자소엽추출물 녹차추출물 하이드롤라이즈드케라틴 완두콩추출물 알지닌 천궁추출물 고삼추출물 자몽추출물 마치현추출물 병풀추출물 은행잎추출물 단삼뿌리추출물 알로에베라잎추출물 당귀추출물 쑥추출물 효모추출물 하수오추출물 초피나무열매추출물 인삼추출물 바이오틴 감초추출물 라이신에이치씨엘 트립토판 피리독신에이치씨엘 카페트리펩타이드1 하이드로제네이티드레시틴 시스테인 메치오닌 폴리쿼터늄7 베르가모트열매오일 라벤더오일 살리실릭애씨드 멘톨 시트릭애씨드 카보머 소듐클로라이드 소듐시트레이트 디소듐이디티에이 징크클로라이드 소듐폴리나프탈렌설포네이트 디소듐포스페이트 소듐카보네이트.\n"
     ]
    },
    {
     "name": "stderr",
     "output_type": "stream",
     "text": [
      " 67%|██████▋   | 6594/9872 [34:06<154:49:41, 170.04s/it]"
     ]
    },
    {
     "name": "stdout",
     "output_type": "stream",
     "text": [
      "러어어터투터 구두듀겨. 뎌추듀구구겨쳐구뎌뎌뎌겨쳐뎌뎓텨뎌뎌뎌뎌뎌뎌뎌뎌텨쳐려려려려려려려려려여려텨여텨. 텨텨텨투텨텨텨텨텨.\n"
     ]
    },
    {
     "name": "stderr",
     "output_type": "stream",
     "text": [
      " 84%|████████▎ | 8263/9872 [38:28<06:00,  4.46it/s]     "
     ]
    },
    {
     "name": "stdout",
     "output_type": "stream",
     "text": [
      "정제수 소듐라우레스설페이트 소듐라우릴설페이트 어성초추출물 코카마이드디이에이 코카미도프로필베타인 부틸렌글라이콜 징크피리치온 판테놀 나이아신아마이드 하이드록시에칠우레아 오렌지껍질오일 구아하이드록시프로필트리모늄클로라이드 세틸알코올 소듐벤조에이트 트리하이드록시스테아린 자소엽추출물 녹차추출물 하이드롤라이즈드케라틴 완두콩추출물 알지닌 천궁추출물 고삼추출물 자몽추출물 마치현추출물 병풀추출물 은행잎추출물 단삼뿌리추출물 알로에베라잎추출물 당귀추출물 쑥추출물 효모추출물 하수오추출물 초피나무열매추출물 인삼추출물 바이오틴 감초추출물 라이신에이치씨엘 트립토판 피리독신에이치씨엘 카페트리펩타이드1 하이드로제네이티드레시틴 시스테인 메치오닌 폴리쿼터늄7 베르가모트열매오일 라벤더오일 살리실릭애씨드 멘톨 시트릭애씨드 카보머 소듐클로라이드 소듐시트레이트 디소듐이디티에이 징크클로라이드 소듐폴리나프탈렌설포네이트 디소듐포스페이트 소듐카보네이트.\n"
     ]
    },
    {
     "name": "stderr",
     "output_type": "stream",
     "text": [
      "100%|██████████| 9872/9872 [42:31<00:00,  3.87it/s]\n",
      "/tmp/ipykernel_12908/871133291.py:9: SettingWithCopyWarning: \n",
      "A value is trying to be set on a copy of a slice from a DataFrame.\n",
      "Try using .loc[row_indexer,col_indexer] = value instead\n",
      "\n",
      "See the caveats in the documentation: https://pandas.pydata.org/pandas-docs/stable/user_guide/indexing.html#returning-a-view-versus-a-copy\n",
      "  tmp_df[additionalColumns] = tmp_df.progress_apply(lambda x : preprocessingSentence(x[column], kkma),\n",
      "100%|██████████| 5740/5740 [05:45<00:00, 16.63it/s]\n",
      "/tmp/ipykernel_12908/871133291.py:9: SettingWithCopyWarning: \n",
      "A value is trying to be set on a copy of a slice from a DataFrame.\n",
      "Try using .loc[row_indexer,col_indexer] = value instead\n",
      "\n",
      "See the caveats in the documentation: https://pandas.pydata.org/pandas-docs/stable/user_guide/indexing.html#returning-a-view-versus-a-copy\n",
      "  tmp_df[additionalColumns] = tmp_df.progress_apply(lambda x : preprocessingSentence(x[column], kkma),\n"
     ]
    }
   ],
   "source": [
    "kkma = Kkma()\n",
    "\n",
    "for column in ['commentContent', 'commentGood', 'commentBad']:\n",
    "    tmp_df = df[~df[column].isnull()]\n",
    "    tmp_df.loc[:, 'category'] = column\n",
    "\n",
    "    # tmp_df = tmp_df.iloc[5934:]\n",
    "    tmp_df[additionalColumns] = tmp_df.progress_apply(lambda x : preprocessingSentence(x[column], kkma), \n",
    "                                                      axis = 1,\n",
    "                                                      result_type = 'expand')\n",
    "    \n",
    "    tmp_df.to_csv(config['샴푸&두피제품 찾기']['outputPath'],\n",
    "                  mode = 'a', \n",
    "                  index = False, \n",
    "                  header = None,\n",
    "                  encoding = 'utf-8-sig',\n",
    "                  escapechar = '\\\\')"
   ]
  },
  {
   "cell_type": "code",
   "execution_count": null,
   "id": "b8ecb724",
   "metadata": {},
   "outputs": [],
   "source": []
  },
  {
   "cell_type": "code",
   "execution_count": 6,
   "id": "0e0bd42a",
   "metadata": {},
   "outputs": [
    {
     "name": "stderr",
     "output_type": "stream",
     "text": [
      "  0%|          | 0/916 [00:00<?, ?it/s][Kss]: Oh! You have mecab in your environment. Kss will take this as a backend! :D\n",
      "\n",
      "100%|██████████| 916/916 [01:32<00:00,  9.90it/s]\n",
      "/tmp/ipykernel_12908/871133291.py:9: SettingWithCopyWarning: \n",
      "A value is trying to be set on a copy of a slice from a DataFrame.\n",
      "Try using .loc[row_indexer,col_indexer] = value instead\n",
      "\n",
      "See the caveats in the documentation: https://pandas.pydata.org/pandas-docs/stable/user_guide/indexing.html#returning-a-view-versus-a-copy\n",
      "  tmp_df[additionalColumns] = tmp_df.progress_apply(lambda x : preprocessingSentence(x[column], kkma),\n",
      " 15%|█▍        | 1451/9872 [04:59<21:44,  6.46it/s]  "
     ]
    },
    {
     "name": "stdout",
     "output_type": "stream",
     "text": [
      "정제수 소듐라우레스설페이트 소듐라우릴설페이트 어성초추출물 코카마이드디이에이 코카미도프로필베타인 부틸렌글라이콜 징크피리치온 판테놀 나이아신아마이드 하이드록시에칠우레아 오렌지껍질오일 구아하이드록시프로필트리모늄클로라이드 세틸알코올 소듐벤조에이트 트리하이드록시스테아린 자소엽추출물 녹차추출물 하이드롤라이즈드케라틴 완두콩추출물 알지닌 천궁추출물 고삼추출물 자몽추출물 마치현추출물 병풀추출물 은행잎추출물 단삼뿌리추출물 알로에베라잎추출물 당귀추출물 쑥추출물 효모추출물 하수오추출물 초피나무열매추출물 인삼추출물 바이오틴 감초추출물 라이신에이치씨엘 트립토판 피리독신에이치씨엘 카페트리펩타이드1 하이드로제네이티드레시틴 시스테인 메치오닌 폴리쿼터늄7 베르가모트열매오일 라벤더오일 살리실릭애씨드 멘톨 시트릭애씨드 카보머 소듐클로라이드 소듐시트레이트 디소듐이디티에이 징크클로라이드 소듐폴리나프탈렌설포네이트 디소듐포스페이트 소듐카보네이트.\n"
     ]
    },
    {
     "name": "stderr",
     "output_type": "stream",
     "text": [
      " 15%|█▌        | 1503/9872 [05:10<24:23,  5.72it/s]"
     ]
    },
    {
     "name": "stdout",
     "output_type": "stream",
     "text": [
      "깔끔해지는거같아요. 정제수 소듐라우레스설페이트 소듐라우릴설페이트 어성초추출물 코카마이드디이에이 코카미도프로필베타인 부틸렌글라이콜 징크피리치온 판테놀 나이아신아마이드 하이드록시에칠우레아 오렌지껍질오일 구아하이드록시프로필트리모늄클로라이드 세틸알코올 소듐벤조에이트 트리하이드록시스테아린 자소엽추출물 녹차추출물 하이드롤라이즈드케라틴 완두콩추출물 알지닌 천궁추출물 고삼추출물 자몽추출물 마치현추출물 병풀추출물 은행잎추출물 단삼뿌리추출물 알로에베라잎추출물 당귀추출물 쑥추출물 효모추출물 하수오추출물 초피나무열매추출물 인삼추출물 바이오틴 감초추출물 라이신에이치씨엘 트립토판 피리독신에이치씨엘 카페트리펩타이드1 하이드로제네이티드레시틴 시스테인 메치오닌 폴리쿼터늄7 베르가모트열매오일 라벤더오일 살리실릭애씨드 멘톨 시트릭애씨드 카보머 소듐클로라이드 소듐시트레이트 디소듐이디티에이 징크클로라이드 소듐폴리나프탈렌설포네이트 디소듐포스페이트 소듐카보네이트.\n"
     ]
    },
    {
     "name": "stderr",
     "output_type": "stream",
     "text": [
      " 67%|██████▋   | 6594/9872 [28:36<145:14:33, 159.51s/it]"
     ]
    },
    {
     "name": "stdout",
     "output_type": "stream",
     "text": [
      "러어어터투터 구두듀겨. 뎌추듀구구겨쳐구뎌뎌뎌겨쳐뎌뎓텨뎌뎌뎌뎌뎌뎌뎌뎌텨쳐려려려려려려려려려여려텨여텨. 텨텨텨투텨텨텨텨텨.\n"
     ]
    },
    {
     "name": "stderr",
     "output_type": "stream",
     "text": [
      " 84%|████████▎ | 8265/9872 [32:51<04:41,  5.72it/s]     "
     ]
    },
    {
     "name": "stdout",
     "output_type": "stream",
     "text": [
      "정제수 소듐라우레스설페이트 소듐라우릴설페이트 어성초추출물 코카마이드디이에이 코카미도프로필베타인 부틸렌글라이콜 징크피리치온 판테놀 나이아신아마이드 하이드록시에칠우레아 오렌지껍질오일 구아하이드록시프로필트리모늄클로라이드 세틸알코올 소듐벤조에이트 트리하이드록시스테아린 자소엽추출물 녹차추출물 하이드롤라이즈드케라틴 완두콩추출물 알지닌 천궁추출물 고삼추출물 자몽추출물 마치현추출물 병풀추출물 은행잎추출물 단삼뿌리추출물 알로에베라잎추출물 당귀추출물 쑥추출물 효모추출물 하수오추출물 초피나무열매추출물 인삼추출물 바이오틴 감초추출물 라이신에이치씨엘 트립토판 피리독신에이치씨엘 카페트리펩타이드1 하이드로제네이티드레시틴 시스테인 메치오닌 폴리쿼터늄7 베르가모트열매오일 라벤더오일 살리실릭애씨드 멘톨 시트릭애씨드 카보머 소듐클로라이드 소듐시트레이트 디소듐이디티에이 징크클로라이드 소듐폴리나프탈렌설포네이트 디소듐포스페이트 소듐카보네이트.\n"
     ]
    },
    {
     "name": "stderr",
     "output_type": "stream",
     "text": [
      "100%|██████████| 9872/9872 [36:56<00:00,  4.45it/s]\n",
      "/tmp/ipykernel_12908/871133291.py:9: SettingWithCopyWarning: \n",
      "A value is trying to be set on a copy of a slice from a DataFrame.\n",
      "Try using .loc[row_indexer,col_indexer] = value instead\n",
      "\n",
      "See the caveats in the documentation: https://pandas.pydata.org/pandas-docs/stable/user_guide/indexing.html#returning-a-view-versus-a-copy\n",
      "  tmp_df[additionalColumns] = tmp_df.progress_apply(lambda x : preprocessingSentence(x[column], kkma),\n",
      "100%|██████████| 5740/5740 [05:48<00:00, 16.48it/s]\n",
      "/tmp/ipykernel_12908/871133291.py:9: SettingWithCopyWarning: \n",
      "A value is trying to be set on a copy of a slice from a DataFrame.\n",
      "Try using .loc[row_indexer,col_indexer] = value instead\n",
      "\n",
      "See the caveats in the documentation: https://pandas.pydata.org/pandas-docs/stable/user_guide/indexing.html#returning-a-view-versus-a-copy\n",
      "  tmp_df[additionalColumns] = tmp_df.progress_apply(lambda x : preprocessingSentence(x[column], kkma),\n"
     ]
    }
   ],
   "source": [
    "kkma = Kkma()\n",
    "\n",
    "for column in ['commentContent', 'commentGood', 'commentBad']:\n",
    "# for column in ['commentGood']:\n",
    "    tmp_df = df[~df[column].isnull()]\n",
    "    tmp_df.loc[:, 'category'] = column\n",
    "\n",
    "    # tmp_df = tmp_df.iloc[5934:]\n",
    "    tmp_df[additionalColumns] = tmp_df.progress_apply(lambda x : preprocessingSentence(x[column], kkma), \n",
    "                                                      axis = 1,\n",
    "                                                      result_type = 'expand')\n",
    "    \n",
    "    tmp_df.to_csv(config['샴푸&두피제품 찾기']['outputPath'],\n",
    "                  mode = 'a', \n",
    "                  index = False, \n",
    "                  header = None,\n",
    "                  encoding = 'utf-8-sig',\n",
    "                  escapechar = '\\\\')"
   ]
  },
  {
   "cell_type": "code",
   "execution_count": null,
   "id": "38040f32",
   "metadata": {},
   "outputs": [],
   "source": []
  },
  {
   "cell_type": "code",
   "execution_count": null,
   "metadata": {},
   "outputs": [],
   "source": []
  },
  {
   "cell_type": "code",
   "execution_count": null,
   "id": "d61da861",
   "metadata": {},
   "outputs": [],
   "source": []
  },
  {
   "cell_type": "code",
   "execution_count": null,
   "id": "faad33d8",
   "metadata": {},
   "outputs": [],
   "source": [
    "5936"
   ]
  },
  {
   "cell_type": "code",
   "execution_count": 9,
   "id": "23b875e4",
   "metadata": {},
   "outputs": [
    {
     "data": {
      "text/plain": [
       "8371"
      ]
     },
     "execution_count": 9,
     "metadata": {},
     "output_type": "execute_result"
    }
   ],
   "source": [
    "8371"
   ]
  },
  {
   "cell_type": "code",
   "execution_count": 13,
   "id": "f1d50360",
   "metadata": {},
   "outputs": [],
   "source": [
    "kkma = Kkma()\n",
    "\n",
    "preprocessingSentence(tmp_df.iloc[5937]['commentGood'], kkma)"
   ]
  },
  {
   "cell_type": "code",
   "execution_count": null,
   "id": "d0b6fa92",
   "metadata": {},
   "outputs": [],
   "source": []
  },
  {
   "cell_type": "code",
   "execution_count": null,
   "id": "d1a235c9",
   "metadata": {},
   "outputs": [],
   "source": []
  },
  {
   "cell_type": "code",
   "execution_count": null,
   "id": "671c5aa6",
   "metadata": {},
   "outputs": [],
   "source": []
  }
 ],
 "metadata": {
  "kernelspec": {
   "display_name": "BigDataUtilization2022",
   "language": "python",
   "name": "bigdatautilization2022"
  },
  "language_info": {
   "codemirror_mode": {
    "name": "ipython",
    "version": 3
   },
   "file_extension": ".py",
   "mimetype": "text/x-python",
   "name": "python",
   "nbconvert_exporter": "python",
   "pygments_lexer": "ipython3",
   "version": "3.9.13"
  }
 },
 "nbformat": 4,
 "nbformat_minor": 5
}
