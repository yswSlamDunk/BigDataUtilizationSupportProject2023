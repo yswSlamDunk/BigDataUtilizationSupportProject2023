{
 "cells": [
  {
   "cell_type": "code",
   "execution_count": 1,
   "id": "f2832f6f",
   "metadata": {},
   "outputs": [],
   "source": [
    "import os\n",
    "import pandas as pd\n",
    "import numpy as np\n",
    "import sys\n",
    "\n",
    "# from konlpy.tag import Kkma\n",
    "\n",
    "# sys.path.append('..')\n",
    "\n",
    "# from Code.config import *\n",
    "# from Code.preprocessingSentence import *"
   ]
  },
  {
   "cell_type": "markdown",
   "id": "a58bf0eb",
   "metadata": {},
   "source": [
    "### 문제 List\n",
    "* preprocessingentence 함수는 input sentence의 길이가 일정 수준 이상인 경우, null 값 return\n",
    "    \n",
    "    ```python \n",
    "    preprocessingSentence(df['content'].iloc[9], kkma)\n",
    "    ```"
   ]
  },
  {
   "cell_type": "code",
   "execution_count": 4,
   "id": "ee23682e",
   "metadata": {},
   "outputs": [],
   "source": [
    "path = '../Data/Raw/탈모톡톡_19~23세탈모.csv'\n",
    "df = pd.read_csv(path)"
   ]
  },
  {
   "cell_type": "code",
   "execution_count": 5,
   "id": "118b70a7",
   "metadata": {},
   "outputs": [
    {
     "data": {
      "text/html": [
       "<div>\n",
       "<style scoped>\n",
       "    .dataframe tbody tr th:only-of-type {\n",
       "        vertical-align: middle;\n",
       "    }\n",
       "\n",
       "    .dataframe tbody tr th {\n",
       "        vertical-align: top;\n",
       "    }\n",
       "\n",
       "    .dataframe thead th {\n",
       "        text-align: right;\n",
       "    }\n",
       "</style>\n",
       "<table border=\"1\" class=\"dataframe\">\n",
       "  <thead>\n",
       "    <tr style=\"text-align: right;\">\n",
       "      <th></th>\n",
       "      <th>title</th>\n",
       "      <th>category</th>\n",
       "      <th>date</th>\n",
       "      <th>writer</th>\n",
       "      <th>rank</th>\n",
       "      <th>view</th>\n",
       "      <th>href</th>\n",
       "      <th>content</th>\n",
       "      <th>imageList</th>\n",
       "    </tr>\n",
       "  </thead>\n",
       "  <tbody>\n",
       "    <tr>\n",
       "      <th>0</th>\n",
       "      <td>22인데 이게 맞냐</td>\n",
       "      <td>[22세탈모]</td>\n",
       "      <td>08월 08일</td>\n",
       "      <td>모자람있는사람</td>\n",
       "      <td>4</td>\n",
       "      <td>조회 409</td>\n",
       "      <td>https://daedamo.com/1923club/126082?overlaps=1</td>\n",
       "      <td>&lt;ㅜㅠㅜ&gt;곧있으면 전역하는 짬찌인데 말출나와서 오랜만에 정수리 사진 찍으니깐 입대 ...</td>\n",
       "      <td>['https://daedamo.com/new/data/file/1923club/6...</td>\n",
       "    </tr>\n",
       "    <tr>\n",
       "      <th>1</th>\n",
       "      <td>20살 탈모</td>\n",
       "      <td>[20세탈모]</td>\n",
       "      <td>08월 13일</td>\n",
       "      <td>K29614872442308…</td>\n",
       "      <td>4</td>\n",
       "      <td>조회 212</td>\n",
       "      <td>https://daedamo.com/1923club/126108?overlaps=1</td>\n",
       "      <td>재수하면서 이렇게 됐는데 다시 회복 가능한가요ㅠㅠ 스트레스받아서 너무 힘들어요\\r지...</td>\n",
       "      <td>['https://daedamo.com/new/data/file/1923club/4...</td>\n",
       "    </tr>\n",
       "  </tbody>\n",
       "</table>\n",
       "</div>"
      ],
      "text/plain": [
       "        title category     date            writer rank    view  \\\n",
       "0  22인데 이게 맞냐  [22세탈모]  08월 08일           모자람있는사람    4  조회 409   \n",
       "1      20살 탈모  [20세탈모]  08월 13일  K29614872442308…    4  조회 212   \n",
       "\n",
       "                                             href  \\\n",
       "0  https://daedamo.com/1923club/126082?overlaps=1   \n",
       "1  https://daedamo.com/1923club/126108?overlaps=1   \n",
       "\n",
       "                                             content  \\\n",
       "0  <ㅜㅠㅜ>곧있으면 전역하는 짬찌인데 말출나와서 오랜만에 정수리 사진 찍으니깐 입대 ...   \n",
       "1  재수하면서 이렇게 됐는데 다시 회복 가능한가요ㅠㅠ 스트레스받아서 너무 힘들어요\\r지...   \n",
       "\n",
       "                                           imageList  \n",
       "0  ['https://daedamo.com/new/data/file/1923club/6...  \n",
       "1  ['https://daedamo.com/new/data/file/1923club/4...  "
      ]
     },
     "execution_count": 5,
     "metadata": {},
     "output_type": "execute_result"
    }
   ],
   "source": [
    "df.head(2)"
   ]
  },
  {
   "cell_type": "code",
   "execution_count": null,
   "id": "1c05d210",
   "metadata": {},
   "outputs": [],
   "source": [
    "kkma = Kkma()\n",
    "result = df.iloc[:10].apply(lambda x : preprocessingSentence(x['title'] + x['content'], kkma), axis = 1)"
   ]
  },
  {
   "cell_type": "markdown",
   "id": "9cb93210",
   "metadata": {},
   "source": [
    "### 오늘의 할 일\n",
    "* multi-processing\n",
    "    * multi-processing 함수 파라미터 제공\n",
    "    * multi-processing 함수 jupyter notebook 실행\n",
    "* save 함수 생성\n",
    "* 감정분석 :  preprocessingSentence.py: sentimentAnalysis 선언\n",
    "* LDA \n",
    "    * 주요기능\n",
    "        * TF-IDF는 적정 크기의 키워드 수 선택이 필요한 경우 사용(https://wikidocs.net/40710)\n",
    "        * LDA 실행 함수(https://wikidocs.net/30708)\n",
    "            * input\n",
    "                * Corpus:\n",
    "                * Num_topics:\n",
    "                * Id2word:\n",
    "                * Passes:\n",
    "            * output\n",
    "        * LDA 시각화 함수\n",
    "            * pyLDAvis.gensim_models\n",
    "            * parameters\n",
    "                * ldaModel: \n",
    "                * Corpus:\n",
    "                * Dictionary: \n",
    "        * LDA 주요 키워드 도출 함수\n",
    "        * 토픽별 추세 분석 함수\n",
    "        * 토픽별 Pain-Point 분석\n",
    "    * 작동 특징\n",
    "        * ldaAnalysis\n",
    "        * document별 토픽 category 저장\n",
    "        * config.py 생성: parameter 관리\n",
    "* generalAnalysis\n",
    "    * 주요기능\n",
    "        * 전체 분석\n",
    "            * 전체 비율 \n",
    "            * 전체 Trend(시계열)\n",
    "                * 게시글 수\n",
    "                * 작성자 수\n",
    "        * 특정 column별 분석\n",
    "            * column별 비율\n",
    "            * column별 Trend(시계열)\n",
    "                * 게시글 수\n",
    "                * 작성자 수"
   ]
  },
  {
   "cell_type": "code",
   "execution_count": 2,
   "id": "195af131",
   "metadata": {},
   "outputs": [],
   "source": [
    "def change(listValue):\n",
    "    try:\n",
    "        return eval(listValue)\n",
    "    except:\n",
    "        print(listValue)\n",
    "        return np.nan"
   ]
  },
  {
   "cell_type": "code",
   "execution_count": 3,
   "id": "037a4cf2",
   "metadata": {},
   "outputs": [],
   "source": [
    "df = pd.read_excel('../Data/Preprocessed/탈모톡톡_19~23세탈모.xlsx')\n",
    "\n",
    "# df = df[df.columns[:13]]\n",
    "# df['content'] = df['content'].str.replace('\\n', ' ')\n",
    "# df['title'] = df['title'].str.replace('\\n', ' ')\n",
    "# df['titleContent'] = df['titleContent'].str.replace('\\n', ' ')\n",
    "# df['preprocessedSentence'] = df['preprocessedSentence'].str.replace('\\n', ' ')\n",
    "df['keyword'] = df['keyword'].apply(lambda x : change(x))\n",
    "df = df[~pd.isnull(df['keyword'])]\n",
    "\n",
    "df.to_excel('../Data/Preprocessed/탈모톡톡_19~23세탈모.xlsx', index = False)"
   ]
  },
  {
   "cell_type": "code",
   "execution_count": 4,
   "id": "0a5f2df2",
   "metadata": {},
   "outputs": [],
   "source": [
    "df = pd.read_excel('../Data/Preprocessed/샴푸&두피케어_샴푸&영양제.xlsx')\n",
    "df['keyword'] = df['keyword'].apply(lambda x : change(x))\n",
    "df = df[~pd.isnull(df['keyword'])]\n",
    "# df = df[df.columns[:13]]\n",
    "# df['content'] = df['content'].str.replace('\\n', ' ')\n",
    "# df['title'] = df['title'].str.replace('\\n', ' ')\n",
    "# df['titleContent'] = df['titleContent'].str.replace('\\n', ' ')\n",
    "# df['preprocessedSentence'] = df['preprocessedSentence'].str.replace('\\n', ' ')\n",
    "\n",
    "\n",
    "\n",
    "df.to_excel('../Data/Preprocessed/샴푸&두피케어_샴푸&영양제.xlsx', index = False)"
   ]
  },
  {
   "cell_type": "code",
   "execution_count": 44,
   "id": "5e56e6ed",
   "metadata": {},
   "outputs": [
    {
     "data": {
      "text/plain": [
       "0       ['알다', '신', '후기', '알', '피신', '샴푸', '알다', '탈모',...\n",
       "1       ['모발', '이식', '후', '탈모', '샴푸', '사용', '관련', '사항'...\n",
       "2       ['알다', '신', '더블', '이펙트', '샴푸', '유통', '기한', '샴푸...\n",
       "3       ['비오틴', '거가', '좋', '비오틴', '먹다', '하다', '거가', '좋...\n",
       "4       ['내일', '모발', '이식', '받다', '영양', '제도', '챙기다', '먹...\n",
       "                              ...                        \n",
       "4805    ['포', '샴푸', '주문', '포', '그다', '이태리', '만들다', '임상...\n",
       "4806    ['샴푸', '효과', '있다', '후기', '사이트', '제휴', '가져오다', ...\n",
       "4807    ['샴푸', '추천', '부탁', '이때', '머리', '관리', '하다', '이젠...\n",
       "4808    ['존', '스킨', '샴푸', '후기', '존', '스킨', '샴푸', '정도',...\n",
       "4809    ['계면', '활성제', '질문', '샴푸', '발모', '효과', '기대', '없...\n",
       "Name: keyword, Length: 4810, dtype: object"
      ]
     },
     "execution_count": 44,
     "metadata": {},
     "output_type": "execute_result"
    }
   ],
   "source": [
    "df['keyword']"
   ]
  },
  {
   "cell_type": "code",
   "execution_count": 7,
   "id": "c1f2fc83",
   "metadata": {},
   "outputs": [],
   "source": [
    "from gensim import corpora\n",
    "\n",
    "dictionary = corpora.Dictionary(df['keyword'])"
   ]
  },
  {
   "cell_type": "code",
   "execution_count": 8,
   "id": "ce14b0f2",
   "metadata": {},
   "outputs": [
    {
     "data": {
      "text/plain": [
       "<gensim.corpora.dictionary.Dictionary at 0x7f75e9eaa130>"
      ]
     },
     "execution_count": 8,
     "metadata": {},
     "output_type": "execute_result"
    }
   ],
   "source": [
    "dictionary"
   ]
  },
  {
   "cell_type": "code",
   "execution_count": 9,
   "id": "0998b5f5",
   "metadata": {},
   "outputs": [],
   "source": [
    "corpus = [dictionary.doc2bow(text) for text in df['keyword']]"
   ]
  },
  {
   "cell_type": "code",
   "execution_count": 13,
   "id": "4d7eb7e7",
   "metadata": {},
   "outputs": [
    {
     "data": {
      "text/plain": [
       "4809"
      ]
     },
     "execution_count": 13,
     "metadata": {},
     "output_type": "execute_result"
    }
   ],
   "source": [
    "len(corpus)"
   ]
  },
  {
   "cell_type": "code",
   "execution_count": 2,
   "id": "2bc27979",
   "metadata": {},
   "outputs": [
    {
     "name": "stderr",
     "output_type": "stream",
     "text": [
      "/home/yooseungwoo/anaconda3/lib/python3.9/site-packages/gensim/matutils.py:22: DeprecationWarning: Please use `triu` from the `scipy.linalg` namespace, the `scipy.linalg.special_matrices` namespace is deprecated.\n",
      "  from scipy.linalg.special_matrices import triu\n"
     ]
    }
   ],
   "source": [
    "import pyLDAvis\n",
    "import pyLDAvis.gensim_models as pyGensim\n",
    "import pickle\n",
    "\n",
    "pyLDAvis.enable_notebook()\n",
    "\n",
    "with open(file = '../Result/LDA/탈모톡톡_19~23세탈모/__20.pickle', mode = 'rb') as f:\n",
    "    lda = pickle.load(f)\n",
    "    ldaModel = lda[0]\n",
    "    dictionary = lda[1]\n",
    "    corpus = lda[2]\n",
    "\n",
    "    vis = pyGensim.prepare(ldaModel, corpus, dictionary)\n",
    "\n",
    "    pyLDAvis.display(vis)"
   ]
  },
  {
   "cell_type": "code",
   "execution_count": 5,
   "id": "e2bd44d1",
   "metadata": {},
   "outputs": [
    {
     "data": {
      "text/plain": [
       "[(0,\n",
       "  '0.062*\"빠지다\" + 0.062*\"머리\" + 0.024*\"때\" + 0.023*\"같\" + 0.015*\"머리카락\" + 0.015*\"정도\" + 0.013*\"두피\" + 0.013*\"감다\" + 0.012*\"탈모\" + 0.012*\"하다\" + 0.011*\"있다\" + 0.010*\"없\" + 0.008*\"얇\" + 0.008*\"되다\" + 0.007*\"보이다\" + 0.007*\"나다\" + 0.007*\"정수리\" + 0.006*\"샴푸\" + 0.006*\"먹다\" + 0.006*\"지루성\"'),\n",
       " (1,\n",
       "  '0.062*\"탈모\" + 0.047*\"하다\" + 0.028*\"병원\" + 0.023*\"같\" + 0.022*\"가다\" + 0.022*\"받다\" + 0.018*\"정수리\" + 0.014*\"있다\" + 0.013*\"피부과\" + 0.013*\"이마\" + 0.012*\"약\" + 0.011*\"없\" + 0.011*\"되다\" + 0.011*\"보다\" + 0.010*\"자다\" + 0.009*\"형\" + 0.008*\"처방\" + 0.007*\"사진\" + 0.007*\"때\" + 0.007*\"맞다\"'),\n",
       " (2,\n",
       "  '0.083*\"먹다\" + 0.066*\"약\" + 0.030*\"하다\" + 0.022*\"시\" + 0.022*\"프로\" + 0.022*\"있다\" + 0.021*\"되다\" + 0.021*\"복용\" + 0.018*\"효과\" + 0.015*\"같\" + 0.013*\"미녹시딜\" + 0.013*\"테\" + 0.012*\"달\" + 0.011*\"탈모\" + 0.011*\"아보\" + 0.011*\"처방\" + 0.010*\"없\" + 0.010*\"부작용\" + 0.010*\"받다\" + 0.009*\"바르다\"'),\n",
       " (3,\n",
       "  '0.069*\"모발\" + 0.066*\"이식\" + 0.023*\"하다\" + 0.016*\"돈\" + 0.014*\"있다\" + 0.013*\"수술\" + 0.012*\"사람\" + 0.011*\"좋\" + 0.011*\"쓰다\" + 0.011*\"샴푸\" + 0.009*\"알다\" + 0.008*\"비\" + 0.007*\"추천\" + 0.007*\"생각\" + 0.005*\"절개\" + 0.005*\"가격\" + 0.005*\"디다\" + 0.005*\"구하다\" + 0.005*\"비싸\" + 0.005*\"판시\"'),\n",
       " (4,\n",
       "  '0.039*\"하다\" + 0.029*\"탈모\" + 0.024*\"머리\" + 0.017*\"때\" + 0.016*\"없\" + 0.015*\"보다\" + 0.014*\"되다\" + 0.013*\"같\" + 0.011*\"쓰다\" + 0.011*\"있다\" + 0.010*\"생각\" + 0.008*\"가다\" + 0.008*\"군대\" + 0.008*\"사람\" + 0.008*\"스트레스\" + 0.007*\"오다\" + 0.007*\"많\" + 0.007*\"친구\" + 0.007*\"다니다\" + 0.007*\"정수리\"')]"
      ]
     },
     "execution_count": 5,
     "metadata": {},
     "output_type": "execute_result"
    }
   ],
   "source": [
    "ldaModel.print_topics(num_words = 20)"
   ]
  },
  {
   "cell_type": "code",
   "execution_count": null,
   "id": "d4869965",
   "metadata": {},
   "outputs": [],
   "source": []
  }
 ],
 "metadata": {
  "kernelspec": {
   "display_name": "BigDataUtilization2022",
   "language": "python",
   "name": "bigdatautilization2022"
  },
  "language_info": {
   "codemirror_mode": {
    "name": "ipython",
    "version": 3
   },
   "file_extension": ".py",
   "mimetype": "text/x-python",
   "name": "python",
   "nbconvert_exporter": "python",
   "pygments_lexer": "ipython3",
   "version": "3.9.13"
  }
 },
 "nbformat": 4,
 "nbformat_minor": 5
}
