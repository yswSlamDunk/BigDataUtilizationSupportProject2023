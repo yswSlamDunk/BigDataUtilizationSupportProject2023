{
 "cells": [
  {
   "cell_type": "code",
   "execution_count": 1,
   "id": "f2832f6f",
   "metadata": {},
   "outputs": [],
   "source": [
    "import os\n",
    "import pandas as pd\n",
    "import numpy as np\n",
    "import sys\n",
    "\n",
    "from konlpy.tag import Kkma\n",
    "\n",
    "sys.path.append('..')\n",
    "\n",
    "from Code.config import *\n",
    "from Code.preprocessingSentence import *"
   ]
  },
  {
   "cell_type": "markdown",
   "id": "a58bf0eb",
   "metadata": {},
   "source": [
    "### 문제 List\n",
    "* preprocessingentence 함수는 input sentence의 길이가 일정 수준 이상인 경우, null 값 return\n",
    "    \n",
    "    ```python \n",
    "    preprocessingSentence(df['content'].iloc[9], kkma)\n",
    "    ```"
   ]
  },
  {
   "cell_type": "code",
   "execution_count": null,
   "id": "ee23682e",
   "metadata": {},
   "outputs": [],
   "source": [
    "path = '../Data/Raw/탈모톡톡_19~23세탈모.csv'\n",
    "df = pd.read_csv(path)"
   ]
  },
  {
   "cell_type": "code",
   "execution_count": null,
   "id": "1c05d210",
   "metadata": {},
   "outputs": [],
   "source": [
    "kkma = Kkma()\n",
    "result = df.iloc[:10].apply(lambda x : preprocessingSentence(x['title'] + x['content'], kkma), axis = 1)"
   ]
  },
  {
   "cell_type": "markdown",
   "id": "9cb93210",
   "metadata": {},
   "source": [
    "### 오늘의 할 일\n",
    "* multi-processing\n",
    "    * multi-processing 함수 파라미터 제공\n",
    "    * multi-processing 함수 jupyter notebook 실행\n",
    "* save 함수 생성\n",
    "* 감정분석 :  preprocessingSentence.py: sentimentAnalysis 선언\n",
    "* LDA \n",
    "    * 주요기능\n",
    "        * TF-IDF는 적정 크기의 키워드 수 선택이 필요한 경우 사용(https://wikidocs.net/40710)\n",
    "        * LDA 실행 함수(https://wikidocs.net/30708)\n",
    "            * input\n",
    "                * Corpus:\n",
    "                * Num_topics:\n",
    "                * Id2word:\n",
    "                * Passes:\n",
    "            * output\n",
    "        * LDA 시각화 함수\n",
    "            * pyLDAvis.gensim_models\n",
    "            * parameters\n",
    "                * ldaModel: \n",
    "                * Corpus:\n",
    "                * Dictionary: \n",
    "        * LDA 주요 키워드 도출 함수\n",
    "        * 토픽별 추세 분석 함수\n",
    "        * 토픽별 Pain-Point 분석\n",
    "    * 작동 특징\n",
    "        * ldaAnalysis\n",
    "        * document별 토픽 category 저장\n",
    "        * config.py 생성: parameter 관리\n",
    "* generalAnalysis\n",
    "    * 주요기능\n",
    "        * 전체 분석\n",
    "            * 전체 비율 \n",
    "            * 전체 Trend(시계열)\n",
    "                * 게시글 수\n",
    "                * 작성자 수\n",
    "        * 특정 column별 분석\n",
    "            * column별 비율\n",
    "            * column별 Trend(시계열)\n",
    "                * 게시글 수\n",
    "                * 작성자 수"
   ]
  },
  {
   "cell_type": "code",
   "execution_count": 4,
   "id": "a48b49ea",
   "metadata": {},
   "outputs": [
    {
     "ename": "ModuleNotFoundError",
     "evalue": "No module named 'config'",
     "output_type": "error",
     "traceback": [
      "\u001b[1;31m---------------------------------------------------------------------------\u001b[0m",
      "\u001b[1;31mModuleNotFoundError\u001b[0m                       Traceback (most recent call last)",
      "Cell \u001b[1;32mIn[4], line 11\u001b[0m\n\u001b[0;32m      8\u001b[0m sys\u001b[39m.\u001b[39mpath\u001b[39m.\u001b[39mappend(\u001b[39m'\u001b[39m\u001b[39m..\u001b[39m\u001b[39m'\u001b[39m)\n\u001b[0;32m     10\u001b[0m \u001b[39mfrom\u001b[39;00m \u001b[39mCode\u001b[39;00m\u001b[39m.\u001b[39;00m\u001b[39mconfig\u001b[39;00m \u001b[39mimport\u001b[39;00m \u001b[39m*\u001b[39m\n\u001b[1;32m---> 11\u001b[0m \u001b[39mfrom\u001b[39;00m \u001b[39mCode\u001b[39;00m\u001b[39m.\u001b[39;00m\u001b[39mpreprocessingSentence\u001b[39;00m \u001b[39mimport\u001b[39;00m \u001b[39m*\u001b[39m\n",
      "File \u001b[1;32me:\\BigDataUtilizationSupportProject2023\\데이타플로우\\Jupyter\\..\\Code\\preprocessingSentence.py:15\u001b[0m\n\u001b[0;32m     12\u001b[0m \u001b[39mfrom\u001b[39;00m \u001b[39mkonlpy\u001b[39;00m\u001b[39m.\u001b[39;00m\u001b[39mtag\u001b[39;00m \u001b[39mimport\u001b[39;00m Kkma\n\u001b[0;32m     14\u001b[0m \u001b[39mfrom\u001b[39;00m \u001b[39mmultiprocessing\u001b[39;00m \u001b[39mimport\u001b[39;00m Pool\n\u001b[1;32m---> 15\u001b[0m \u001b[39mfrom\u001b[39;00m \u001b[39mconfig\u001b[39;00m \u001b[39mimport\u001b[39;00m \u001b[39m*\u001b[39m\n\u001b[0;32m     18\u001b[0m \u001b[39mdef\u001b[39;00m \u001b[39mtagging_sentence\u001b[39m(sentence, kkma):\n\u001b[0;32m     19\u001b[0m     pos \u001b[39m=\u001b[39m kkma\u001b[39m.\u001b[39mpos(sentence)\n",
      "\u001b[1;31mModuleNotFoundError\u001b[0m: No module named 'config'"
     ]
    }
   ],
   "source": [
    "import os\n",
    "import pandas as pd\n",
    "import numpy as np\n",
    "import sys\n",
    "\n",
    "from konlpy.tag import Kkma\n",
    "\n",
    "sys.path.append('..')\n",
    "\n",
    "from Code.config import *\n",
    "from Code.preprocessingSentence import *"
   ]
  },
  {
   "cell_type": "code",
   "execution_count": 3,
   "id": "88ebf7ba",
   "metadata": {},
   "outputs": [
    {
     "ename": "UnicodeEncodeError",
     "evalue": "'cp949' codec can't encode character '\\xa0' in position 133: illegal multibyte sequence",
     "output_type": "error",
     "traceback": [
      "\u001b[1;31m---------------------------------------------------------------------------\u001b[0m",
      "\u001b[1;31mRemoteTraceback\u001b[0m                           Traceback (most recent call last)",
      "\u001b[1;31mRemoteTraceback\u001b[0m: \n\"\"\"\nTraceback (most recent call last):\n  File \"c:\\Users\\WESLEYQUEST\\anaconda3\\envs\\BigDataUtilization2023\\Lib\\multiprocessing\\pool.py\", line 125, in worker\n    result = (True, func(*args, **kwds))\n                    ^^^^^^^^^^^^^^^^^^^\n  File \"c:\\Users\\WESLEYQUEST\\anaconda3\\envs\\BigDataUtilization2023\\Lib\\multiprocessing\\pool.py\", line 48, in mapstar\n    return list(map(*args))\n           ^^^^^^^^^^^^^^^^\n  File \"e:\\BigDataUtilizationSupportProject2023\\데이타플로우\\Jupyter\\..\\Code\\preprocessingSentence.py\", line 115, in savePreprocessingSentence\n    pd.concat([row.to_frame().T, addDataFrame], axis = 1).to_csv(config['outputPath'],\n  File \"c:\\Users\\WESLEYQUEST\\anaconda3\\envs\\BigDataUtilization2023\\Lib\\site-packages\\pandas\\util\\_decorators.py\", line 211, in wrapper\n    return func(*args, **kwargs)\n           ^^^^^^^^^^^^^^^^^^^^^\n  File \"c:\\Users\\WESLEYQUEST\\anaconda3\\envs\\BigDataUtilization2023\\Lib\\site-packages\\pandas\\core\\generic.py\", line 3720, in to_csv\n    return DataFrameRenderer(formatter).to_csv(\n           ^^^^^^^^^^^^^^^^^^^^^^^^^^^^^^^^^^^^\n  File \"c:\\Users\\WESLEYQUEST\\anaconda3\\envs\\BigDataUtilization2023\\Lib\\site-packages\\pandas\\util\\_decorators.py\", line 211, in wrapper\n    return func(*args, **kwargs)\n           ^^^^^^^^^^^^^^^^^^^^^\n  File \"c:\\Users\\WESLEYQUEST\\anaconda3\\envs\\BigDataUtilization2023\\Lib\\site-packages\\pandas\\io\\formats\\format.py\", line 1189, in to_csv\n    csv_formatter.save()\n  File \"c:\\Users\\WESLEYQUEST\\anaconda3\\envs\\BigDataUtilization2023\\Lib\\site-packages\\pandas\\io\\formats\\csvs.py\", line 261, in save\n    self._save()\n  File \"c:\\Users\\WESLEYQUEST\\anaconda3\\envs\\BigDataUtilization2023\\Lib\\site-packages\\pandas\\io\\formats\\csvs.py\", line 266, in _save\n    self._save_body()\n  File \"c:\\Users\\WESLEYQUEST\\anaconda3\\envs\\BigDataUtilization2023\\Lib\\site-packages\\pandas\\io\\formats\\csvs.py\", line 304, in _save_body\n    self._save_chunk(start_i, end_i)\n  File \"c:\\Users\\WESLEYQUEST\\anaconda3\\envs\\BigDataUtilization2023\\Lib\\site-packages\\pandas\\io\\formats\\csvs.py\", line 315, in _save_chunk\n    libwriters.write_csv_rows(\n  File \"pandas\\_libs\\writers.pyx\", line 75, in pandas._libs.writers.write_csv_rows\nUnicodeEncodeError: 'cp949' codec can't encode character '\\xa0' in position 133: illegal multibyte sequence\n\"\"\"",
      "\nThe above exception was the direct cause of the following exception:\n",
      "\u001b[1;31mUnicodeEncodeError\u001b[0m                        Traceback (most recent call last)",
      "Cell \u001b[1;32mIn[3], line 1\u001b[0m\n\u001b[1;32m----> 1\u001b[0m parallelPreprocessing(config[\u001b[39m'\u001b[39;49m\u001b[39m19~23세 탈모\u001b[39;49m\u001b[39m'\u001b[39;49m])\n",
      "File \u001b[1;32me:\\BigDataUtilizationSupportProject2023\\데이타플로우\\Jupyter\\..\\Code\\preprocessingSentence.py:152\u001b[0m, in \u001b[0;36mparallelPreprocessing\u001b[1;34m(config, n_cores)\u001b[0m\n\u001b[0;32m    150\u001b[0m df_split \u001b[39m=\u001b[39m np\u001b[39m.\u001b[39marray_split(df, n_cores)\n\u001b[0;32m    151\u001b[0m pool \u001b[39m=\u001b[39m Pool(processes \u001b[39m=\u001b[39m n_cores)\n\u001b[1;32m--> 152\u001b[0m pool\u001b[39m.\u001b[39;49mmap(savePreprocessingSentence, \u001b[39mzip\u001b[39;49m(df_split, [config] \u001b[39m*\u001b[39;49m n_cores))\n\u001b[0;32m    153\u001b[0m pool\u001b[39m.\u001b[39mclose()\n\u001b[0;32m    154\u001b[0m pool\u001b[39m.\u001b[39mjoin()\n",
      "File \u001b[1;32mc:\\Users\\WESLEYQUEST\\anaconda3\\envs\\BigDataUtilization2023\\Lib\\multiprocessing\\pool.py:367\u001b[0m, in \u001b[0;36mPool.map\u001b[1;34m(self, func, iterable, chunksize)\u001b[0m\n\u001b[0;32m    362\u001b[0m \u001b[39mdef\u001b[39;00m \u001b[39mmap\u001b[39m(\u001b[39mself\u001b[39m, func, iterable, chunksize\u001b[39m=\u001b[39m\u001b[39mNone\u001b[39;00m):\n\u001b[0;32m    363\u001b[0m \u001b[39m    \u001b[39m\u001b[39m'''\u001b[39;00m\n\u001b[0;32m    364\u001b[0m \u001b[39m    Apply `func` to each element in `iterable`, collecting the results\u001b[39;00m\n\u001b[0;32m    365\u001b[0m \u001b[39m    in a list that is returned.\u001b[39;00m\n\u001b[0;32m    366\u001b[0m \u001b[39m    '''\u001b[39;00m\n\u001b[1;32m--> 367\u001b[0m     \u001b[39mreturn\u001b[39;00m \u001b[39mself\u001b[39;49m\u001b[39m.\u001b[39;49m_map_async(func, iterable, mapstar, chunksize)\u001b[39m.\u001b[39;49mget()\n",
      "File \u001b[1;32mc:\\Users\\WESLEYQUEST\\anaconda3\\envs\\BigDataUtilization2023\\Lib\\multiprocessing\\pool.py:774\u001b[0m, in \u001b[0;36mApplyResult.get\u001b[1;34m(self, timeout)\u001b[0m\n\u001b[0;32m    772\u001b[0m     \u001b[39mreturn\u001b[39;00m \u001b[39mself\u001b[39m\u001b[39m.\u001b[39m_value\n\u001b[0;32m    773\u001b[0m \u001b[39melse\u001b[39;00m:\n\u001b[1;32m--> 774\u001b[0m     \u001b[39mraise\u001b[39;00m \u001b[39mself\u001b[39m\u001b[39m.\u001b[39m_value\n",
      "\u001b[1;31mUnicodeEncodeError\u001b[0m: 'cp949' codec can't encode character '\\xa0' in position 133: illegal multibyte sequence"
     ]
    }
   ],
   "source": [
    "parallelPreprocessing(config['19~23세 탈모'])"
   ]
  },
  {
   "cell_type": "code",
   "execution_count": null,
   "id": "658492a2",
   "metadata": {},
   "outputs": [],
   "source": []
  },
  {
   "cell_type": "code",
   "execution_count": 3,
   "id": "24e30436",
   "metadata": {},
   "outputs": [
    {
     "ename": "NameError",
     "evalue": "name 'pd' is not defined",
     "output_type": "error",
     "traceback": [
      "\u001b[1;31m---------------------------------------------------------------------------\u001b[0m",
      "\u001b[1;31mNameError\u001b[0m                                 Traceback (most recent call last)",
      "Cell \u001b[1;32mIn[3], line 1\u001b[0m\n\u001b[1;32m----> 1\u001b[0m tmp \u001b[39m=\u001b[39m pd\u001b[39m.\u001b[39mDataFrame({\u001b[39m'\u001b[39m\u001b[39ma\u001b[39m\u001b[39m'\u001b[39m : [\u001b[39m1\u001b[39m, np\u001b[39m.\u001b[39mnan, \u001b[39m2\u001b[39m, np\u001b[39m.\u001b[39mnan],\n\u001b[0;32m      2\u001b[0m                     \u001b[39m'\u001b[39m\u001b[39mb\u001b[39m\u001b[39m'\u001b[39m : [\u001b[39m'\u001b[39m\u001b[39ma\u001b[39m\u001b[39m'\u001b[39m, \u001b[39m'\u001b[39m\u001b[39mb\u001b[39m\u001b[39m'\u001b[39m, np\u001b[39m.\u001b[39mnan, np\u001b[39m.\u001b[39mnan]})\n",
      "\u001b[1;31mNameError\u001b[0m: name 'pd' is not defined"
     ]
    }
   ],
   "source": [
    "tmp = pd.DataFrame({'a' : [1, np.nan, 2, np.nan],\n",
    "                    'b' : ['a', 'b', np.nan, np.nan]})"
   ]
  },
  {
   "cell_type": "code",
   "execution_count": 2,
   "id": "e8e572e5",
   "metadata": {},
   "outputs": [
    {
     "ename": "NameError",
     "evalue": "name 'tmp' is not defined",
     "output_type": "error",
     "traceback": [
      "\u001b[1;31m---------------------------------------------------------------------------\u001b[0m",
      "\u001b[1;31mNameError\u001b[0m                                 Traceback (most recent call last)",
      "Cell \u001b[1;32mIn[2], line 1\u001b[0m\n\u001b[1;32m----> 1\u001b[0m tmp\n",
      "\u001b[1;31mNameError\u001b[0m: name 'tmp' is not defined"
     ]
    }
   ],
   "source": [
    "tmp"
   ]
  },
  {
   "cell_type": "code",
   "execution_count": null,
   "id": "56ab23a3",
   "metadata": {},
   "outputs": [],
   "source": []
  },
  {
   "cell_type": "code",
   "execution_count": null,
   "id": "01cdc168",
   "metadata": {},
   "outputs": [],
   "source": []
  }
 ],
 "metadata": {
  "kernelspec": {
   "display_name": "BigDataUtilization2023",
   "language": "python",
   "name": "python3"
  },
  "language_info": {
   "codemirror_mode": {
    "name": "ipython",
    "version": 3
   },
   "file_extension": ".py",
   "mimetype": "text/x-python",
   "name": "python",
   "nbconvert_exporter": "python",
   "pygments_lexer": "ipython3",
   "version": "3.11.4"
  }
 },
 "nbformat": 4,
 "nbformat_minor": 5
}
