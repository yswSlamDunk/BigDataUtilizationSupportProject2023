{
 "cells": [
  {
   "cell_type": "code",
   "execution_count": 6,
   "id": "fb1a1450",
   "metadata": {},
   "outputs": [],
   "source": [
    "import os\n",
    "import pandas as pd\n",
    "import numpy as np\n",
    "\n",
    "import zipfile"
   ]
  },
  {
   "cell_type": "code",
   "execution_count": 14,
   "id": "3073e9cc",
   "metadata": {},
   "outputs": [],
   "source": [
    "# with zipfile.ZipFile('../Data/메타데이터_데이타플로우(2021-10-15).zip', 'r') as zip_ref:\n",
    "#     zip_ref.extractall('../Data/메타데이터_데이타플로우')"
   ]
  },
  {
   "cell_type": "code",
   "execution_count": 13,
   "id": "cda498db",
   "metadata": {},
   "outputs": [
    {
     "name": "stdout",
     "output_type": "stream",
     "text": [
      "Error extracting ZIP file: Bad CRC-32 for file 's4_219_d.png'\n"
     ]
    }
   ],
   "source": [
    "# zip_file_path = '../Data/최종납품데이터_데이타플로우(2021-10-15).zip'\n",
    "# extraction_dir = '../Data/최종납품데이터_데이타플로우'\n",
    "\n",
    "# try:\n",
    "#     with zipfile.ZipFile(zip_file_path, 'r') as zip_ref:\n",
    "#         for member in zip_ref.infolist():\n",
    "#             zip_ref.extract(member, extraction_dir)\n",
    "# except zipfile.BadZipFile as e:\n",
    "#     print(f\"Error extracting ZIP file: {e}\")\n",
    "# except Exception as e:\n",
    "#     print(f\"An error occurred: {e}\")"
   ]
  },
  {
   "cell_type": "code",
   "execution_count": null,
   "id": "8b6e3983",
   "metadata": {},
   "outputs": [],
   "source": []
  }
 ],
 "metadata": {
  "kernelspec": {
   "display_name": "sw",
   "language": "python",
   "name": "sw"
  },
  "language_info": {
   "codemirror_mode": {
    "name": "ipython",
    "version": 3
   },
   "file_extension": ".py",
   "mimetype": "text/x-python",
   "name": "python",
   "nbconvert_exporter": "python",
   "pygments_lexer": "ipython3",
   "version": "3.7.4"
  }
 },
 "nbformat": 4,
 "nbformat_minor": 5
}
