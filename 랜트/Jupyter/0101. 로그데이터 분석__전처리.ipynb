{
 "cells": [
  {
   "cell_type": "code",
   "execution_count": 1,
   "metadata": {},
   "outputs": [],
   "source": [
    "import os\n",
    "import pandas as pd\n",
    "import numpy as np"
   ]
  },
  {
   "cell_type": "code",
   "execution_count": 12,
   "metadata": {},
   "outputs": [
    {
     "name": "stderr",
     "output_type": "stream",
     "text": [
      "C:\\Users\\WESLEYQUEST\\AppData\\Local\\Temp\\ipykernel_23116\\3305892512.py:4: DtypeWarning: Columns (5,6,7,8) have mixed types. Specify dtype option on import or set low_memory=False.\n",
      "  df_inner = pd.read_csv(path_inner)\n"
     ]
    }
   ],
   "source": [
    "path_inner = '../Data/Preprocessed/Log/내부.csv'\n",
    "path_out = '../Data/Preprocessed/Log/외부.csv'\n",
    "\n",
    "df_inner = pd.read_csv(path_inner)\n",
    "df_out = pd.read_csv(path_out)\n",
    "\n",
    "df_origin = pd.concat([df_inner, df_out], axis = 0)\n",
    "df_origin = df_origin.drop(columns = [df_origin.columns[0]] + df_origin.columns[-6:-4].to_list())\n",
    "# df_origin.to_csv('../Data/Preprocessed/innerOut.csv', index = False, encoding = 'utf-8-sig', escapechar = '\\\\')"
   ]
  },
  {
   "cell_type": "code",
   "execution_count": 9,
   "metadata": {},
   "outputs": [
    {
     "name": "stderr",
     "output_type": "stream",
     "text": [
      "C:\\Users\\WESLEYQUEST\\AppData\\Local\\Temp\\ipykernel_22556\\1151644520.py:3: DtypeWarning: Columns (4,5,6,7) have mixed types. Specify dtype option on import or set low_memory=False.\n",
      "  df_origin = pd.read_csv(path)\n"
     ]
    }
   ],
   "source": [
    "path = '../Data/Preprocessed/innerOut.csv'\n",
    "\n",
    "df_origin = pd.read_csv(path)"
   ]
  },
  {
   "cell_type": "code",
   "execution_count": 10,
   "metadata": {},
   "outputs": [
    {
     "data": {
      "text/html": [
       "<div>\n",
       "<style scoped>\n",
       "    .dataframe tbody tr th:only-of-type {\n",
       "        vertical-align: middle;\n",
       "    }\n",
       "\n",
       "    .dataframe tbody tr th {\n",
       "        vertical-align: top;\n",
       "    }\n",
       "\n",
       "    .dataframe thead th {\n",
       "        text-align: right;\n",
       "    }\n",
       "</style>\n",
       "<table border=\"1\" class=\"dataframe\">\n",
       "  <thead>\n",
       "    <tr style=\"text-align: right;\">\n",
       "      <th></th>\n",
       "      <th>Timestamp</th>\n",
       "      <th>IP</th>\n",
       "      <th>URL</th>\n",
       "      <th>Category</th>\n",
       "      <th>URL Search Word</th>\n",
       "      <th>Referer</th>\n",
       "      <th>Referer Search Word</th>\n",
       "      <th>Referer Source</th>\n",
       "      <th>Referer Category</th>\n",
       "      <th>Referer Content Type</th>\n",
       "      <th>User Agent</th>\n",
       "      <th>Device</th>\n",
       "      <th>New IP</th>\n",
       "      <th>New Category</th>\n",
       "      <th>User Type</th>\n",
       "      <th>month</th>\n",
       "      <th>day</th>\n",
       "      <th>hour</th>\n",
       "    </tr>\n",
       "  </thead>\n",
       "  <tbody>\n",
       "    <tr>\n",
       "      <th>0</th>\n",
       "      <td>2022-08-01 14:30:55+09:00</td>\n",
       "      <td>1.220.249.83</td>\n",
       "      <td>lafent.com/jobse/job_view.html?mcd=C01&amp;idx=24596</td>\n",
       "      <td>jobs</td>\n",
       "      <td>NaN</td>\n",
       "      <td>NaN</td>\n",
       "      <td>NaN</td>\n",
       "      <td>NaN</td>\n",
       "      <td>etc</td>\n",
       "      <td>etc</td>\n",
       "      <td>Mozilla/5.0 (Linux; Android 12; SM-A908N Build...</td>\n",
       "      <td>android</td>\n",
       "      <td>10</td>\n",
       "      <td>jobs</td>\n",
       "      <td>내부</td>\n",
       "      <td>8</td>\n",
       "      <td>1</td>\n",
       "      <td>14</td>\n",
       "    </tr>\n",
       "    <tr>\n",
       "      <th>1</th>\n",
       "      <td>2022-08-01 14:32:14+09:00</td>\n",
       "      <td>1.220.249.83</td>\n",
       "      <td>lafent.com/jobse/job_view.html?mcd=C01&amp;idx=23934</td>\n",
       "      <td>jobs</td>\n",
       "      <td>NaN</td>\n",
       "      <td>NaN</td>\n",
       "      <td>NaN</td>\n",
       "      <td>NaN</td>\n",
       "      <td>etc</td>\n",
       "      <td>etc</td>\n",
       "      <td>Mozilla/5.0 (Linux; Android 12; SM-A908N Build...</td>\n",
       "      <td>android</td>\n",
       "      <td>10</td>\n",
       "      <td>jobs</td>\n",
       "      <td>내부</td>\n",
       "      <td>8</td>\n",
       "      <td>1</td>\n",
       "      <td>14</td>\n",
       "    </tr>\n",
       "  </tbody>\n",
       "</table>\n",
       "</div>"
      ],
      "text/plain": [
       "                   Timestamp            IP  \\\n",
       "0  2022-08-01 14:30:55+09:00  1.220.249.83   \n",
       "1  2022-08-01 14:32:14+09:00  1.220.249.83   \n",
       "\n",
       "                                                URL Category URL Search Word  \\\n",
       "0  lafent.com/jobse/job_view.html?mcd=C01&idx=24596     jobs             NaN   \n",
       "1  lafent.com/jobse/job_view.html?mcd=C01&idx=23934     jobs             NaN   \n",
       "\n",
       "  Referer Referer Search Word Referer Source Referer Category  \\\n",
       "0     NaN                 NaN            NaN              etc   \n",
       "1     NaN                 NaN            NaN              etc   \n",
       "\n",
       "  Referer Content Type                                         User Agent  \\\n",
       "0                  etc  Mozilla/5.0 (Linux; Android 12; SM-A908N Build...   \n",
       "1                  etc  Mozilla/5.0 (Linux; Android 12; SM-A908N Build...   \n",
       "\n",
       "    Device  New IP New Category User Type  month  day  hour  \n",
       "0  android      10         jobs        내부      8    1    14  \n",
       "1  android      10         jobs        내부      8    1    14  "
      ]
     },
     "execution_count": 10,
     "metadata": {},
     "output_type": "execute_result"
    }
   ],
   "source": [
    "df_origin.head(2)"
   ]
  },
  {
   "cell_type": "markdown",
   "metadata": {},
   "source": [
    "# 경로 설정"
   ]
  },
  {
   "cell_type": "code",
   "execution_count": 11,
   "metadata": {},
   "outputs": [],
   "source": [
    "path_df = pd.read_excel('../Data/Raw/path.xlsx')\n",
    "path_df = path_df.fillna(method = 'ffill')"
   ]
  },
  {
   "cell_type": "code",
   "execution_count": 12,
   "metadata": {},
   "outputs": [
    {
     "data": {
      "text/html": [
       "<div>\n",
       "<style scoped>\n",
       "    .dataframe tbody tr th:only-of-type {\n",
       "        vertical-align: middle;\n",
       "    }\n",
       "\n",
       "    .dataframe tbody tr th {\n",
       "        vertical-align: top;\n",
       "    }\n",
       "\n",
       "    .dataframe thead th {\n",
       "        text-align: right;\n",
       "    }\n",
       "</style>\n",
       "<table border=\"1\" class=\"dataframe\">\n",
       "  <thead>\n",
       "    <tr style=\"text-align: right;\">\n",
       "      <th></th>\n",
       "      <th>Category1</th>\n",
       "      <th>Category2</th>\n",
       "      <th>Category3</th>\n",
       "      <th>Path</th>\n",
       "    </tr>\n",
       "  </thead>\n",
       "  <tbody>\n",
       "    <tr>\n",
       "      <th>0</th>\n",
       "      <td>메인</td>\n",
       "      <td>메인</td>\n",
       "      <td>메인</td>\n",
       "      <td>/</td>\n",
       "    </tr>\n",
       "    <tr>\n",
       "      <th>1</th>\n",
       "      <td>뉴스</td>\n",
       "      <td>뉴스홈</td>\n",
       "      <td>뉴스홈</td>\n",
       "      <td>/inews/index.html</td>\n",
       "    </tr>\n",
       "    <tr>\n",
       "      <th>2</th>\n",
       "      <td>뉴스</td>\n",
       "      <td>전체/주요뉴스</td>\n",
       "      <td>전체/주요뉴스메인</td>\n",
       "      <td>/inews/news_list.html?mcd=A01</td>\n",
       "    </tr>\n",
       "    <tr>\n",
       "      <th>3</th>\n",
       "      <td>뉴스</td>\n",
       "      <td>전체/주요뉴스</td>\n",
       "      <td>최신 주요뉴스</td>\n",
       "      <td>/inews/news_list.html?mcd=A02</td>\n",
       "    </tr>\n",
       "    <tr>\n",
       "      <th>4</th>\n",
       "      <td>뉴스</td>\n",
       "      <td>전체/주요뉴스</td>\n",
       "      <td>일반조경</td>\n",
       "      <td>/inews/news_list.html?mcd=A03</td>\n",
       "    </tr>\n",
       "    <tr>\n",
       "      <th>5</th>\n",
       "      <td>뉴스</td>\n",
       "      <td>전체/주요뉴스</td>\n",
       "      <td>생태복원/녹화</td>\n",
       "      <td>/inews/news_list.html?mcd=A04</td>\n",
       "    </tr>\n",
       "    <tr>\n",
       "      <th>6</th>\n",
       "      <td>뉴스</td>\n",
       "      <td>전체/주요뉴스</td>\n",
       "      <td>전통조경/명승</td>\n",
       "      <td>/inews/news_list.html?mcd=A05</td>\n",
       "    </tr>\n",
       "    <tr>\n",
       "      <th>7</th>\n",
       "      <td>뉴스</td>\n",
       "      <td>전체/주요뉴스</td>\n",
       "      <td>도시농업/정원/옥상</td>\n",
       "      <td>/inews/news_list.html?mcd=A06</td>\n",
       "    </tr>\n",
       "    <tr>\n",
       "      <th>8</th>\n",
       "      <td>뉴스</td>\n",
       "      <td>전체/주요뉴스</td>\n",
       "      <td>경관/도시계획</td>\n",
       "      <td>/inews/news_list.html?mcd=A07</td>\n",
       "    </tr>\n",
       "    <tr>\n",
       "      <th>9</th>\n",
       "      <td>뉴스</td>\n",
       "      <td>전체/주요뉴스</td>\n",
       "      <td>공공디자인/건축</td>\n",
       "      <td>/inews/news_list.html?mcd=A08</td>\n",
       "    </tr>\n",
       "  </tbody>\n",
       "</table>\n",
       "</div>"
      ],
      "text/plain": [
       "  Category1 Category2   Category3                           Path\n",
       "0        메인        메인          메인                              /\n",
       "1        뉴스       뉴스홈         뉴스홈              /inews/index.html\n",
       "2        뉴스   전체/주요뉴스   전체/주요뉴스메인  /inews/news_list.html?mcd=A01\n",
       "3        뉴스   전체/주요뉴스     최신 주요뉴스  /inews/news_list.html?mcd=A02\n",
       "4        뉴스   전체/주요뉴스        일반조경  /inews/news_list.html?mcd=A03\n",
       "5        뉴스   전체/주요뉴스     생태복원/녹화  /inews/news_list.html?mcd=A04\n",
       "6        뉴스   전체/주요뉴스     전통조경/명승  /inews/news_list.html?mcd=A05\n",
       "7        뉴스   전체/주요뉴스  도시농업/정원/옥상  /inews/news_list.html?mcd=A06\n",
       "8        뉴스   전체/주요뉴스     경관/도시계획  /inews/news_list.html?mcd=A07\n",
       "9        뉴스   전체/주요뉴스    공공디자인/건축  /inews/news_list.html?mcd=A08"
      ]
     },
     "execution_count": 12,
     "metadata": {},
     "output_type": "execute_result"
    }
   ],
   "source": [
    "path_df.head(10)"
   ]
  },
  {
   "cell_type": "code",
   "execution_count": 14,
   "metadata": {},
   "outputs": [
    {
     "data": {
      "text/plain": [
       "128"
      ]
     },
     "execution_count": 14,
     "metadata": {},
     "output_type": "execute_result"
    }
   ],
   "source": [
    "path_df['Category2'].nunique()"
   ]
  },
  {
   "cell_type": "code",
   "execution_count": 15,
   "metadata": {},
   "outputs": [
    {
     "data": {
      "text/plain": [
       "27"
      ]
     },
     "execution_count": 15,
     "metadata": {},
     "output_type": "execute_result"
    }
   ],
   "source": [
    "path_df['Category1'].nunique()"
   ]
  },
  {
   "cell_type": "code",
   "execution_count": 16,
   "metadata": {},
   "outputs": [
    {
     "data": {
      "text/plain": [
       "Category1\n",
       "e-아카데미            9\n",
       "e-아카데미\\n주문관리      3\n",
       "e-아카데미 cs게시판      1\n",
       "e-아카데미 게시판관리      3\n",
       "e-아카데미 교육과정관리     7\n",
       "e-아카데미 교재관리       2\n",
       "e-아카데미 사용자관리      9\n",
       "e-아카데미 사이트관리      7\n",
       "e-아카데미 설문관리       1\n",
       "e-아카데미 운영설정      14\n",
       "e-아카데미 프로모션       2\n",
       "검색                8\n",
       "고객센터              6\n",
       "관리자콘텐츠            9\n",
       "관리자홈              1\n",
       "뉴스                8\n",
       "대시보드              1\n",
       "마이페이지             8\n",
       "매거진               6\n",
       "메인                1\n",
       "스마트홈페이지 관리자       1\n",
       "작품/조경수/자재         9\n",
       "채용/인재             7\n",
       "커뮤니티              6\n",
       "포토갤러리             7\n",
       "회원서비스             3\n",
       "회원정보              3\n",
       "Name: Category2, dtype: int64"
      ]
     },
     "execution_count": 16,
     "metadata": {},
     "output_type": "execute_result"
    }
   ],
   "source": [
    "path_df.groupby(['Category1'])['Category2'].nunique()"
   ]
  },
  {
   "cell_type": "code",
   "execution_count": null,
   "metadata": {},
   "outputs": [],
   "source": []
  },
  {
   "cell_type": "code",
   "execution_count": null,
   "metadata": {},
   "outputs": [],
   "source": []
  }
 ],
 "metadata": {
  "kernelspec": {
   "display_name": "BigDataUtilization2023",
   "language": "python",
   "name": "bigdatautilization2023"
  },
  "language_info": {
   "codemirror_mode": {
    "name": "ipython",
    "version": 3
   },
   "file_extension": ".py",
   "mimetype": "text/x-python",
   "name": "python",
   "nbconvert_exporter": "python",
   "pygments_lexer": "ipython3",
   "version": "3.11.4"
  },
  "orig_nbformat": 4
 },
 "nbformat": 4,
 "nbformat_minor": 2
}
