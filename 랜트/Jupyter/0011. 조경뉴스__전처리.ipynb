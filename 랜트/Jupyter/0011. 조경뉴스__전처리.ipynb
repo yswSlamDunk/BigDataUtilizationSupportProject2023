{
 "cells": [
  {
   "cell_type": "code",
   "execution_count": 14,
   "metadata": {},
   "outputs": [],
   "source": [
    "import numpy \n",
    "import pandas as pd\n",
    "import numpy as np\n",
    "import re\n",
    "\n",
    "import sys\n",
    "# sys.path.append('../Code/')\n",
    "sys.path.append('..')\n",
    "\n",
    "from konlpy.tag import Okt, Kkma\n",
    "from Code.preprocessingSentence import *\n",
    "\n",
    "from tqdm import tqdm\n",
    "tqdm.pandas()"
   ]
  },
  {
   "cell_type": "markdown",
   "metadata": {},
   "source": [
    "### 진행사항\n",
    "* 2010년 이후에 작성된 news만 사용"
   ]
  },
  {
   "cell_type": "code",
   "execution_count": 15,
   "metadata": {},
   "outputs": [],
   "source": [
    "config = {'addtionalColumns' : ['totalComment', 'preprocessedSentence', 'keyword', 'sentimentResult'],\n",
    "          'inputPath' : '../Data/Preprocessed/조경뉴스.csv',\n",
    "          'outputPath' : '../Data/Preprocessed/조경뉴스_keywords.csv'}"
   ]
  },
  {
   "cell_type": "code",
   "execution_count": 16,
   "metadata": {},
   "outputs": [],
   "source": [
    "df_origin = pd.read_csv(config['inputPath'])\n",
    "df_origin['date'] = pd.to_datetime(df_origin['date'])\n",
    "\n",
    "condition_date = df_origin['date'] > '2020'\n",
    "\n",
    "df_origin = df_origin[condition_date]\n",
    "df_origin['sub-title'] = df_origin['sub-title'].fillna('')\n",
    "df_origin['totalComment'] = df_origin['title'] + df_origin['sub-title'] + df_origin['text']"
   ]
  },
  {
   "cell_type": "code",
   "execution_count": 17,
   "metadata": {},
   "outputs": [],
   "source": [
    "if not os.path.isfile(config['outputPath']):\n",
    "        pd.DataFrame(columns = list(df_origin.columns) + config['addtionalColumns'][1:]).to_csv(config['outputPath'] , \n",
    "                                                                                                header = True, \n",
    "                                                                                                index = False,\n",
    "                                                                                                encoding = 'utf-8-sig',\n",
    "                                                                                                escapechar = '\\\\')"
   ]
  },
  {
   "cell_type": "code",
   "execution_count": 18,
   "metadata": {},
   "outputs": [
    {
     "name": "stderr",
     "output_type": "stream",
     "text": [
      "7063it [1:24:10,  1.40it/s]\n"
     ]
    }
   ],
   "source": [
    "# okt = Okt()\n",
    "kkma = Kkma()\n",
    "\n",
    "for i, row in tqdm(df_origin.iterrows()):\n",
    "    try:\n",
    "        sentence, result, sentimentResult = preprocessingSentence(row[config['addtionalColumns'][0]], kkma)\n",
    "    except:\n",
    "        continue\n",
    "\n",
    "    addDataFrame = pd.DataFrame({config['addtionalColumns'][1]: sentence,\n",
    "                                 config['addtionalColumns'][2]: [result],\n",
    "                                 config['addtionalColumns'][3]: sentimentResult},\n",
    "                                 index = [i])\n",
    "    concat_df = row.to_frame().T\n",
    "    concat_df = concat_df.reindex([i])\n",
    "    pd.concat([concat_df, addDataFrame], axis = 1, ignore_index = True).to_csv(config['outputPath'], \n",
    "                                                                                index = False,\n",
    "                                                                                header = False,\n",
    "                                                                                mode = 'a',\n",
    "                                                                                encoding = 'utf-8-sig',\n",
    "                                                                                escapechar = '\\\\')\n"
   ]
  },
  {
   "cell_type": "code",
   "execution_count": null,
   "metadata": {},
   "outputs": [],
   "source": []
  }
 ],
 "metadata": {
  "kernelspec": {
   "display_name": "BigDataUtilization2023",
   "language": "python",
   "name": "bigdatautilization2023"
  },
  "language_info": {
   "codemirror_mode": {
    "name": "ipython",
    "version": 3
   },
   "file_extension": ".py",
   "mimetype": "text/x-python",
   "name": "python",
   "nbconvert_exporter": "python",
   "pygments_lexer": "ipython3",
   "version": "3.9.13"
  },
  "orig_nbformat": 4
 },
 "nbformat": 4,
 "nbformat_minor": 2
}
