{
 "cells": [
  {
   "cell_type": "code",
   "execution_count": 1,
   "metadata": {},
   "outputs": [],
   "source": [
    "import numpy \n",
    "import pandas as pd\n",
    "import numpy as np\n",
    "import re\n",
    "\n",
    "import sys\n",
    "# sys.path.append('../Code/')\n",
    "sys.path.append('..')\n",
    "\n",
    "from Code.preprocessingSentence import *\n",
    "\n",
    "from tqdm import tqdm\n",
    "tqdm.pandas()"
   ]
  },
  {
   "cell_type": "markdown",
   "metadata": {},
   "source": [
    "### 진행사항\n",
    "* 2010년 이후에 작성된 news만 사용\n",
    "* "
   ]
  },
  {
   "cell_type": "code",
   "execution_count": 9,
   "metadata": {},
   "outputs": [],
   "source": [
    "config = {'addtionalColumns' : ['totalComment', 'preprocessedSentence', 'keyword', 'sentimentResult'],\n",
    "          'inputPath' : '../Data/Preprocessed/조경뉴스.csv',\n",
    "          'outputPath' : '../Data/Preprocessed/조경뉴스_keywords.csv'}"
   ]
  },
  {
   "cell_type": "code",
   "execution_count": 3,
   "metadata": {},
   "outputs": [],
   "source": [
    "df_origin = pd.read_csv(config['inputPath'])\n",
    "df_origin['date'] = pd.to_datetime(df_origin['date'])\n",
    "\n",
    "condition_date = df_origin['date'] > '2020'\n",
    "\n",
    "df_origin = df_origin[condition_date]\n",
    "df_origin['sub-title'] = df_origin['sub-title'].fillna('')\n",
    "df_origin['totalComment'] = df_origin['title'] + df_origin['sub-title'] + df_origin['text']"
   ]
  },
  {
   "cell_type": "code",
   "execution_count": null,
   "metadata": {},
   "outputs": [],
   "source": []
  },
  {
   "cell_type": "code",
   "execution_count": null,
   "metadata": {},
   "outputs": [],
   "source": []
  },
  {
   "cell_type": "code",
   "execution_count": null,
   "metadata": {},
   "outputs": [],
   "source": []
  },
  {
   "cell_type": "code",
   "execution_count": null,
   "metadata": {},
   "outputs": [],
   "source": []
  },
  {
   "cell_type": "code",
   "execution_count": null,
   "metadata": {},
   "outputs": [],
   "source": []
  },
  {
   "cell_type": "code",
   "execution_count": 4,
   "metadata": {},
   "outputs": [
    {
     "name": "stderr",
     "output_type": "stream",
     "text": [
      "  0%|          | 0/10 [00:00<?, ?it/s][Kss]: Because there's no supported C++ morpheme analyzer, Kss will take pecab as a backend. :D\n",
      "For your information, Kss also supports mecab backend.\n",
      "We recommend you to install mecab or konlpy.tag.Mecab for faster execution of Kss.\n",
      "Please refer to following web sites for details:\n",
      "- mecab: https://cleancode-ws.tistory.com/97\n",
      "- konlpy.tag.Mecab: https://uwgdqo.tistory.com/363\n",
      "\n",
      "100%|██████████| 10/10 [02:20<00:00, 14.03s/it]\n"
     ]
    }
   ],
   "source": [
    "kkma = Kkma()\n",
    "tmp = pd.DataFrame()\n",
    "\n",
    "tmp = df_origin.iloc[:10, :].progress_apply(lambda x : preprocessingSentence(x['totalComment'], kkma),\n",
    "                                                        axis= 1,\n",
    "                                                        result_type = 'expand')"
   ]
  },
  {
   "cell_type": "code",
   "execution_count": 5,
   "metadata": {},
   "outputs": [
    {
     "data": {
      "text/html": [
       "<div>\n",
       "<style scoped>\n",
       "    .dataframe tbody tr th:only-of-type {\n",
       "        vertical-align: middle;\n",
       "    }\n",
       "\n",
       "    .dataframe tbody tr th {\n",
       "        vertical-align: top;\n",
       "    }\n",
       "\n",
       "    .dataframe thead th {\n",
       "        text-align: right;\n",
       "    }\n",
       "</style>\n",
       "<table border=\"1\" class=\"dataframe\">\n",
       "  <thead>\n",
       "    <tr style=\"text-align: right;\">\n",
       "      <th></th>\n",
       "      <th>0</th>\n",
       "      <th>1</th>\n",
       "      <th>2</th>\n",
       "    </tr>\n",
       "  </thead>\n",
       "  <tbody>\n",
       "    <tr>\n",
       "      <th>1</th>\n",
       "      <td>2022년 올해의 정원식물은?2022 대한민국 정원식물 전시품평회 성료2022 대한...</td>\n",
       "      <td>[올해, 정원, 식물, 대한민국, 정원, 식물, 전시, 품평회, 성, 대한민국, 정...</td>\n",
       "      <td>NaN</td>\n",
       "    </tr>\n",
       "    <tr>\n",
       "      <th>2</th>\n",
       "      <td>골목길 주제 도시재생세미나 30일 개최김선아 대표김영욱 교수 주제발표한국건축가협회 ...</td>\n",
       "      <td>[골목길, 주제, 도시, 재생, 세미나, 개최, 김, 선아, 대표, 김, 영, 교수...</td>\n",
       "      <td>NaN</td>\n",
       "    </tr>\n",
       "    <tr>\n",
       "      <th>4</th>\n",
       "      <td>익산시 철도 유휴부지 활용 본격화철도공단과 협력송학동오산면 구간 2025년까지 기후...</td>\n",
       "      <td>[익산시, 철도, 유휴, 부지, 활용, 본격화, 철도, 공단, 협력, 송학동, 오산...</td>\n",
       "      <td>NaN</td>\n",
       "    </tr>\n",
       "    <tr>\n",
       "      <th>8</th>\n",
       "      <td>SH공사 강북 이전 청사진 그린다24년 준공 목표올해 지구단위계획변경 후 24년 준...</td>\n",
       "      <td>[공사, 강북, 이전, 청사진, 그리다, 준공, 목표, 올해, 지구, 단위, 계획,...</td>\n",
       "      <td>NaN</td>\n",
       "    </tr>\n",
       "    <tr>\n",
       "      <th>9</th>\n",
       "      <td>서울시 부지사용계약 통해 시민개방 공원 늘린다소유자는 세금 감면 협의매수 신청시 이...</td>\n",
       "      <td>[서울시, 부지, 사용, 계약, 통해, 시민, 개방, 공원, 늘리다, 소유자, 세금...</td>\n",
       "      <td>NaN</td>\n",
       "    </tr>\n",
       "    <tr>\n",
       "      <th>11</th>\n",
       "      <td>인천에 한국천주교 첫 세례자 이승훈 역사공원 조성인천시천주교 인천교구 역사문화체험 ...</td>\n",
       "      <td>[인천, 한국, 천주교, 세례자, 이승훈, 역사, 공원, 조성, 인천시, 천주교, ...</td>\n",
       "      <td>NaN</td>\n",
       "    </tr>\n",
       "    <tr>\n",
       "      <th>12</th>\n",
       "      <td>건설사 하반기 공채 스타트현대엔지니어링 등 신입경력모집코로나 19의 재확산으로 고용...</td>\n",
       "      <td>[건설사, 하반기, 공채, 스타트, 현대, 엔지니어링, 신입, 경력, 모집, 코로나...</td>\n",
       "      <td>NaN</td>\n",
       "    </tr>\n",
       "    <tr>\n",
       "      <th>13</th>\n",
       "      <td>숲속야영장 조성시 실질 면적만 환경영향평가 받으면 된다소규모 환경영향평가 기준면적 ...</td>\n",
       "      <td>[숲, 속, 야영장, 조성, 시, 실질, 면적, 환경, 영향, 평가, 받다, 되다,...</td>\n",
       "      <td>NaN</td>\n",
       "    </tr>\n",
       "    <tr>\n",
       "      <th>14</th>\n",
       "      <td>녹색시선 오삼이의 죽음 그가 던진 메시지김동필 논설위원부산대 조경학과 교수오삼이의 ...</td>\n",
       "      <td>[녹색, 시선, 오, 삼이, 죽음, 던지다, 메시지, 김, 동, 필, 논설위원, 부...</td>\n",
       "      <td>NaN</td>\n",
       "    </tr>\n",
       "    <tr>\n",
       "      <th>15</th>\n",
       "      <td>노후계획도시 정비 정책세미나 13일 개최오후 3시 국토연구원 2층 대강당국토연구원은...</td>\n",
       "      <td>[노후, 계획, 도시, 정비, 정책, 세미나, 개최, 오후, 국토, 연구원, 층, ...</td>\n",
       "      <td>NaN</td>\n",
       "    </tr>\n",
       "  </tbody>\n",
       "</table>\n",
       "</div>"
      ],
      "text/plain": [
       "                                                    0  \\\n",
       "1   2022년 올해의 정원식물은?2022 대한민국 정원식물 전시품평회 성료2022 대한...   \n",
       "2   골목길 주제 도시재생세미나 30일 개최김선아 대표김영욱 교수 주제발표한국건축가협회 ...   \n",
       "4   익산시 철도 유휴부지 활용 본격화철도공단과 협력송학동오산면 구간 2025년까지 기후...   \n",
       "8   SH공사 강북 이전 청사진 그린다24년 준공 목표올해 지구단위계획변경 후 24년 준...   \n",
       "9   서울시 부지사용계약 통해 시민개방 공원 늘린다소유자는 세금 감면 협의매수 신청시 이...   \n",
       "11  인천에 한국천주교 첫 세례자 이승훈 역사공원 조성인천시천주교 인천교구 역사문화체험 ...   \n",
       "12  건설사 하반기 공채 스타트현대엔지니어링 등 신입경력모집코로나 19의 재확산으로 고용...   \n",
       "13  숲속야영장 조성시 실질 면적만 환경영향평가 받으면 된다소규모 환경영향평가 기준면적 ...   \n",
       "14  녹색시선 오삼이의 죽음 그가 던진 메시지김동필 논설위원부산대 조경학과 교수오삼이의 ...   \n",
       "15  노후계획도시 정비 정책세미나 13일 개최오후 3시 국토연구원 2층 대강당국토연구원은...   \n",
       "\n",
       "                                                    1   2  \n",
       "1   [올해, 정원, 식물, 대한민국, 정원, 식물, 전시, 품평회, 성, 대한민국, 정... NaN  \n",
       "2   [골목길, 주제, 도시, 재생, 세미나, 개최, 김, 선아, 대표, 김, 영, 교수... NaN  \n",
       "4   [익산시, 철도, 유휴, 부지, 활용, 본격화, 철도, 공단, 협력, 송학동, 오산... NaN  \n",
       "8   [공사, 강북, 이전, 청사진, 그리다, 준공, 목표, 올해, 지구, 단위, 계획,... NaN  \n",
       "9   [서울시, 부지, 사용, 계약, 통해, 시민, 개방, 공원, 늘리다, 소유자, 세금... NaN  \n",
       "11  [인천, 한국, 천주교, 세례자, 이승훈, 역사, 공원, 조성, 인천시, 천주교, ... NaN  \n",
       "12  [건설사, 하반기, 공채, 스타트, 현대, 엔지니어링, 신입, 경력, 모집, 코로나... NaN  \n",
       "13  [숲, 속, 야영장, 조성, 시, 실질, 면적, 환경, 영향, 평가, 받다, 되다,... NaN  \n",
       "14  [녹색, 시선, 오, 삼이, 죽음, 던지다, 메시지, 김, 동, 필, 논설위원, 부... NaN  \n",
       "15  [노후, 계획, 도시, 정비, 정책, 세미나, 개최, 오후, 국토, 연구원, 층, ... NaN  "
      ]
     },
     "execution_count": 5,
     "metadata": {},
     "output_type": "execute_result"
    }
   ],
   "source": [
    "tmp"
   ]
  },
  {
   "cell_type": "code",
   "execution_count": 7,
   "metadata": {},
   "outputs": [
    {
     "data": {
      "text/plain": [
       "1     244\n",
       "2     143\n",
       "4     214\n",
       "8     372\n",
       "9     312\n",
       "11    278\n",
       "12    296\n",
       "13    143\n",
       "14    750\n",
       "15    155\n",
       "Name: 1, dtype: int64"
      ]
     },
     "execution_count": 7,
     "metadata": {},
     "output_type": "execute_result"
    }
   ],
   "source": [
    "tmp[1].apply(lambda x : len(x))"
   ]
  },
  {
   "cell_type": "code",
   "execution_count": null,
   "metadata": {},
   "outputs": [],
   "source": []
  },
  {
   "cell_type": "code",
   "execution_count": null,
   "metadata": {},
   "outputs": [],
   "source": [
    "# 여기에서 고민을 해야 함\n",
    "df_origin['keyword'] = df_origin['']"
   ]
  },
  {
   "cell_type": "code",
   "execution_count": null,
   "metadata": {},
   "outputs": [],
   "source": []
  },
  {
   "cell_type": "code",
   "execution_count": null,
   "metadata": {},
   "outputs": [],
   "source": []
  },
  {
   "cell_type": "code",
   "execution_count": null,
   "metadata": {},
   "outputs": [],
   "source": []
  },
  {
   "cell_type": "code",
   "execution_count": null,
   "metadata": {},
   "outputs": [],
   "source": []
  },
  {
   "cell_type": "code",
   "execution_count": null,
   "metadata": {},
   "outputs": [],
   "source": []
  },
  {
   "cell_type": "code",
   "execution_count": 11,
   "metadata": {},
   "outputs": [
    {
     "name": "stdout",
     "output_type": "stream",
     "text": [
      "<class 'pandas.core.frame.DataFrame'>\n",
      "RangeIndex: 35126 entries, 0 to 35125\n",
      "Data columns (total 10 columns):\n",
      " #   Column       Non-Null Count  Dtype \n",
      "---  ------       --------------  ----- \n",
      " 0   title        35126 non-null  object\n",
      " 1   sub-title    30484 non-null  object\n",
      " 2   publisher    35112 non-null  object\n",
      " 3   author       31925 non-null  object\n",
      " 4   date         35125 non-null  object\n",
      " 5   text         35126 non-null  object\n",
      " 6   keywords     35126 non-null  object\n",
      " 7   href         35126 non-null  object\n",
      " 8   numKeywords  35126 non-null  int64 \n",
      " 9   news_id      35126 non-null  int64 \n",
      "dtypes: int64(2), object(8)\n",
      "memory usage: 2.7+ MB\n"
     ]
    }
   ],
   "source": [
    "df_origin.info()"
   ]
  },
  {
   "cell_type": "code",
   "execution_count": 5,
   "metadata": {},
   "outputs": [
    {
     "data": {
      "text/html": [
       "<div>\n",
       "<style scoped>\n",
       "    .dataframe tbody tr th:only-of-type {\n",
       "        vertical-align: middle;\n",
       "    }\n",
       "\n",
       "    .dataframe tbody tr th {\n",
       "        vertical-align: top;\n",
       "    }\n",
       "\n",
       "    .dataframe thead th {\n",
       "        text-align: right;\n",
       "    }\n",
       "</style>\n",
       "<table border=\"1\" class=\"dataframe\">\n",
       "  <thead>\n",
       "    <tr style=\"text-align: right;\">\n",
       "      <th></th>\n",
       "      <th>title</th>\n",
       "      <th>sub-title</th>\n",
       "      <th>publisher</th>\n",
       "      <th>author</th>\n",
       "      <th>text</th>\n",
       "      <th>keywords</th>\n",
       "      <th>href</th>\n",
       "      <th>numKeywords</th>\n",
       "      <th>news_id</th>\n",
       "      <th>totalComment</th>\n",
       "    </tr>\n",
       "  </thead>\n",
       "  <tbody>\n",
       "    <tr>\n",
       "      <th>0</th>\n",
       "      <td>[캠퍼스] 한국전통문화대 전통조경학과, 고택정원 7곳 평면도 작성 실시</td>\n",
       "      <td>고택정원의 과거와 현재의 차이점 연구</td>\n",
       "      <td>라펜트</td>\n",
       "      <td>김태원</td>\n",
       "      <td>한국전통문화대학교 전통조경학과 2학년 학생들이 이재용 교수의 ‘전통식재론’ 수업의 ...</td>\n",
       "      <td>['한국전통문화대학교', '이재용 교수', '전통조경', '3D 활용', '조경학과']</td>\n",
       "      <td>https://www.lafent.com/inews/news_view.html?ne...</td>\n",
       "      <td>5</td>\n",
       "      <td>124048</td>\n",
       "      <td>[캠퍼스] 한국전통문화대 전통조경학과, 고택정원 7곳 평면도 작성 실시고택정원의 과...</td>\n",
       "    </tr>\n",
       "  </tbody>\n",
       "</table>\n",
       "</div>"
      ],
      "text/plain": [
       "                                     title             sub-title publisher  \\\n",
       "0  [캠퍼스] 한국전통문화대 전통조경학과, 고택정원 7곳 평면도 작성 실시  고택정원의 과거와 현재의 차이점 연구       라펜트   \n",
       "\n",
       "  author                                               text  \\\n",
       "0    김태원  한국전통문화대학교 전통조경학과 2학년 학생들이 이재용 교수의 ‘전통식재론’ 수업의 ...   \n",
       "\n",
       "                                           keywords  \\\n",
       "0  ['한국전통문화대학교', '이재용 교수', '전통조경', '3D 활용', '조경학과']   \n",
       "\n",
       "                                                href  numKeywords  news_id  \\\n",
       "0  https://www.lafent.com/inews/news_view.html?ne...            5   124048   \n",
       "\n",
       "                                        totalComment  \n",
       "0  [캠퍼스] 한국전통문화대 전통조경학과, 고택정원 7곳 평면도 작성 실시고택정원의 과...  "
      ]
     },
     "execution_count": 5,
     "metadata": {},
     "output_type": "execute_result"
    }
   ],
   "source": [
    "df_origin.head(1)"
   ]
  },
  {
   "cell_type": "code",
   "execution_count": null,
   "metadata": {},
   "outputs": [],
   "source": [
    "df_origin.apply(lambda x : )"
   ]
  }
 ],
 "metadata": {
  "kernelspec": {
   "display_name": "BigDataUtilization2023",
   "language": "python",
   "name": "bigdatautilization2023"
  },
  "language_info": {
   "codemirror_mode": {
    "name": "ipython",
    "version": 3
   },
   "file_extension": ".py",
   "mimetype": "text/x-python",
   "name": "python",
   "nbconvert_exporter": "python",
   "pygments_lexer": "ipython3",
   "version": "3.11.4"
  },
  "orig_nbformat": 4
 },
 "nbformat": 4,
 "nbformat_minor": 2
}
