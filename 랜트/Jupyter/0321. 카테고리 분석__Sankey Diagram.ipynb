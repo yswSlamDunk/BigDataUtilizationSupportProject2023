{
 "cells": [
  {
   "cell_type": "code",
   "execution_count": 1,
   "metadata": {},
   "outputs": [],
   "source": [
    "import os\n",
    "import pandas as pd\n",
    "import numpy as np\n",
    "\n",
    "from tqdm import tqdm\n",
    "tqdm.pandas()\n",
    "\n",
    "import plotly.graph_objects as go"
   ]
  },
  {
   "cell_type": "code",
   "execution_count": 2,
   "metadata": {},
   "outputs": [
    {
     "name": "stderr",
     "output_type": "stream",
     "text": [
      "C:\\Users\\WESLEYQUEST\\AppData\\Local\\Temp\\ipykernel_6052\\3324504427.py:3: DtypeWarning: Columns (12,15,16,17,21) have mixed types. Specify dtype option on import or set low_memory=False.\n",
      "  df_origin = pd.read_csv(path)\n",
      "C:\\Users\\WESLEYQUEST\\AppData\\Local\\Temp\\ipykernel_6052\\3324504427.py:5: DtypeWarning: Columns (4,5,6,7,20,21,26) have mixed types. Specify dtype option on import or set low_memory=False.\n",
      "  innerOut_df_origin = pd.read_csv('../Data/Preprocessed/innerOutTaged.csv')\n"
     ]
    }
   ],
   "source": [
    "path = '../Data/Preprocessed/drop_category.csv'\n",
    "\n",
    "df_origin = pd.read_csv(path)\n",
    "\n",
    "innerOut_df_origin = pd.read_csv('../Data/Preprocessed/innerOutTaged.csv')"
   ]
  },
  {
   "cell_type": "code",
   "execution_count": 3,
   "metadata": {},
   "outputs": [
    {
     "data": {
      "text/html": [
       "<div>\n",
       "<style scoped>\n",
       "    .dataframe tbody tr th:only-of-type {\n",
       "        vertical-align: middle;\n",
       "    }\n",
       "\n",
       "    .dataframe tbody tr th {\n",
       "        vertical-align: top;\n",
       "    }\n",
       "\n",
       "    .dataframe thead th {\n",
       "        text-align: right;\n",
       "    }\n",
       "</style>\n",
       "<table border=\"1\" class=\"dataframe\">\n",
       "  <thead>\n",
       "    <tr style=\"text-align: right;\">\n",
       "      <th></th>\n",
       "      <th>Timestamp</th>\n",
       "      <th>IP</th>\n",
       "      <th>URL</th>\n",
       "      <th>Category</th>\n",
       "      <th>URL Search Word</th>\n",
       "      <th>Referer</th>\n",
       "      <th>Referer Search Word</th>\n",
       "      <th>Referer Source</th>\n",
       "      <th>Referer Category</th>\n",
       "      <th>Referer Content Type</th>\n",
       "      <th>...</th>\n",
       "      <th>bigPath</th>\n",
       "      <th>mcd</th>\n",
       "      <th>rk</th>\n",
       "      <th>bt</th>\n",
       "      <th>bsp</th>\n",
       "      <th>middlePath</th>\n",
       "      <th>smallPath</th>\n",
       "      <th>tmp</th>\n",
       "      <th>news_id</th>\n",
       "      <th>idx</th>\n",
       "    </tr>\n",
       "  </thead>\n",
       "  <tbody>\n",
       "    <tr>\n",
       "      <th>0</th>\n",
       "      <td>2022-08-01 14:30:55+09:00</td>\n",
       "      <td>1.220.249.83</td>\n",
       "      <td>/jobse/job_view.html?mcd=c01&amp;idx=24596</td>\n",
       "      <td>jobs</td>\n",
       "      <td>NaN</td>\n",
       "      <td>NaN</td>\n",
       "      <td>NaN</td>\n",
       "      <td>NaN</td>\n",
       "      <td>etc</td>\n",
       "      <td>etc</td>\n",
       "      <td>...</td>\n",
       "      <td>채용/인재</td>\n",
       "      <td>mcd=c01</td>\n",
       "      <td>NaN</td>\n",
       "      <td>NaN</td>\n",
       "      <td>NaN</td>\n",
       "      <td>시공/감리/생산</td>\n",
       "      <td>메인</td>\n",
       "      <td>jobse</td>\n",
       "      <td>NaN</td>\n",
       "      <td>idx=24596</td>\n",
       "    </tr>\n",
       "    <tr>\n",
       "      <th>1</th>\n",
       "      <td>2022-08-01 14:32:14+09:00</td>\n",
       "      <td>1.220.249.83</td>\n",
       "      <td>/jobse/job_view.html?mcd=c01&amp;idx=23934</td>\n",
       "      <td>jobs</td>\n",
       "      <td>NaN</td>\n",
       "      <td>NaN</td>\n",
       "      <td>NaN</td>\n",
       "      <td>NaN</td>\n",
       "      <td>etc</td>\n",
       "      <td>etc</td>\n",
       "      <td>...</td>\n",
       "      <td>채용/인재</td>\n",
       "      <td>mcd=c01</td>\n",
       "      <td>NaN</td>\n",
       "      <td>NaN</td>\n",
       "      <td>NaN</td>\n",
       "      <td>시공/감리/생산</td>\n",
       "      <td>메인</td>\n",
       "      <td>jobse</td>\n",
       "      <td>NaN</td>\n",
       "      <td>idx=23934</td>\n",
       "    </tr>\n",
       "  </tbody>\n",
       "</table>\n",
       "<p>2 rows × 28 columns</p>\n",
       "</div>"
      ],
      "text/plain": [
       "                   Timestamp            IP  \\\n",
       "0  2022-08-01 14:30:55+09:00  1.220.249.83   \n",
       "1  2022-08-01 14:32:14+09:00  1.220.249.83   \n",
       "\n",
       "                                      URL Category URL Search Word Referer  \\\n",
       "0  /jobse/job_view.html?mcd=c01&idx=24596     jobs             NaN     NaN   \n",
       "1  /jobse/job_view.html?mcd=c01&idx=23934     jobs             NaN     NaN   \n",
       "\n",
       "  Referer Search Word Referer Source Referer Category Referer Content Type  \\\n",
       "0                 NaN            NaN              etc                  etc   \n",
       "1                 NaN            NaN              etc                  etc   \n",
       "\n",
       "   ... bigPath      mcd   rk   bt  bsp  middlePath  smallPath    tmp news_id  \\\n",
       "0  ...   채용/인재  mcd=c01  NaN  NaN  NaN    시공/감리/생산         메인  jobse     NaN   \n",
       "1  ...   채용/인재  mcd=c01  NaN  NaN  NaN    시공/감리/생산         메인  jobse     NaN   \n",
       "\n",
       "         idx  \n",
       "0  idx=24596  \n",
       "1  idx=23934  \n",
       "\n",
       "[2 rows x 28 columns]"
      ]
     },
     "execution_count": 3,
     "metadata": {},
     "output_type": "execute_result"
    }
   ],
   "source": [
    "innerOut_df_origin.head(2)"
   ]
  },
  {
   "cell_type": "code",
   "execution_count": 4,
   "metadata": {},
   "outputs": [
    {
     "data": {
      "text/html": [
       "<div>\n",
       "<style scoped>\n",
       "    .dataframe tbody tr th:only-of-type {\n",
       "        vertical-align: middle;\n",
       "    }\n",
       "\n",
       "    .dataframe tbody tr th {\n",
       "        vertical-align: top;\n",
       "    }\n",
       "\n",
       "    .dataframe thead th {\n",
       "        text-align: right;\n",
       "    }\n",
       "</style>\n",
       "<table border=\"1\" class=\"dataframe\">\n",
       "  <thead>\n",
       "    <tr style=\"text-align: right;\">\n",
       "      <th></th>\n",
       "      <th>Timestamp</th>\n",
       "      <th>IP</th>\n",
       "      <th>URL</th>\n",
       "      <th>Category</th>\n",
       "      <th>URL Search Word</th>\n",
       "      <th>Referer</th>\n",
       "      <th>Referer Search Word</th>\n",
       "      <th>Referer Source</th>\n",
       "      <th>Referer Category</th>\n",
       "      <th>Referer Content Type</th>\n",
       "      <th>...</th>\n",
       "      <th>mcd</th>\n",
       "      <th>rk</th>\n",
       "      <th>bt</th>\n",
       "      <th>bsp</th>\n",
       "      <th>middlePath</th>\n",
       "      <th>smallPath</th>\n",
       "      <th>tmp</th>\n",
       "      <th>news_id</th>\n",
       "      <th>idx</th>\n",
       "      <th>category_small</th>\n",
       "    </tr>\n",
       "  </thead>\n",
       "  <tbody>\n",
       "    <tr>\n",
       "      <th>0</th>\n",
       "      <td>2023-07-11 00:58:56+09:00</td>\n",
       "      <td>111.90.187.156</td>\n",
       "      <td>/index.html</td>\n",
       "      <td>etc</td>\n",
       "      <td>NaN</td>\n",
       "      <td>http://www.lafent.com</td>\n",
       "      <td>NaN</td>\n",
       "      <td>lafent</td>\n",
       "      <td>etc</td>\n",
       "      <td>etc</td>\n",
       "      <td>...</td>\n",
       "      <td>NaN</td>\n",
       "      <td>NaN</td>\n",
       "      <td>NaN</td>\n",
       "      <td>NaN</td>\n",
       "      <td>메인</td>\n",
       "      <td>메인</td>\n",
       "      <td>index.html</td>\n",
       "      <td>NaN</td>\n",
       "      <td>NaN</td>\n",
       "      <td>메인//메인//메인</td>\n",
       "    </tr>\n",
       "    <tr>\n",
       "      <th>1</th>\n",
       "      <td>2023-07-11 15:29:14+09:00</td>\n",
       "      <td>112.164.156.215</td>\n",
       "      <td>/sns/qna_view.html?mcd=b01&amp;bsp=q01&amp;idx=5245</td>\n",
       "      <td>social media</td>\n",
       "      <td>NaN</td>\n",
       "      <td>NaN</td>\n",
       "      <td>NaN</td>\n",
       "      <td>NaN</td>\n",
       "      <td>etc</td>\n",
       "      <td>etc</td>\n",
       "      <td>...</td>\n",
       "      <td>mcd=b01</td>\n",
       "      <td>NaN</td>\n",
       "      <td>NaN</td>\n",
       "      <td>bsp=q0</td>\n",
       "      <td>조경인광장</td>\n",
       "      <td>조경인Q&amp;A</td>\n",
       "      <td>sns</td>\n",
       "      <td>NaN</td>\n",
       "      <td>idx=5245</td>\n",
       "      <td>커뮤니티//조경인광장//조경인Q&amp;A</td>\n",
       "    </tr>\n",
       "  </tbody>\n",
       "</table>\n",
       "<p>2 rows × 29 columns</p>\n",
       "</div>"
      ],
      "text/plain": [
       "                   Timestamp               IP  \\\n",
       "0  2023-07-11 00:58:56+09:00   111.90.187.156   \n",
       "1  2023-07-11 15:29:14+09:00  112.164.156.215   \n",
       "\n",
       "                                           URL      Category URL Search Word  \\\n",
       "0                                  /index.html           etc             NaN   \n",
       "1  /sns/qna_view.html?mcd=b01&bsp=q01&idx=5245  social media             NaN   \n",
       "\n",
       "                 Referer Referer Search Word Referer Source Referer Category  \\\n",
       "0  http://www.lafent.com                 NaN         lafent              etc   \n",
       "1                    NaN                 NaN            NaN              etc   \n",
       "\n",
       "  Referer Content Type  ...      mcd   rk   bt     bsp middlePath smallPath  \\\n",
       "0                  etc  ...      NaN  NaN  NaN     NaN         메인        메인   \n",
       "1                  etc  ...  mcd=b01  NaN  NaN  bsp=q0      조경인광장    조경인Q&A   \n",
       "\n",
       "          tmp news_id       idx       category_small  \n",
       "0  index.html     NaN       NaN           메인//메인//메인  \n",
       "1         sns     NaN  idx=5245  커뮤니티//조경인광장//조경인Q&A  \n",
       "\n",
       "[2 rows x 29 columns]"
      ]
     },
     "execution_count": 4,
     "metadata": {},
     "output_type": "execute_result"
    }
   ],
   "source": [
    "df_origin.head(2)"
   ]
  },
  {
   "cell_type": "markdown",
   "metadata": {},
   "source": [
    "### bigPath 기준으로 전처리"
   ]
  },
  {
   "cell_type": "code",
   "execution_count": 62,
   "metadata": {},
   "outputs": [],
   "source": [
    "tmp01 = df_origin.groupby(['New IP'])['bigPath'].nunique().reset_index().query('bigPath > 1')['New IP']\n",
    "tmp02 = df_origin.loc[df_origin['New IP'].isin(tmp01)]"
   ]
  },
  {
   "cell_type": "code",
   "execution_count": 63,
   "metadata": {},
   "outputs": [
    {
     "data": {
      "text/html": [
       "<div>\n",
       "<style scoped>\n",
       "    .dataframe tbody tr th:only-of-type {\n",
       "        vertical-align: middle;\n",
       "    }\n",
       "\n",
       "    .dataframe tbody tr th {\n",
       "        vertical-align: top;\n",
       "    }\n",
       "\n",
       "    .dataframe thead th {\n",
       "        text-align: right;\n",
       "    }\n",
       "</style>\n",
       "<table border=\"1\" class=\"dataframe\">\n",
       "  <thead>\n",
       "    <tr style=\"text-align: right;\">\n",
       "      <th></th>\n",
       "      <th>Timestamp</th>\n",
       "      <th>IP</th>\n",
       "      <th>URL</th>\n",
       "      <th>Category</th>\n",
       "      <th>URL Search Word</th>\n",
       "      <th>Referer</th>\n",
       "      <th>Referer Search Word</th>\n",
       "      <th>Referer Source</th>\n",
       "      <th>Referer Category</th>\n",
       "      <th>Referer Content Type</th>\n",
       "      <th>...</th>\n",
       "      <th>mcd</th>\n",
       "      <th>rk</th>\n",
       "      <th>bt</th>\n",
       "      <th>bsp</th>\n",
       "      <th>middlePath</th>\n",
       "      <th>smallPath</th>\n",
       "      <th>tmp</th>\n",
       "      <th>news_id</th>\n",
       "      <th>idx</th>\n",
       "      <th>category_small</th>\n",
       "    </tr>\n",
       "  </thead>\n",
       "  <tbody>\n",
       "    <tr>\n",
       "      <th>188002</th>\n",
       "      <td>2022-08-01 14:36:51+09:00</td>\n",
       "      <td>1.215.17.66</td>\n",
       "      <td>/jobse/job_view.html?mcd=a08&amp;idx=24766</td>\n",
       "      <td>jobs</td>\n",
       "      <td>NaN</td>\n",
       "      <td>NaN</td>\n",
       "      <td>NaN</td>\n",
       "      <td>NaN</td>\n",
       "      <td>etc</td>\n",
       "      <td>etc</td>\n",
       "      <td>...</td>\n",
       "      <td>mcd=a08</td>\n",
       "      <td>NaN</td>\n",
       "      <td>NaN</td>\n",
       "      <td>NaN</td>\n",
       "      <td>전체채용</td>\n",
       "      <td>서울</td>\n",
       "      <td>jobse</td>\n",
       "      <td>NaN</td>\n",
       "      <td>idx=24766</td>\n",
       "      <td>채용/인재//전체채용//서울</td>\n",
       "    </tr>\n",
       "    <tr>\n",
       "      <th>188003</th>\n",
       "      <td>2022-08-01 15:31:08+09:00</td>\n",
       "      <td>1.215.17.66</td>\n",
       "      <td>/news/view.html?news_id=114353</td>\n",
       "      <td>mobile news</td>\n",
       "      <td>NaN</td>\n",
       "      <td>https://search.naver.com/search.naver?sm=tab_h...</td>\n",
       "      <td>행복도시 생활권별 가로수</td>\n",
       "      <td>naver</td>\n",
       "      <td>etc</td>\n",
       "      <td>etc</td>\n",
       "      <td>...</td>\n",
       "      <td>NaN</td>\n",
       "      <td>NaN</td>\n",
       "      <td>NaN</td>\n",
       "      <td>NaN</td>\n",
       "      <td>뉴스홈</td>\n",
       "      <td>뉴스홈</td>\n",
       "      <td>news</td>\n",
       "      <td>news_id=114353</td>\n",
       "      <td>NaN</td>\n",
       "      <td>뉴스//뉴스홈//뉴스홈</td>\n",
       "    </tr>\n",
       "  </tbody>\n",
       "</table>\n",
       "<p>2 rows × 29 columns</p>\n",
       "</div>"
      ],
      "text/plain": [
       "                        Timestamp           IP  \\\n",
       "188002  2022-08-01 14:36:51+09:00  1.215.17.66   \n",
       "188003  2022-08-01 15:31:08+09:00  1.215.17.66   \n",
       "\n",
       "                                           URL     Category URL Search Word  \\\n",
       "188002  /jobse/job_view.html?mcd=a08&idx=24766         jobs             NaN   \n",
       "188003          /news/view.html?news_id=114353  mobile news             NaN   \n",
       "\n",
       "                                                  Referer Referer Search Word  \\\n",
       "188002                                                NaN                 NaN   \n",
       "188003  https://search.naver.com/search.naver?sm=tab_h...       행복도시 생활권별 가로수   \n",
       "\n",
       "       Referer Source Referer Category Referer Content Type  ...      mcd  \\\n",
       "188002            NaN              etc                  etc  ...  mcd=a08   \n",
       "188003          naver              etc                  etc  ...      NaN   \n",
       "\n",
       "         rk   bt  bsp middlePath smallPath    tmp         news_id        idx  \\\n",
       "188002  NaN  NaN  NaN       전체채용        서울  jobse             NaN  idx=24766   \n",
       "188003  NaN  NaN  NaN        뉴스홈       뉴스홈   news  news_id=114353        NaN   \n",
       "\n",
       "         category_small  \n",
       "188002  채용/인재//전체채용//서울  \n",
       "188003     뉴스//뉴스홈//뉴스홈  \n",
       "\n",
       "[2 rows x 29 columns]"
      ]
     },
     "execution_count": 63,
     "metadata": {},
     "output_type": "execute_result"
    }
   ],
   "source": [
    "tmp02.head(2)"
   ]
  },
  {
   "cell_type": "code",
   "execution_count": 68,
   "metadata": {},
   "outputs": [],
   "source": [
    "def drop_duplicates_02(x):\n",
    "    value = x.loc[:, 'bigPath']\n",
    "    value.index = range(len(value))\n",
    "    value_copy = value.iloc[1:]\n",
    "\n",
    "    value_copy = pd.DataFrame({'old' : value_copy})\n",
    "    value = pd.DataFrame({'new' : value})\n",
    "\n",
    "    value_copy = pd.concat([value_copy, pd.DataFrame({'old' : ['end']})], axis = 0)\n",
    "    value_copy.index = range(len(value_copy))\n",
    "\n",
    "    concat = pd.concat([value, value_copy], axis = 1, ignore_index = True)\n",
    "    concat.columns = ['new', 'old']\n",
    "\n",
    "    index = concat.loc[concat.apply(lambda x : x['new'] != x['old'], axis = 1)].index\n",
    "    result = x.iloc[index]\n",
    "\n",
    "    result.to_csv('../Data/Preprocessed/drop_category_big.csv',\n",
    "                  encoding = 'utf-8-sig',\n",
    "                  index = False,\n",
    "                  mode = 'a',\n",
    "                  escapechar = '\\\\')\n"
   ]
  },
  {
   "cell_type": "code",
   "execution_count": 69,
   "metadata": {},
   "outputs": [
    {
     "name": "stderr",
     "output_type": "stream",
     "text": [
      "100%|██████████| 78138/78138 [03:24<00:00, 381.26it/s]\n"
     ]
    },
    {
     "data": {
      "text/html": [
       "<div>\n",
       "<style scoped>\n",
       "    .dataframe tbody tr th:only-of-type {\n",
       "        vertical-align: middle;\n",
       "    }\n",
       "\n",
       "    .dataframe tbody tr th {\n",
       "        vertical-align: top;\n",
       "    }\n",
       "\n",
       "    .dataframe thead th {\n",
       "        text-align: right;\n",
       "    }\n",
       "</style>\n",
       "<table border=\"1\" class=\"dataframe\">\n",
       "  <thead>\n",
       "    <tr style=\"text-align: right;\">\n",
       "      <th></th>\n",
       "    </tr>\n",
       "  </thead>\n",
       "  <tbody>\n",
       "  </tbody>\n",
       "</table>\n",
       "</div>"
      ],
      "text/plain": [
       "Empty DataFrame\n",
       "Columns: []\n",
       "Index: []"
      ]
     },
     "execution_count": 69,
     "metadata": {},
     "output_type": "execute_result"
    }
   ],
   "source": [
    "tmp02.groupby(['New IP']).progress_apply(lambda x : drop_duplicates_02(x))"
   ]
  },
  {
   "cell_type": "code",
   "execution_count": null,
   "metadata": {},
   "outputs": [],
   "source": []
  },
  {
   "cell_type": "code",
   "execution_count": 76,
   "metadata": {},
   "outputs": [],
   "source": [
    "df_over = pd.read_csv('../Data/Preprocessed/drop_category_big.csv')\n",
    "df_over = df_over.loc[df_over['New IP'] != 'New IP']"
   ]
  },
  {
   "cell_type": "code",
   "execution_count": 79,
   "metadata": {},
   "outputs": [
    {
     "data": {
      "text/html": [
       "<div>\n",
       "<style scoped>\n",
       "    .dataframe tbody tr th:only-of-type {\n",
       "        vertical-align: middle;\n",
       "    }\n",
       "\n",
       "    .dataframe tbody tr th {\n",
       "        vertical-align: top;\n",
       "    }\n",
       "\n",
       "    .dataframe thead th {\n",
       "        text-align: right;\n",
       "    }\n",
       "</style>\n",
       "<table border=\"1\" class=\"dataframe\">\n",
       "  <thead>\n",
       "    <tr style=\"text-align: right;\">\n",
       "      <th></th>\n",
       "      <th>Timestamp</th>\n",
       "      <th>IP</th>\n",
       "      <th>URL</th>\n",
       "      <th>Category</th>\n",
       "      <th>URL Search Word</th>\n",
       "      <th>Referer</th>\n",
       "      <th>Referer Search Word</th>\n",
       "      <th>Referer Source</th>\n",
       "      <th>Referer Category</th>\n",
       "      <th>Referer Content Type</th>\n",
       "      <th>...</th>\n",
       "      <th>mcd</th>\n",
       "      <th>rk</th>\n",
       "      <th>bt</th>\n",
       "      <th>bsp</th>\n",
       "      <th>middlePath</th>\n",
       "      <th>smallPath</th>\n",
       "      <th>tmp</th>\n",
       "      <th>news_id</th>\n",
       "      <th>idx</th>\n",
       "      <th>category_small</th>\n",
       "    </tr>\n",
       "  </thead>\n",
       "  <tbody>\n",
       "    <tr>\n",
       "      <th>0</th>\n",
       "      <td>2023-07-11 19:01:18+09:00</td>\n",
       "      <td>110.93.154.210</td>\n",
       "      <td>/inews/news_view.html?news_id=131900</td>\n",
       "      <td>news</td>\n",
       "      <td>NaN</td>\n",
       "      <td>NaN</td>\n",
       "      <td>NaN</td>\n",
       "      <td>NaN</td>\n",
       "      <td>etc</td>\n",
       "      <td>etc</td>\n",
       "      <td>...</td>\n",
       "      <td>NaN</td>\n",
       "      <td>NaN</td>\n",
       "      <td>NaN</td>\n",
       "      <td>NaN</td>\n",
       "      <td>뉴스홈</td>\n",
       "      <td>뉴스홈</td>\n",
       "      <td>inews</td>\n",
       "      <td>news_id=131900</td>\n",
       "      <td>NaN</td>\n",
       "      <td>뉴스//뉴스홈//뉴스홈</td>\n",
       "    </tr>\n",
       "    <tr>\n",
       "      <th>1</th>\n",
       "      <td>2023-07-11 21:06:10+09:00</td>\n",
       "      <td>110.93.154.210</td>\n",
       "      <td>/magazine/atc_view.html?news_id=5739&amp;gbn=02</td>\n",
       "      <td>magazine</td>\n",
       "      <td>NaN</td>\n",
       "      <td>NaN</td>\n",
       "      <td>NaN</td>\n",
       "      <td>NaN</td>\n",
       "      <td>etc</td>\n",
       "      <td>etc</td>\n",
       "      <td>...</td>\n",
       "      <td>NaN</td>\n",
       "      <td>NaN</td>\n",
       "      <td>NaN</td>\n",
       "      <td>NaN</td>\n",
       "      <td>매거진홈</td>\n",
       "      <td>매거진홈</td>\n",
       "      <td>magazine</td>\n",
       "      <td>news_id=5739</td>\n",
       "      <td>NaN</td>\n",
       "      <td>매거진//매거진홈//매거진홈</td>\n",
       "    </tr>\n",
       "  </tbody>\n",
       "</table>\n",
       "<p>2 rows × 29 columns</p>\n",
       "</div>"
      ],
      "text/plain": [
       "                   Timestamp              IP  \\\n",
       "0  2023-07-11 19:01:18+09:00  110.93.154.210   \n",
       "1  2023-07-11 21:06:10+09:00  110.93.154.210   \n",
       "\n",
       "                                           URL  Category URL Search Word  \\\n",
       "0         /inews/news_view.html?news_id=131900      news             NaN   \n",
       "1  /magazine/atc_view.html?news_id=5739&gbn=02  magazine             NaN   \n",
       "\n",
       "  Referer Referer Search Word Referer Source Referer Category  \\\n",
       "0     NaN                 NaN            NaN              etc   \n",
       "1     NaN                 NaN            NaN              etc   \n",
       "\n",
       "  Referer Content Type  ...  mcd   rk   bt  bsp middlePath smallPath  \\\n",
       "0                  etc  ...  NaN  NaN  NaN  NaN        뉴스홈       뉴스홈   \n",
       "1                  etc  ...  NaN  NaN  NaN  NaN       매거진홈      매거진홈   \n",
       "\n",
       "        tmp         news_id  idx   category_small  \n",
       "0     inews  news_id=131900  NaN     뉴스//뉴스홈//뉴스홈  \n",
       "1  magazine    news_id=5739  NaN  매거진//매거진홈//매거진홈  \n",
       "\n",
       "[2 rows x 29 columns]"
      ]
     },
     "execution_count": 79,
     "metadata": {},
     "output_type": "execute_result"
    }
   ],
   "source": [
    "df_over.head(2)"
   ]
  },
  {
   "cell_type": "code",
   "execution_count": 81,
   "metadata": {},
   "outputs": [],
   "source": [
    "df_over = df_over[['New IP', 'User Type', 'bigPath']]"
   ]
  },
  {
   "cell_type": "code",
   "execution_count": 82,
   "metadata": {},
   "outputs": [
    {
     "data": {
      "text/html": [
       "<div>\n",
       "<style scoped>\n",
       "    .dataframe tbody tr th:only-of-type {\n",
       "        vertical-align: middle;\n",
       "    }\n",
       "\n",
       "    .dataframe tbody tr th {\n",
       "        vertical-align: top;\n",
       "    }\n",
       "\n",
       "    .dataframe thead th {\n",
       "        text-align: right;\n",
       "    }\n",
       "</style>\n",
       "<table border=\"1\" class=\"dataframe\">\n",
       "  <thead>\n",
       "    <tr style=\"text-align: right;\">\n",
       "      <th></th>\n",
       "      <th>New IP</th>\n",
       "      <th>User Type</th>\n",
       "      <th>bigPath</th>\n",
       "    </tr>\n",
       "  </thead>\n",
       "  <tbody>\n",
       "    <tr>\n",
       "      <th>0</th>\n",
       "      <td>1000201</td>\n",
       "      <td>내부</td>\n",
       "      <td>뉴스</td>\n",
       "    </tr>\n",
       "    <tr>\n",
       "      <th>1</th>\n",
       "      <td>1000201</td>\n",
       "      <td>내부</td>\n",
       "      <td>매거진</td>\n",
       "    </tr>\n",
       "  </tbody>\n",
       "</table>\n",
       "</div>"
      ],
      "text/plain": [
       "    New IP User Type bigPath\n",
       "0  1000201        내부      뉴스\n",
       "1  1000201        내부     매거진"
      ]
     },
     "execution_count": 82,
     "metadata": {},
     "output_type": "execute_result"
    }
   ],
   "source": [
    "df_over.head(2)"
   ]
  },
  {
   "cell_type": "code",
   "execution_count": 122,
   "metadata": {},
   "outputs": [],
   "source": [
    "def makeData(x):\n",
    "    value = x.loc[:, 'bigPath']\n",
    "    value.index = range(len(value))\n",
    "    value_copy = value.iloc[1:]\n",
    "    value_copy.index = range(len(value_copy))\n",
    "    value = value.iloc[:-1]\n",
    "\n",
    "    value_copy = pd.DataFrame({'end' : value_copy})\n",
    "    value = pd.DataFrame({'start' : value})\n",
    "\n",
    "\n",
    "\n",
    "    concat = pd.concat([value, value_copy], axis = 1, ignore_index = True)\n",
    "    concat['New IP'] = np.nan\n",
    "    concat['User Type'] = np.nan\n",
    "\n",
    "    concat['New IP'] = x['New IP'].values[0]\n",
    "    concat['User Type'] = x['User Type'].values[0]\n",
    "\n",
    "    concat.to_csv('../Data/Preprocessed/sankeyDiagram.csv',\n",
    "                  encoding = 'utf-8-sig',\n",
    "                  mode = 'a',\n",
    "                  header = None,\n",
    "                  index = False)"
   ]
  },
  {
   "cell_type": "code",
   "execution_count": 123,
   "metadata": {},
   "outputs": [
    {
     "name": "stderr",
     "output_type": "stream",
     "text": [
      "100%|██████████| 83398/83398 [03:12<00:00, 434.01it/s]\n"
     ]
    },
    {
     "data": {
      "text/html": [
       "<div>\n",
       "<style scoped>\n",
       "    .dataframe tbody tr th:only-of-type {\n",
       "        vertical-align: middle;\n",
       "    }\n",
       "\n",
       "    .dataframe tbody tr th {\n",
       "        vertical-align: top;\n",
       "    }\n",
       "\n",
       "    .dataframe thead th {\n",
       "        text-align: right;\n",
       "    }\n",
       "</style>\n",
       "<table border=\"1\" class=\"dataframe\">\n",
       "  <thead>\n",
       "    <tr style=\"text-align: right;\">\n",
       "      <th></th>\n",
       "    </tr>\n",
       "  </thead>\n",
       "  <tbody>\n",
       "  </tbody>\n",
       "</table>\n",
       "</div>"
      ],
      "text/plain": [
       "Empty DataFrame\n",
       "Columns: []\n",
       "Index: []"
      ]
     },
     "execution_count": 123,
     "metadata": {},
     "output_type": "execute_result"
    }
   ],
   "source": [
    "df_over.groupby(['User Type', 'New IP']).progress_apply(lambda x : makeData(x))"
   ]
  },
  {
   "cell_type": "code",
   "execution_count": null,
   "metadata": {},
   "outputs": [],
   "source": []
  },
  {
   "cell_type": "code",
   "execution_count": 138,
   "metadata": {},
   "outputs": [],
   "source": [
    "sankey_df = pd.read_csv('../Data/Preprocessed/sankeyDiagram.csv', header = None)\n",
    "sankey_df.columns = ['start', 'end', 'New IP', 'User Type']"
   ]
  },
  {
   "cell_type": "code",
   "execution_count": 139,
   "metadata": {},
   "outputs": [],
   "source": [
    "key_dict = {}\n",
    "\n",
    "for i, value in enumerate(sankey_df['start'].unique()):\n",
    "    key_dict[value] = i\n"
   ]
  },
  {
   "cell_type": "code",
   "execution_count": 140,
   "metadata": {},
   "outputs": [],
   "source": [
    "sankey_df['start'] = sankey_df['start'].apply(lambda x : key_dict[x])\n",
    "sankey_df['end'] = sankey_df['end'].apply(lambda x : key_dict[x])\n",
    "\n",
    "sankey_df = sankey_df.groupby(['User Type', 'start', 'end'])['New IP'].nunique().reset_index()\n",
    "inner = sankey_df.loc[sankey_df['User Type'] == '내부']\n",
    "out = sankey_df.loc[sankey_df['User Type'] == '외부']"
   ]
  },
  {
   "cell_type": "code",
   "execution_count": 155,
   "metadata": {},
   "outputs": [
    {
     "data": {
      "text/plain": [
       "['뉴스',\n",
       " '채용/인재',\n",
       " '검색',\n",
       " '기타',\n",
       " '메인',\n",
       " '작품/조경수/자재',\n",
       " '포토갤러리',\n",
       " 'e-아카데미',\n",
       " '매거진',\n",
       " '커뮤니티',\n",
       " '고객센터',\n",
       " '마이페이지',\n",
       " '인기통합정보']"
      ]
     },
     "execution_count": 155,
     "metadata": {},
     "output_type": "execute_result"
    }
   ],
   "source": [
    "list(key_dict.keys())"
   ]
  },
  {
   "cell_type": "code",
   "execution_count": 149,
   "metadata": {},
   "outputs": [
    {
     "data": {
      "text/html": [
       "<div>\n",
       "<style scoped>\n",
       "    .dataframe tbody tr th:only-of-type {\n",
       "        vertical-align: middle;\n",
       "    }\n",
       "\n",
       "    .dataframe tbody tr th {\n",
       "        vertical-align: top;\n",
       "    }\n",
       "\n",
       "    .dataframe thead th {\n",
       "        text-align: right;\n",
       "    }\n",
       "</style>\n",
       "<table border=\"1\" class=\"dataframe\">\n",
       "  <thead>\n",
       "    <tr style=\"text-align: right;\">\n",
       "      <th></th>\n",
       "      <th>User Type</th>\n",
       "      <th>start</th>\n",
       "      <th>end</th>\n",
       "      <th>New IP</th>\n",
       "    </tr>\n",
       "  </thead>\n",
       "  <tbody>\n",
       "    <tr>\n",
       "      <th>0</th>\n",
       "      <td>내부</td>\n",
       "      <td>0</td>\n",
       "      <td>1</td>\n",
       "      <td>6528</td>\n",
       "    </tr>\n",
       "    <tr>\n",
       "      <th>1</th>\n",
       "      <td>내부</td>\n",
       "      <td>0</td>\n",
       "      <td>2</td>\n",
       "      <td>650</td>\n",
       "    </tr>\n",
       "  </tbody>\n",
       "</table>\n",
       "</div>"
      ],
      "text/plain": [
       "  User Type  start  end  New IP\n",
       "0        내부      0    1    6528\n",
       "1        내부      0    2     650"
      ]
     },
     "execution_count": 149,
     "metadata": {},
     "output_type": "execute_result"
    }
   ],
   "source": [
    "inner.head(2)"
   ]
  },
  {
   "cell_type": "code",
   "execution_count": 158,
   "metadata": {},
   "outputs": [
    {
     "data": {
      "application/vnd.plotly.v1+json": {
       "config": {
        "plotlyServerURL": "https://plot.ly"
       },
       "data": [
        {
         "link": {
          "source": [
           0,
           0,
           0,
           0,
           0,
           0,
           0,
           0,
           0,
           0,
           0,
           0,
           1,
           1,
           1,
           1,
           1,
           1,
           1,
           1,
           1,
           1,
           1,
           1,
           2,
           2,
           2,
           2,
           2,
           2,
           2,
           2,
           2,
           2,
           2,
           2,
           3,
           3,
           3,
           3,
           3,
           3,
           3,
           3,
           3,
           3,
           3,
           3,
           4,
           4,
           4,
           4,
           4,
           4,
           4,
           4,
           4,
           4,
           4,
           4,
           5,
           5,
           5,
           5,
           5,
           5,
           5,
           5,
           5,
           5,
           5,
           5,
           6,
           6,
           6,
           6,
           6,
           6,
           6,
           6,
           6,
           6,
           6,
           6,
           7,
           7,
           7,
           7,
           7,
           7,
           7,
           7,
           7,
           7,
           7,
           8,
           8,
           8,
           8,
           8,
           8,
           8,
           8,
           8,
           8,
           8,
           8,
           9,
           9,
           9,
           9,
           9,
           9,
           9,
           9,
           9,
           9,
           9,
           9,
           10,
           10,
           10,
           10,
           10,
           10,
           10,
           10,
           10,
           10,
           10,
           10,
           11,
           11,
           11,
           11,
           11,
           11,
           11,
           11,
           11,
           11,
           11,
           11,
           12,
           12,
           12,
           12,
           12,
           12,
           12,
           12,
           12,
           12,
           12,
           12
          ],
          "target": [
           1,
           2,
           3,
           4,
           5,
           6,
           7,
           8,
           9,
           10,
           11,
           12,
           0,
           2,
           3,
           4,
           5,
           6,
           7,
           8,
           9,
           10,
           11,
           12,
           0,
           1,
           3,
           4,
           5,
           6,
           7,
           8,
           9,
           10,
           11,
           12,
           0,
           1,
           2,
           4,
           5,
           6,
           7,
           8,
           9,
           10,
           11,
           12,
           0,
           1,
           2,
           3,
           5,
           6,
           7,
           8,
           9,
           10,
           11,
           12,
           0,
           1,
           2,
           3,
           4,
           6,
           7,
           8,
           9,
           10,
           11,
           12,
           0,
           1,
           2,
           3,
           4,
           5,
           7,
           8,
           9,
           10,
           11,
           12,
           0,
           1,
           2,
           3,
           4,
           5,
           6,
           8,
           9,
           10,
           12,
           0,
           1,
           2,
           3,
           4,
           5,
           6,
           7,
           9,
           10,
           11,
           12,
           0,
           1,
           2,
           3,
           4,
           5,
           6,
           7,
           8,
           10,
           11,
           12,
           0,
           1,
           2,
           3,
           4,
           5,
           6,
           7,
           8,
           9,
           11,
           12,
           0,
           1,
           2,
           3,
           4,
           5,
           6,
           7,
           8,
           9,
           10,
           12,
           0,
           1,
           2,
           3,
           4,
           5,
           6,
           7,
           8,
           9,
           10,
           11
          ],
          "value": [
           6528,
           650,
           5122,
           3865,
           2882,
           1176,
           143,
           1241,
           1472,
           2432,
           48,
           2992,
           3844,
           888,
           1608,
           2004,
           2103,
           1097,
           134,
           1108,
           1251,
           446,
           750,
           652,
           154,
           158,
           2566,
           10,
           70,
           94,
           1,
           50,
           142,
           54,
           28,
           4,
           5689,
           2047,
           974,
           349,
           1122,
           271,
           19,
           382,
           671,
           2170,
           350,
           578,
           5803,
           3988,
           312,
           221,
           225,
           70,
           5,
           14,
           67,
           182,
           6,
           3,
           1430,
           1192,
           169,
           2794,
           145,
           1155,
           90,
           385,
           659,
           298,
           282,
           731,
           787,
           771,
           297,
           474,
           39,
           724,
           352,
           228,
           693,
           389,
           49,
           147,
           46,
           57,
           1,
           162,
           6,
           99,
           145,
           353,
           124,
           10,
           9,
           869,
           994,
           132,
           428,
           14,
           504,
           251,
           166,
           616,
           335,
           38,
           325,
           1328,
           1277,
           144,
           720,
           360,
           445,
           386,
           90,
           422,
           533,
           16,
           260,
           4072,
           500,
           28,
           1316,
           27,
           276,
           232,
           8,
           495,
           525,
           44,
           365,
           44,
           207,
           47,
           360,
           5,
           483,
           79,
           1,
           36,
           24,
           52,
           102,
           3066,
           825,
           10,
           678,
           9,
           736,
           163,
           7,
           378,
           215,
           248,
           59
          ]
         },
         "node": {
          "label": [
           "뉴스",
           "채용/인재",
           "검색",
           "기타",
           "메인",
           "작품/조경수/자재",
           "포토갤러리",
           "e-아카데미",
           "매거진",
           "커뮤니티",
           "고객센터",
           "마이페이지",
           "인기통합정보"
          ],
          "line": {
           "color": "black",
           "width": 0.5
          },
          "pad": 15,
          "thickness": 20
         },
         "type": "sankey"
        }
       ],
       "layout": {
        "template": {
         "data": {
          "bar": [
           {
            "error_x": {
             "color": "#2a3f5f"
            },
            "error_y": {
             "color": "#2a3f5f"
            },
            "marker": {
             "line": {
              "color": "#E5ECF6",
              "width": 0.5
             },
             "pattern": {
              "fillmode": "overlay",
              "size": 10,
              "solidity": 0.2
             }
            },
            "type": "bar"
           }
          ],
          "barpolar": [
           {
            "marker": {
             "line": {
              "color": "#E5ECF6",
              "width": 0.5
             },
             "pattern": {
              "fillmode": "overlay",
              "size": 10,
              "solidity": 0.2
             }
            },
            "type": "barpolar"
           }
          ],
          "carpet": [
           {
            "aaxis": {
             "endlinecolor": "#2a3f5f",
             "gridcolor": "white",
             "linecolor": "white",
             "minorgridcolor": "white",
             "startlinecolor": "#2a3f5f"
            },
            "baxis": {
             "endlinecolor": "#2a3f5f",
             "gridcolor": "white",
             "linecolor": "white",
             "minorgridcolor": "white",
             "startlinecolor": "#2a3f5f"
            },
            "type": "carpet"
           }
          ],
          "choropleth": [
           {
            "colorbar": {
             "outlinewidth": 0,
             "ticks": ""
            },
            "type": "choropleth"
           }
          ],
          "contour": [
           {
            "colorbar": {
             "outlinewidth": 0,
             "ticks": ""
            },
            "colorscale": [
             [
              0,
              "#0d0887"
             ],
             [
              0.1111111111111111,
              "#46039f"
             ],
             [
              0.2222222222222222,
              "#7201a8"
             ],
             [
              0.3333333333333333,
              "#9c179e"
             ],
             [
              0.4444444444444444,
              "#bd3786"
             ],
             [
              0.5555555555555556,
              "#d8576b"
             ],
             [
              0.6666666666666666,
              "#ed7953"
             ],
             [
              0.7777777777777778,
              "#fb9f3a"
             ],
             [
              0.8888888888888888,
              "#fdca26"
             ],
             [
              1,
              "#f0f921"
             ]
            ],
            "type": "contour"
           }
          ],
          "contourcarpet": [
           {
            "colorbar": {
             "outlinewidth": 0,
             "ticks": ""
            },
            "type": "contourcarpet"
           }
          ],
          "heatmap": [
           {
            "colorbar": {
             "outlinewidth": 0,
             "ticks": ""
            },
            "colorscale": [
             [
              0,
              "#0d0887"
             ],
             [
              0.1111111111111111,
              "#46039f"
             ],
             [
              0.2222222222222222,
              "#7201a8"
             ],
             [
              0.3333333333333333,
              "#9c179e"
             ],
             [
              0.4444444444444444,
              "#bd3786"
             ],
             [
              0.5555555555555556,
              "#d8576b"
             ],
             [
              0.6666666666666666,
              "#ed7953"
             ],
             [
              0.7777777777777778,
              "#fb9f3a"
             ],
             [
              0.8888888888888888,
              "#fdca26"
             ],
             [
              1,
              "#f0f921"
             ]
            ],
            "type": "heatmap"
           }
          ],
          "heatmapgl": [
           {
            "colorbar": {
             "outlinewidth": 0,
             "ticks": ""
            },
            "colorscale": [
             [
              0,
              "#0d0887"
             ],
             [
              0.1111111111111111,
              "#46039f"
             ],
             [
              0.2222222222222222,
              "#7201a8"
             ],
             [
              0.3333333333333333,
              "#9c179e"
             ],
             [
              0.4444444444444444,
              "#bd3786"
             ],
             [
              0.5555555555555556,
              "#d8576b"
             ],
             [
              0.6666666666666666,
              "#ed7953"
             ],
             [
              0.7777777777777778,
              "#fb9f3a"
             ],
             [
              0.8888888888888888,
              "#fdca26"
             ],
             [
              1,
              "#f0f921"
             ]
            ],
            "type": "heatmapgl"
           }
          ],
          "histogram": [
           {
            "marker": {
             "pattern": {
              "fillmode": "overlay",
              "size": 10,
              "solidity": 0.2
             }
            },
            "type": "histogram"
           }
          ],
          "histogram2d": [
           {
            "colorbar": {
             "outlinewidth": 0,
             "ticks": ""
            },
            "colorscale": [
             [
              0,
              "#0d0887"
             ],
             [
              0.1111111111111111,
              "#46039f"
             ],
             [
              0.2222222222222222,
              "#7201a8"
             ],
             [
              0.3333333333333333,
              "#9c179e"
             ],
             [
              0.4444444444444444,
              "#bd3786"
             ],
             [
              0.5555555555555556,
              "#d8576b"
             ],
             [
              0.6666666666666666,
              "#ed7953"
             ],
             [
              0.7777777777777778,
              "#fb9f3a"
             ],
             [
              0.8888888888888888,
              "#fdca26"
             ],
             [
              1,
              "#f0f921"
             ]
            ],
            "type": "histogram2d"
           }
          ],
          "histogram2dcontour": [
           {
            "colorbar": {
             "outlinewidth": 0,
             "ticks": ""
            },
            "colorscale": [
             [
              0,
              "#0d0887"
             ],
             [
              0.1111111111111111,
              "#46039f"
             ],
             [
              0.2222222222222222,
              "#7201a8"
             ],
             [
              0.3333333333333333,
              "#9c179e"
             ],
             [
              0.4444444444444444,
              "#bd3786"
             ],
             [
              0.5555555555555556,
              "#d8576b"
             ],
             [
              0.6666666666666666,
              "#ed7953"
             ],
             [
              0.7777777777777778,
              "#fb9f3a"
             ],
             [
              0.8888888888888888,
              "#fdca26"
             ],
             [
              1,
              "#f0f921"
             ]
            ],
            "type": "histogram2dcontour"
           }
          ],
          "mesh3d": [
           {
            "colorbar": {
             "outlinewidth": 0,
             "ticks": ""
            },
            "type": "mesh3d"
           }
          ],
          "parcoords": [
           {
            "line": {
             "colorbar": {
              "outlinewidth": 0,
              "ticks": ""
             }
            },
            "type": "parcoords"
           }
          ],
          "pie": [
           {
            "automargin": true,
            "type": "pie"
           }
          ],
          "scatter": [
           {
            "fillpattern": {
             "fillmode": "overlay",
             "size": 10,
             "solidity": 0.2
            },
            "type": "scatter"
           }
          ],
          "scatter3d": [
           {
            "line": {
             "colorbar": {
              "outlinewidth": 0,
              "ticks": ""
             }
            },
            "marker": {
             "colorbar": {
              "outlinewidth": 0,
              "ticks": ""
             }
            },
            "type": "scatter3d"
           }
          ],
          "scattercarpet": [
           {
            "marker": {
             "colorbar": {
              "outlinewidth": 0,
              "ticks": ""
             }
            },
            "type": "scattercarpet"
           }
          ],
          "scattergeo": [
           {
            "marker": {
             "colorbar": {
              "outlinewidth": 0,
              "ticks": ""
             }
            },
            "type": "scattergeo"
           }
          ],
          "scattergl": [
           {
            "marker": {
             "colorbar": {
              "outlinewidth": 0,
              "ticks": ""
             }
            },
            "type": "scattergl"
           }
          ],
          "scattermapbox": [
           {
            "marker": {
             "colorbar": {
              "outlinewidth": 0,
              "ticks": ""
             }
            },
            "type": "scattermapbox"
           }
          ],
          "scatterpolar": [
           {
            "marker": {
             "colorbar": {
              "outlinewidth": 0,
              "ticks": ""
             }
            },
            "type": "scatterpolar"
           }
          ],
          "scatterpolargl": [
           {
            "marker": {
             "colorbar": {
              "outlinewidth": 0,
              "ticks": ""
             }
            },
            "type": "scatterpolargl"
           }
          ],
          "scatterternary": [
           {
            "marker": {
             "colorbar": {
              "outlinewidth": 0,
              "ticks": ""
             }
            },
            "type": "scatterternary"
           }
          ],
          "surface": [
           {
            "colorbar": {
             "outlinewidth": 0,
             "ticks": ""
            },
            "colorscale": [
             [
              0,
              "#0d0887"
             ],
             [
              0.1111111111111111,
              "#46039f"
             ],
             [
              0.2222222222222222,
              "#7201a8"
             ],
             [
              0.3333333333333333,
              "#9c179e"
             ],
             [
              0.4444444444444444,
              "#bd3786"
             ],
             [
              0.5555555555555556,
              "#d8576b"
             ],
             [
              0.6666666666666666,
              "#ed7953"
             ],
             [
              0.7777777777777778,
              "#fb9f3a"
             ],
             [
              0.8888888888888888,
              "#fdca26"
             ],
             [
              1,
              "#f0f921"
             ]
            ],
            "type": "surface"
           }
          ],
          "table": [
           {
            "cells": {
             "fill": {
              "color": "#EBF0F8"
             },
             "line": {
              "color": "white"
             }
            },
            "header": {
             "fill": {
              "color": "#C8D4E3"
             },
             "line": {
              "color": "white"
             }
            },
            "type": "table"
           }
          ]
         },
         "layout": {
          "annotationdefaults": {
           "arrowcolor": "#2a3f5f",
           "arrowhead": 0,
           "arrowwidth": 1
          },
          "autotypenumbers": "strict",
          "coloraxis": {
           "colorbar": {
            "outlinewidth": 0,
            "ticks": ""
           }
          },
          "colorscale": {
           "diverging": [
            [
             0,
             "#8e0152"
            ],
            [
             0.1,
             "#c51b7d"
            ],
            [
             0.2,
             "#de77ae"
            ],
            [
             0.3,
             "#f1b6da"
            ],
            [
             0.4,
             "#fde0ef"
            ],
            [
             0.5,
             "#f7f7f7"
            ],
            [
             0.6,
             "#e6f5d0"
            ],
            [
             0.7,
             "#b8e186"
            ],
            [
             0.8,
             "#7fbc41"
            ],
            [
             0.9,
             "#4d9221"
            ],
            [
             1,
             "#276419"
            ]
           ],
           "sequential": [
            [
             0,
             "#0d0887"
            ],
            [
             0.1111111111111111,
             "#46039f"
            ],
            [
             0.2222222222222222,
             "#7201a8"
            ],
            [
             0.3333333333333333,
             "#9c179e"
            ],
            [
             0.4444444444444444,
             "#bd3786"
            ],
            [
             0.5555555555555556,
             "#d8576b"
            ],
            [
             0.6666666666666666,
             "#ed7953"
            ],
            [
             0.7777777777777778,
             "#fb9f3a"
            ],
            [
             0.8888888888888888,
             "#fdca26"
            ],
            [
             1,
             "#f0f921"
            ]
           ],
           "sequentialminus": [
            [
             0,
             "#0d0887"
            ],
            [
             0.1111111111111111,
             "#46039f"
            ],
            [
             0.2222222222222222,
             "#7201a8"
            ],
            [
             0.3333333333333333,
             "#9c179e"
            ],
            [
             0.4444444444444444,
             "#bd3786"
            ],
            [
             0.5555555555555556,
             "#d8576b"
            ],
            [
             0.6666666666666666,
             "#ed7953"
            ],
            [
             0.7777777777777778,
             "#fb9f3a"
            ],
            [
             0.8888888888888888,
             "#fdca26"
            ],
            [
             1,
             "#f0f921"
            ]
           ]
          },
          "colorway": [
           "#636efa",
           "#EF553B",
           "#00cc96",
           "#ab63fa",
           "#FFA15A",
           "#19d3f3",
           "#FF6692",
           "#B6E880",
           "#FF97FF",
           "#FECB52"
          ],
          "font": {
           "color": "#2a3f5f"
          },
          "geo": {
           "bgcolor": "white",
           "lakecolor": "white",
           "landcolor": "#E5ECF6",
           "showlakes": true,
           "showland": true,
           "subunitcolor": "white"
          },
          "hoverlabel": {
           "align": "left"
          },
          "hovermode": "closest",
          "mapbox": {
           "style": "light"
          },
          "paper_bgcolor": "white",
          "plot_bgcolor": "#E5ECF6",
          "polar": {
           "angularaxis": {
            "gridcolor": "white",
            "linecolor": "white",
            "ticks": ""
           },
           "bgcolor": "#E5ECF6",
           "radialaxis": {
            "gridcolor": "white",
            "linecolor": "white",
            "ticks": ""
           }
          },
          "scene": {
           "xaxis": {
            "backgroundcolor": "#E5ECF6",
            "gridcolor": "white",
            "gridwidth": 2,
            "linecolor": "white",
            "showbackground": true,
            "ticks": "",
            "zerolinecolor": "white"
           },
           "yaxis": {
            "backgroundcolor": "#E5ECF6",
            "gridcolor": "white",
            "gridwidth": 2,
            "linecolor": "white",
            "showbackground": true,
            "ticks": "",
            "zerolinecolor": "white"
           },
           "zaxis": {
            "backgroundcolor": "#E5ECF6",
            "gridcolor": "white",
            "gridwidth": 2,
            "linecolor": "white",
            "showbackground": true,
            "ticks": "",
            "zerolinecolor": "white"
           }
          },
          "shapedefaults": {
           "line": {
            "color": "#2a3f5f"
           }
          },
          "ternary": {
           "aaxis": {
            "gridcolor": "white",
            "linecolor": "white",
            "ticks": ""
           },
           "baxis": {
            "gridcolor": "white",
            "linecolor": "white",
            "ticks": ""
           },
           "bgcolor": "#E5ECF6",
           "caxis": {
            "gridcolor": "white",
            "linecolor": "white",
            "ticks": ""
           }
          },
          "title": {
           "x": 0.05
          },
          "xaxis": {
           "automargin": true,
           "gridcolor": "white",
           "linecolor": "white",
           "ticks": "",
           "title": {
            "standoff": 15
           },
           "zerolinecolor": "white",
           "zerolinewidth": 2
          },
          "yaxis": {
           "automargin": true,
           "gridcolor": "white",
           "linecolor": "white",
           "ticks": "",
           "title": {
            "standoff": 15
           },
           "zerolinecolor": "white",
           "zerolinewidth": 2
          }
         }
        },
        "title": {
         "text": "Sankey Diagram Example"
        }
       }
      }
     },
     "metadata": {},
     "output_type": "display_data"
    }
   ],
   "source": [
    "# Define the nodes and links for the Sankey chart\n",
    "nodes = list(key_dict.keys())\n",
    "\n",
    "# Create the Sankey diagram\n",
    "fig = go.Figure(go.Sankey(\n",
    "    node=dict(\n",
    "        pad=15,\n",
    "        thickness=20,\n",
    "        line=dict(color=\"black\", width=0.5),\n",
    "        label=nodes\n",
    "    ),\n",
    "    link=dict(\n",
    "        source = inner['start'].values,\n",
    "        target = inner['end'].values,\n",
    "        value = inner['New IP'].values\n",
    "    )\n",
    "))\n",
    "\n",
    "# Customize the layout and appearance\n",
    "fig.update_layout(title_text=\"Sankey Diagram Example\")\n",
    "fig.show()"
   ]
  },
  {
   "cell_type": "code",
   "execution_count": null,
   "metadata": {},
   "outputs": [],
   "source": []
  },
  {
   "cell_type": "code",
   "execution_count": null,
   "metadata": {},
   "outputs": [],
   "source": []
  },
  {
   "cell_type": "code",
   "execution_count": null,
   "metadata": {},
   "outputs": [],
   "source": []
  },
  {
   "cell_type": "markdown",
   "metadata": {},
   "source": [
    "### bigPath가 하나인 사람"
   ]
  },
  {
   "cell_type": "code",
   "execution_count": 5,
   "metadata": {},
   "outputs": [],
   "source": [
    "df_one = df_origin.groupby(['New IP'])['bigPath'].nunique().reset_index().query('bigPath == 1')['New IP']\n",
    "df_one = df_origin.loc[df_origin['New IP'].isin(df_one)]\n",
    "df_one = df_one.groupby(['New IP', 'User Type'])['bigPath'].unique().reset_index()\n",
    "df_one['bigPath'] = df_one['bigPath'].apply(lambda x : x[0])"
   ]
  },
  {
   "cell_type": "code",
   "execution_count": 6,
   "metadata": {},
   "outputs": [],
   "source": [
    "# tmp01 = df_one.groupby(['User Type', 'bigPath'])['New IP'].count().reset_index()//\n",
    "tmp01 = df_one.groupby(['User Type', 'bigPath'])['New IP'].unique().reset_index()\n",
    "tmp01 = tmp01.loc[tmp01['bigPath'] != 'bigPath']\n",
    "tmp01['num_New IP'] = tmp01['New IP'].apply(lambda x : len(x))\n",
    "tmp_total = df_origin.groupby(['User Type'])['New IP'].nunique().reset_index()\n",
    "tmp_total = tmp_total.loc[tmp_total['User Type'] != 'User Type']\n",
    "tmp_total = tmp_total.rename(columns = {'New IP' : 'total_New IP'})\n",
    "\n",
    "tmp01 = tmp01.merge(tmp_total, on = ['User Type'], how = 'left')\n",
    "tmp01['단일 카테고리 비율'] = round(tmp01['num_New IP'] / tmp01['total_New IP'] * 100, 2)"
   ]
  },
  {
   "cell_type": "code",
   "execution_count": 7,
   "metadata": {},
   "outputs": [
    {
     "data": {
      "text/html": [
       "<div>\n",
       "<style scoped>\n",
       "    .dataframe tbody tr th:only-of-type {\n",
       "        vertical-align: middle;\n",
       "    }\n",
       "\n",
       "    .dataframe tbody tr th {\n",
       "        vertical-align: top;\n",
       "    }\n",
       "\n",
       "    .dataframe thead th {\n",
       "        text-align: right;\n",
       "    }\n",
       "</style>\n",
       "<table border=\"1\" class=\"dataframe\">\n",
       "  <thead>\n",
       "    <tr style=\"text-align: right;\">\n",
       "      <th></th>\n",
       "      <th>User Type</th>\n",
       "      <th>bigPath</th>\n",
       "      <th>New IP</th>\n",
       "      <th>num_New IP</th>\n",
       "      <th>total_New IP</th>\n",
       "      <th>단일 카테고리 비율</th>\n",
       "    </tr>\n",
       "  </thead>\n",
       "  <tbody>\n",
       "    <tr>\n",
       "      <th>0</th>\n",
       "      <td>내부</td>\n",
       "      <td>e-아카데미</td>\n",
       "      <td>[6515, 6532, 17212, 18548, 20216, 21535, 21871...</td>\n",
       "      <td>132</td>\n",
       "      <td>215350</td>\n",
       "      <td>0.06</td>\n",
       "    </tr>\n",
       "    <tr>\n",
       "      <th>1</th>\n",
       "      <td>내부</td>\n",
       "      <td>검색</td>\n",
       "      <td>[6655, 10217, 12397, 12719, 13061, 18936, 2467...</td>\n",
       "      <td>714</td>\n",
       "      <td>215350</td>\n",
       "      <td>0.33</td>\n",
       "    </tr>\n",
       "    <tr>\n",
       "      <th>2</th>\n",
       "      <td>내부</td>\n",
       "      <td>고객센터</td>\n",
       "      <td>[1276, 2054, 2056, 4733, 4792, 5029, 5092, 509...</td>\n",
       "      <td>3598</td>\n",
       "      <td>215350</td>\n",
       "      <td>1.67</td>\n",
       "    </tr>\n",
       "    <tr>\n",
       "      <th>3</th>\n",
       "      <td>내부</td>\n",
       "      <td>기타</td>\n",
       "      <td>[612, 653, 904, 1049, 1133, 1257, 1271, 1326, ...</td>\n",
       "      <td>14439</td>\n",
       "      <td>215350</td>\n",
       "      <td>6.70</td>\n",
       "    </tr>\n",
       "    <tr>\n",
       "      <th>4</th>\n",
       "      <td>내부</td>\n",
       "      <td>뉴스</td>\n",
       "      <td>[37, 38, 40, 46, 47, 49, 51, 81, 639, 654, 667...</td>\n",
       "      <td>45911</td>\n",
       "      <td>215350</td>\n",
       "      <td>21.32</td>\n",
       "    </tr>\n",
       "    <tr>\n",
       "      <th>5</th>\n",
       "      <td>내부</td>\n",
       "      <td>마이페이지</td>\n",
       "      <td>[3272, 4206, 6523, 7201, 9271, 10296, 11719, 1...</td>\n",
       "      <td>708</td>\n",
       "      <td>215350</td>\n",
       "      <td>0.33</td>\n",
       "    </tr>\n",
       "    <tr>\n",
       "      <th>6</th>\n",
       "      <td>내부</td>\n",
       "      <td>매거진</td>\n",
       "      <td>[356, 1277, 1278, 1319, 2058, 3285, 3471, 3492...</td>\n",
       "      <td>6232</td>\n",
       "      <td>215350</td>\n",
       "      <td>2.89</td>\n",
       "    </tr>\n",
       "    <tr>\n",
       "      <th>7</th>\n",
       "      <td>내부</td>\n",
       "      <td>메인</td>\n",
       "      <td>[36, 39, 45, 48, 97, 647, 1168, 1189, 1267, 17...</td>\n",
       "      <td>7714</td>\n",
       "      <td>215350</td>\n",
       "      <td>3.58</td>\n",
       "    </tr>\n",
       "    <tr>\n",
       "      <th>8</th>\n",
       "      <td>내부</td>\n",
       "      <td>인기통합정보</td>\n",
       "      <td>[3262, 3329, 3469, 3478, 3479, 3480, 3495, 349...</td>\n",
       "      <td>8205</td>\n",
       "      <td>215350</td>\n",
       "      <td>3.81</td>\n",
       "    </tr>\n",
       "    <tr>\n",
       "      <th>9</th>\n",
       "      <td>내부</td>\n",
       "      <td>작품/조경수/자재</td>\n",
       "      <td>[834, 3475, 3507, 4148, 4164, 4191, 4302, 4613...</td>\n",
       "      <td>7139</td>\n",
       "      <td>215350</td>\n",
       "      <td>3.32</td>\n",
       "    </tr>\n",
       "    <tr>\n",
       "      <th>10</th>\n",
       "      <td>내부</td>\n",
       "      <td>채용/인재</td>\n",
       "      <td>[74, 80, 349, 645, 660, 672, 673, 674, 675, 67...</td>\n",
       "      <td>58579</td>\n",
       "      <td>215350</td>\n",
       "      <td>27.20</td>\n",
       "    </tr>\n",
       "    <tr>\n",
       "      <th>11</th>\n",
       "      <td>내부</td>\n",
       "      <td>커뮤니티</td>\n",
       "      <td>[715, 1316, 1351, 1944, 2108, 2109, 2111, 2124...</td>\n",
       "      <td>7007</td>\n",
       "      <td>215350</td>\n",
       "      <td>3.25</td>\n",
       "    </tr>\n",
       "    <tr>\n",
       "      <th>12</th>\n",
       "      <td>내부</td>\n",
       "      <td>포토갤러리</td>\n",
       "      <td>[950, 1651, 3423, 4168, 7192, 8278, 9266, 9282...</td>\n",
       "      <td>1164</td>\n",
       "      <td>215350</td>\n",
       "      <td>0.54</td>\n",
       "    </tr>\n",
       "    <tr>\n",
       "      <th>13</th>\n",
       "      <td>외부</td>\n",
       "      <td>e-아카데미</td>\n",
       "      <td>[19748, 43391, 74507, 129214, 129226, 246291, ...</td>\n",
       "      <td>30</td>\n",
       "      <td>171536</td>\n",
       "      <td>0.02</td>\n",
       "    </tr>\n",
       "    <tr>\n",
       "      <th>14</th>\n",
       "      <td>외부</td>\n",
       "      <td>검색</td>\n",
       "      <td>[20129, 59077, 65672, 86044, 143757, 238590, 2...</td>\n",
       "      <td>47</td>\n",
       "      <td>171536</td>\n",
       "      <td>0.03</td>\n",
       "    </tr>\n",
       "    <tr>\n",
       "      <th>15</th>\n",
       "      <td>외부</td>\n",
       "      <td>고객센터</td>\n",
       "      <td>[25, 798, 1698, 4638, 4688, 6317, 7674, 7848, ...</td>\n",
       "      <td>1221</td>\n",
       "      <td>171536</td>\n",
       "      <td>0.71</td>\n",
       "    </tr>\n",
       "    <tr>\n",
       "      <th>16</th>\n",
       "      <td>외부</td>\n",
       "      <td>기타</td>\n",
       "      <td>[5, 20, 59, 65, 86, 101, 102, 327, 339, 633, 6...</td>\n",
       "      <td>58658</td>\n",
       "      <td>171536</td>\n",
       "      <td>34.20</td>\n",
       "    </tr>\n",
       "    <tr>\n",
       "      <th>17</th>\n",
       "      <td>외부</td>\n",
       "      <td>뉴스</td>\n",
       "      <td>[4, 6, 14, 22, 32, 44, 54, 55, 58, 75, 87, 92,...</td>\n",
       "      <td>53976</td>\n",
       "      <td>171536</td>\n",
       "      <td>31.47</td>\n",
       "    </tr>\n",
       "    <tr>\n",
       "      <th>18</th>\n",
       "      <td>외부</td>\n",
       "      <td>마이페이지</td>\n",
       "      <td>[913, 1777, 10610, 18451, 20635, 28097, 81006,...</td>\n",
       "      <td>83</td>\n",
       "      <td>171536</td>\n",
       "      <td>0.05</td>\n",
       "    </tr>\n",
       "    <tr>\n",
       "      <th>19</th>\n",
       "      <td>외부</td>\n",
       "      <td>매거진</td>\n",
       "      <td>[71, 95, 616, 643, 782, 1833, 1839, 2229, 2231...</td>\n",
       "      <td>6613</td>\n",
       "      <td>171536</td>\n",
       "      <td>3.86</td>\n",
       "    </tr>\n",
       "    <tr>\n",
       "      <th>20</th>\n",
       "      <td>외부</td>\n",
       "      <td>메인</td>\n",
       "      <td>[18622, 90830, 163779, 184418, 195430, 221593,...</td>\n",
       "      <td>86</td>\n",
       "      <td>171536</td>\n",
       "      <td>0.05</td>\n",
       "    </tr>\n",
       "    <tr>\n",
       "      <th>21</th>\n",
       "      <td>외부</td>\n",
       "      <td>인기통합정보</td>\n",
       "      <td>[1173, 1758, 1778, 1863, 1939, 2080, 2278, 325...</td>\n",
       "      <td>2054</td>\n",
       "      <td>171536</td>\n",
       "      <td>1.20</td>\n",
       "    </tr>\n",
       "    <tr>\n",
       "      <th>22</th>\n",
       "      <td>외부</td>\n",
       "      <td>작품/조경수/자재</td>\n",
       "      <td>[662, 1367, 1599, 1606, 1717, 2244, 3528, 4603...</td>\n",
       "      <td>1739</td>\n",
       "      <td>171536</td>\n",
       "      <td>1.01</td>\n",
       "    </tr>\n",
       "    <tr>\n",
       "      <th>23</th>\n",
       "      <td>외부</td>\n",
       "      <td>채용/인재</td>\n",
       "      <td>[56, 334, 687, 801, 924, 1160, 1275, 1289, 129...</td>\n",
       "      <td>6605</td>\n",
       "      <td>171536</td>\n",
       "      <td>3.85</td>\n",
       "    </tr>\n",
       "    <tr>\n",
       "      <th>24</th>\n",
       "      <td>외부</td>\n",
       "      <td>커뮤니티</td>\n",
       "      <td>[104, 659, 704, 713, 748, 788, 814, 855, 860, ...</td>\n",
       "      <td>10227</td>\n",
       "      <td>171536</td>\n",
       "      <td>5.96</td>\n",
       "    </tr>\n",
       "    <tr>\n",
       "      <th>25</th>\n",
       "      <td>외부</td>\n",
       "      <td>포토갤러리</td>\n",
       "      <td>[644, 1603, 2140, 2563, 7101, 10468, 10773, 12...</td>\n",
       "      <td>455</td>\n",
       "      <td>171536</td>\n",
       "      <td>0.27</td>\n",
       "    </tr>\n",
       "  </tbody>\n",
       "</table>\n",
       "</div>"
      ],
      "text/plain": [
       "   User Type    bigPath                                             New IP  \\\n",
       "0         내부     e-아카데미  [6515, 6532, 17212, 18548, 20216, 21535, 21871...   \n",
       "1         내부         검색  [6655, 10217, 12397, 12719, 13061, 18936, 2467...   \n",
       "2         내부       고객센터  [1276, 2054, 2056, 4733, 4792, 5029, 5092, 509...   \n",
       "3         내부         기타  [612, 653, 904, 1049, 1133, 1257, 1271, 1326, ...   \n",
       "4         내부         뉴스  [37, 38, 40, 46, 47, 49, 51, 81, 639, 654, 667...   \n",
       "5         내부      마이페이지  [3272, 4206, 6523, 7201, 9271, 10296, 11719, 1...   \n",
       "6         내부        매거진  [356, 1277, 1278, 1319, 2058, 3285, 3471, 3492...   \n",
       "7         내부         메인  [36, 39, 45, 48, 97, 647, 1168, 1189, 1267, 17...   \n",
       "8         내부     인기통합정보  [3262, 3329, 3469, 3478, 3479, 3480, 3495, 349...   \n",
       "9         내부  작품/조경수/자재  [834, 3475, 3507, 4148, 4164, 4191, 4302, 4613...   \n",
       "10        내부      채용/인재  [74, 80, 349, 645, 660, 672, 673, 674, 675, 67...   \n",
       "11        내부       커뮤니티  [715, 1316, 1351, 1944, 2108, 2109, 2111, 2124...   \n",
       "12        내부      포토갤러리  [950, 1651, 3423, 4168, 7192, 8278, 9266, 9282...   \n",
       "13        외부     e-아카데미  [19748, 43391, 74507, 129214, 129226, 246291, ...   \n",
       "14        외부         검색  [20129, 59077, 65672, 86044, 143757, 238590, 2...   \n",
       "15        외부       고객센터  [25, 798, 1698, 4638, 4688, 6317, 7674, 7848, ...   \n",
       "16        외부         기타  [5, 20, 59, 65, 86, 101, 102, 327, 339, 633, 6...   \n",
       "17        외부         뉴스  [4, 6, 14, 22, 32, 44, 54, 55, 58, 75, 87, 92,...   \n",
       "18        외부      마이페이지  [913, 1777, 10610, 18451, 20635, 28097, 81006,...   \n",
       "19        외부        매거진  [71, 95, 616, 643, 782, 1833, 1839, 2229, 2231...   \n",
       "20        외부         메인  [18622, 90830, 163779, 184418, 195430, 221593,...   \n",
       "21        외부     인기통합정보  [1173, 1758, 1778, 1863, 1939, 2080, 2278, 325...   \n",
       "22        외부  작품/조경수/자재  [662, 1367, 1599, 1606, 1717, 2244, 3528, 4603...   \n",
       "23        외부      채용/인재  [56, 334, 687, 801, 924, 1160, 1275, 1289, 129...   \n",
       "24        외부       커뮤니티  [104, 659, 704, 713, 748, 788, 814, 855, 860, ...   \n",
       "25        외부      포토갤러리  [644, 1603, 2140, 2563, 7101, 10468, 10773, 12...   \n",
       "\n",
       "    num_New IP  total_New IP  단일 카테고리 비율  \n",
       "0          132        215350        0.06  \n",
       "1          714        215350        0.33  \n",
       "2         3598        215350        1.67  \n",
       "3        14439        215350        6.70  \n",
       "4        45911        215350       21.32  \n",
       "5          708        215350        0.33  \n",
       "6         6232        215350        2.89  \n",
       "7         7714        215350        3.58  \n",
       "8         8205        215350        3.81  \n",
       "9         7139        215350        3.32  \n",
       "10       58579        215350       27.20  \n",
       "11        7007        215350        3.25  \n",
       "12        1164        215350        0.54  \n",
       "13          30        171536        0.02  \n",
       "14          47        171536        0.03  \n",
       "15        1221        171536        0.71  \n",
       "16       58658        171536       34.20  \n",
       "17       53976        171536       31.47  \n",
       "18          83        171536        0.05  \n",
       "19        6613        171536        3.86  \n",
       "20          86        171536        0.05  \n",
       "21        2054        171536        1.20  \n",
       "22        1739        171536        1.01  \n",
       "23        6605        171536        3.85  \n",
       "24       10227        171536        5.96  \n",
       "25         455        171536        0.27  "
      ]
     },
     "execution_count": 7,
     "metadata": {},
     "output_type": "execute_result"
    }
   ],
   "source": [
    "tmp01"
   ]
  },
  {
   "cell_type": "code",
   "execution_count": 78,
   "metadata": {},
   "outputs": [
    {
     "data": {
      "text/html": [
       "<div>\n",
       "<style scoped>\n",
       "    .dataframe tbody tr th:only-of-type {\n",
       "        vertical-align: middle;\n",
       "    }\n",
       "\n",
       "    .dataframe tbody tr th {\n",
       "        vertical-align: top;\n",
       "    }\n",
       "\n",
       "    .dataframe thead th {\n",
       "        text-align: right;\n",
       "    }\n",
       "</style>\n",
       "<table border=\"1\" class=\"dataframe\">\n",
       "  <thead>\n",
       "    <tr style=\"text-align: right;\">\n",
       "      <th></th>\n",
       "      <th>Timestamp</th>\n",
       "      <th>IP</th>\n",
       "      <th>URL</th>\n",
       "      <th>Category</th>\n",
       "      <th>URL Search Word</th>\n",
       "      <th>Referer</th>\n",
       "      <th>Referer Search Word</th>\n",
       "      <th>Referer Source</th>\n",
       "      <th>Referer Category</th>\n",
       "      <th>Referer Content Type</th>\n",
       "      <th>...</th>\n",
       "      <th>bigPath</th>\n",
       "      <th>mcd</th>\n",
       "      <th>rk</th>\n",
       "      <th>bt</th>\n",
       "      <th>bsp</th>\n",
       "      <th>middlePath</th>\n",
       "      <th>smallPath</th>\n",
       "      <th>tmp</th>\n",
       "      <th>news_id</th>\n",
       "      <th>idx</th>\n",
       "    </tr>\n",
       "  </thead>\n",
       "  <tbody>\n",
       "    <tr>\n",
       "      <th>0</th>\n",
       "      <td>2022-08-01 14:30:55+09:00</td>\n",
       "      <td>1.220.249.83</td>\n",
       "      <td>/jobse/job_view.html?mcd=c01&amp;idx=24596</td>\n",
       "      <td>jobs</td>\n",
       "      <td>NaN</td>\n",
       "      <td>NaN</td>\n",
       "      <td>NaN</td>\n",
       "      <td>NaN</td>\n",
       "      <td>etc</td>\n",
       "      <td>etc</td>\n",
       "      <td>...</td>\n",
       "      <td>채용/인재</td>\n",
       "      <td>mcd=c01</td>\n",
       "      <td>NaN</td>\n",
       "      <td>NaN</td>\n",
       "      <td>NaN</td>\n",
       "      <td>시공/감리/생산</td>\n",
       "      <td>메인</td>\n",
       "      <td>jobse</td>\n",
       "      <td>NaN</td>\n",
       "      <td>idx=24596</td>\n",
       "    </tr>\n",
       "    <tr>\n",
       "      <th>1</th>\n",
       "      <td>2022-08-01 14:32:14+09:00</td>\n",
       "      <td>1.220.249.83</td>\n",
       "      <td>/jobse/job_view.html?mcd=c01&amp;idx=23934</td>\n",
       "      <td>jobs</td>\n",
       "      <td>NaN</td>\n",
       "      <td>NaN</td>\n",
       "      <td>NaN</td>\n",
       "      <td>NaN</td>\n",
       "      <td>etc</td>\n",
       "      <td>etc</td>\n",
       "      <td>...</td>\n",
       "      <td>채용/인재</td>\n",
       "      <td>mcd=c01</td>\n",
       "      <td>NaN</td>\n",
       "      <td>NaN</td>\n",
       "      <td>NaN</td>\n",
       "      <td>시공/감리/생산</td>\n",
       "      <td>메인</td>\n",
       "      <td>jobse</td>\n",
       "      <td>NaN</td>\n",
       "      <td>idx=23934</td>\n",
       "    </tr>\n",
       "  </tbody>\n",
       "</table>\n",
       "<p>2 rows × 28 columns</p>\n",
       "</div>"
      ],
      "text/plain": [
       "                   Timestamp            IP  \\\n",
       "0  2022-08-01 14:30:55+09:00  1.220.249.83   \n",
       "1  2022-08-01 14:32:14+09:00  1.220.249.83   \n",
       "\n",
       "                                      URL Category URL Search Word Referer  \\\n",
       "0  /jobse/job_view.html?mcd=c01&idx=24596     jobs             NaN     NaN   \n",
       "1  /jobse/job_view.html?mcd=c01&idx=23934     jobs             NaN     NaN   \n",
       "\n",
       "  Referer Search Word Referer Source Referer Category Referer Content Type  \\\n",
       "0                 NaN            NaN              etc                  etc   \n",
       "1                 NaN            NaN              etc                  etc   \n",
       "\n",
       "   ... bigPath      mcd   rk   bt  bsp  middlePath  smallPath    tmp news_id  \\\n",
       "0  ...   채용/인재  mcd=c01  NaN  NaN  NaN    시공/감리/생산         메인  jobse     NaN   \n",
       "1  ...   채용/인재  mcd=c01  NaN  NaN  NaN    시공/감리/생산         메인  jobse     NaN   \n",
       "\n",
       "         idx  \n",
       "0  idx=24596  \n",
       "1  idx=23934  \n",
       "\n",
       "[2 rows x 28 columns]"
      ]
     },
     "execution_count": 78,
     "metadata": {},
     "output_type": "execute_result"
    }
   ],
   "source": [
    "innerOut_df_origin.head(2)"
   ]
  },
  {
   "cell_type": "code",
   "execution_count": 44,
   "metadata": {},
   "outputs": [
    {
     "name": "stderr",
     "output_type": "stream",
     "text": [
      "26it [00:09,  2.84it/s]\n"
     ]
    }
   ],
   "source": [
    "result = {'User Type' : [],\n",
    "          'bigPath' : [],\n",
    "          'count_New IP' : []}\n",
    "\n",
    "for i, row in tqdm(tmp01[['User Type', 'bigPath', 'New IP']].iterrows()):\n",
    "    tmp = innerOut_df_origin.loc[(innerOut_df_origin['User Type'] == row['User Type']) & (innerOut_df_origin['New IP'].isin(row['New IP']))]\n",
    "    result['count_New IP'].append(tmp['New IP'].nunique())\n",
    "    result['bigPath'].append(row['bigPath'])\n",
    "    result['User Type'].append(row['User Type'])\n",
    "\n",
    "result = pd.DataFrame(result)\n",
    "\n",
    "tmp_total = innerOut_df_origin.groupby(['User Type'])['New IP'].nunique().reset_index().rename(columns = {'New IP' : 'total_New IP'})\n",
    "\n",
    "result = result.merge(tmp_total, on = 'User Type', how = 'left')"
   ]
  },
  {
   "cell_type": "code",
   "execution_count": 45,
   "metadata": {},
   "outputs": [
    {
     "ename": "KeyError",
     "evalue": "'total_New IP'",
     "output_type": "error",
     "traceback": [
      "\u001b[1;31m---------------------------------------------------------------------------\u001b[0m",
      "\u001b[1;31mKeyError\u001b[0m                                  Traceback (most recent call last)",
      "File \u001b[1;32mc:\\Users\\WESLEYQUEST\\anaconda3\\envs\\BIgDataUtilization2023\\Lib\\site-packages\\pandas\\core\\indexes\\base.py:3790\u001b[0m, in \u001b[0;36mIndex.get_loc\u001b[1;34m(self, key)\u001b[0m\n\u001b[0;32m   3789\u001b[0m \u001b[39mtry\u001b[39;00m:\n\u001b[1;32m-> 3790\u001b[0m     \u001b[39mreturn\u001b[39;00m \u001b[39mself\u001b[39;49m\u001b[39m.\u001b[39;49m_engine\u001b[39m.\u001b[39;49mget_loc(casted_key)\n\u001b[0;32m   3791\u001b[0m \u001b[39mexcept\u001b[39;00m \u001b[39mKeyError\u001b[39;00m \u001b[39mas\u001b[39;00m err:\n",
      "File \u001b[1;32mindex.pyx:152\u001b[0m, in \u001b[0;36mpandas._libs.index.IndexEngine.get_loc\u001b[1;34m()\u001b[0m\n",
      "File \u001b[1;32mindex.pyx:181\u001b[0m, in \u001b[0;36mpandas._libs.index.IndexEngine.get_loc\u001b[1;34m()\u001b[0m\n",
      "File \u001b[1;32mpandas\\_libs\\hashtable_class_helper.pxi:7080\u001b[0m, in \u001b[0;36mpandas._libs.hashtable.PyObjectHashTable.get_item\u001b[1;34m()\u001b[0m\n",
      "File \u001b[1;32mpandas\\_libs\\hashtable_class_helper.pxi:7088\u001b[0m, in \u001b[0;36mpandas._libs.hashtable.PyObjectHashTable.get_item\u001b[1;34m()\u001b[0m\n",
      "\u001b[1;31mKeyError\u001b[0m: 'total_New IP'",
      "\nThe above exception was the direct cause of the following exception:\n",
      "\u001b[1;31mKeyError\u001b[0m                                  Traceback (most recent call last)",
      "\u001b[1;32me:\\BigDataUtilizationSupportProject2023\\랜트\\Jupyter\\0321. 카테고리 분석__Sankey Diagram copy.ipynb 셀 16\u001b[0m line \u001b[0;36m4\n\u001b[0;32m      <a href='vscode-notebook-cell:/e%3A/BigDataUtilizationSupportProject2023/%EB%9E%9C%ED%8A%B8/Jupyter/0321.%20%EC%B9%B4%ED%85%8C%EA%B3%A0%EB%A6%AC%20%EB%B6%84%EC%84%9D__Sankey%20Diagram%20copy.ipynb#X53sZmlsZQ%3D%3D?line=0'>1</a>\u001b[0m tmp_total \u001b[39m=\u001b[39m innerOut_df_origin\u001b[39m.\u001b[39mgroupby([\u001b[39m'\u001b[39m\u001b[39mUser Type\u001b[39m\u001b[39m'\u001b[39m])[\u001b[39m'\u001b[39m\u001b[39mNew IP\u001b[39m\u001b[39m'\u001b[39m]\u001b[39m.\u001b[39mnunique()\u001b[39m.\u001b[39mreset_index()\u001b[39m.\u001b[39mrename(columns \u001b[39m=\u001b[39m {\u001b[39m'\u001b[39m\u001b[39mNew IP\u001b[39m\u001b[39m'\u001b[39m : \u001b[39m'\u001b[39m\u001b[39mtotal_New IP\u001b[39m\u001b[39m'\u001b[39m})\n\u001b[0;32m      <a href='vscode-notebook-cell:/e%3A/BigDataUtilizationSupportProject2023/%EB%9E%9C%ED%8A%B8/Jupyter/0321.%20%EC%B9%B4%ED%85%8C%EA%B3%A0%EB%A6%AC%20%EB%B6%84%EC%84%9D__Sankey%20Diagram%20copy.ipynb#X53sZmlsZQ%3D%3D?line=1'>2</a>\u001b[0m result \u001b[39m=\u001b[39m result\u001b[39m.\u001b[39mmerge(tmp_total, on \u001b[39m=\u001b[39m \u001b[39m'\u001b[39m\u001b[39mUser Type\u001b[39m\u001b[39m'\u001b[39m, how \u001b[39m=\u001b[39m \u001b[39m'\u001b[39m\u001b[39mleft\u001b[39m\u001b[39m'\u001b[39m)\n\u001b[1;32m----> <a href='vscode-notebook-cell:/e%3A/BigDataUtilizationSupportProject2023/%EB%9E%9C%ED%8A%B8/Jupyter/0321.%20%EC%B9%B4%ED%85%8C%EA%B3%A0%EB%A6%AC%20%EB%B6%84%EC%84%9D__Sankey%20Diagram%20copy.ipynb#X53sZmlsZQ%3D%3D?line=3'>4</a>\u001b[0m result[\u001b[39m'\u001b[39m\u001b[39m단일 카테고리 이용자 비율\u001b[39m\u001b[39m'\u001b[39m] \u001b[39m=\u001b[39m \u001b[39mround\u001b[39m(result[\u001b[39m'\u001b[39m\u001b[39mcount_New IP\u001b[39m\u001b[39m'\u001b[39m] \u001b[39m/\u001b[39m result[\u001b[39m'\u001b[39;49m\u001b[39mtotal_New IP\u001b[39;49m\u001b[39m'\u001b[39;49m] \u001b[39m*\u001b[39m \u001b[39m100\u001b[39m, \u001b[39m2\u001b[39m)\n\u001b[0;32m      <a href='vscode-notebook-cell:/e%3A/BigDataUtilizationSupportProject2023/%EB%9E%9C%ED%8A%B8/Jupyter/0321.%20%EC%B9%B4%ED%85%8C%EA%B3%A0%EB%A6%AC%20%EB%B6%84%EC%84%9D__Sankey%20Diagram%20copy.ipynb#X53sZmlsZQ%3D%3D?line=5'>6</a>\u001b[0m complex_user \u001b[39m=\u001b[39m result\u001b[39m.\u001b[39mgroupby([\u001b[39m'\u001b[39m\u001b[39mUser Type\u001b[39m\u001b[39m'\u001b[39m])[\u001b[39m'\u001b[39m\u001b[39mcount_New IP\u001b[39m\u001b[39m'\u001b[39m]\u001b[39m.\u001b[39msum()\u001b[39m.\u001b[39mreset_index()\n\u001b[0;32m      <a href='vscode-notebook-cell:/e%3A/BigDataUtilizationSupportProject2023/%EB%9E%9C%ED%8A%B8/Jupyter/0321.%20%EC%B9%B4%ED%85%8C%EA%B3%A0%EB%A6%AC%20%EB%B6%84%EC%84%9D__Sankey%20Diagram%20copy.ipynb#X53sZmlsZQ%3D%3D?line=6'>7</a>\u001b[0m complex_user \u001b[39m=\u001b[39m complex_user\u001b[39m.\u001b[39mmerge(tmp_total, on \u001b[39m=\u001b[39m [\u001b[39m'\u001b[39m\u001b[39mUser Type\u001b[39m\u001b[39m'\u001b[39m], how \u001b[39m=\u001b[39m \u001b[39m'\u001b[39m\u001b[39mleft\u001b[39m\u001b[39m'\u001b[39m)\n",
      "File \u001b[1;32mc:\\Users\\WESLEYQUEST\\anaconda3\\envs\\BIgDataUtilization2023\\Lib\\site-packages\\pandas\\core\\frame.py:3896\u001b[0m, in \u001b[0;36mDataFrame.__getitem__\u001b[1;34m(self, key)\u001b[0m\n\u001b[0;32m   3894\u001b[0m \u001b[39mif\u001b[39;00m \u001b[39mself\u001b[39m\u001b[39m.\u001b[39mcolumns\u001b[39m.\u001b[39mnlevels \u001b[39m>\u001b[39m \u001b[39m1\u001b[39m:\n\u001b[0;32m   3895\u001b[0m     \u001b[39mreturn\u001b[39;00m \u001b[39mself\u001b[39m\u001b[39m.\u001b[39m_getitem_multilevel(key)\n\u001b[1;32m-> 3896\u001b[0m indexer \u001b[39m=\u001b[39m \u001b[39mself\u001b[39;49m\u001b[39m.\u001b[39;49mcolumns\u001b[39m.\u001b[39;49mget_loc(key)\n\u001b[0;32m   3897\u001b[0m \u001b[39mif\u001b[39;00m is_integer(indexer):\n\u001b[0;32m   3898\u001b[0m     indexer \u001b[39m=\u001b[39m [indexer]\n",
      "File \u001b[1;32mc:\\Users\\WESLEYQUEST\\anaconda3\\envs\\BIgDataUtilization2023\\Lib\\site-packages\\pandas\\core\\indexes\\base.py:3797\u001b[0m, in \u001b[0;36mIndex.get_loc\u001b[1;34m(self, key)\u001b[0m\n\u001b[0;32m   3792\u001b[0m     \u001b[39mif\u001b[39;00m \u001b[39misinstance\u001b[39m(casted_key, \u001b[39mslice\u001b[39m) \u001b[39mor\u001b[39;00m (\n\u001b[0;32m   3793\u001b[0m         \u001b[39misinstance\u001b[39m(casted_key, abc\u001b[39m.\u001b[39mIterable)\n\u001b[0;32m   3794\u001b[0m         \u001b[39mand\u001b[39;00m \u001b[39many\u001b[39m(\u001b[39misinstance\u001b[39m(x, \u001b[39mslice\u001b[39m) \u001b[39mfor\u001b[39;00m x \u001b[39min\u001b[39;00m casted_key)\n\u001b[0;32m   3795\u001b[0m     ):\n\u001b[0;32m   3796\u001b[0m         \u001b[39mraise\u001b[39;00m InvalidIndexError(key)\n\u001b[1;32m-> 3797\u001b[0m     \u001b[39mraise\u001b[39;00m \u001b[39mKeyError\u001b[39;00m(key) \u001b[39mfrom\u001b[39;00m \u001b[39merr\u001b[39;00m\n\u001b[0;32m   3798\u001b[0m \u001b[39mexcept\u001b[39;00m \u001b[39mTypeError\u001b[39;00m:\n\u001b[0;32m   3799\u001b[0m     \u001b[39m# If we have a listlike key, _check_indexing_error will raise\u001b[39;00m\n\u001b[0;32m   3800\u001b[0m     \u001b[39m#  InvalidIndexError. Otherwise we fall through and re-raise\u001b[39;00m\n\u001b[0;32m   3801\u001b[0m     \u001b[39m#  the TypeError.\u001b[39;00m\n\u001b[0;32m   3802\u001b[0m     \u001b[39mself\u001b[39m\u001b[39m.\u001b[39m_check_indexing_error(key)\n",
      "\u001b[1;31mKeyError\u001b[0m: 'total_New IP'"
     ]
    }
   ],
   "source": [
    "tmp_total = innerOut_df_origin.groupby(['User Type'])['New IP'].nunique().reset_index().rename(columns = {'New IP' : 'total_New IP'})\n",
    "result = result.merge(tmp_total, on = 'User Type', how = 'left')\n",
    "\n",
    "result['단일 카테고리 이용자 비율'] = round(result['count_New IP'] / result['total_New IP'] * 100, 2)\n",
    "\n",
    "complex_user = result.groupby(['User Type'])['count_New IP'].sum().reset_index()\n",
    "complex_user = complex_user.merge(tmp_total, on = ['User Type'], how = 'left')\n",
    "complex_user['복합 카테고리 이용자 비율'] = 100 - round(complex_user['count_New IP'] / complex_user['total_New IP'] * 100, 2)"
   ]
  },
  {
   "cell_type": "code",
   "execution_count": null,
   "metadata": {},
   "outputs": [],
   "source": []
  },
  {
   "cell_type": "code",
   "execution_count": null,
   "metadata": {},
   "outputs": [],
   "source": []
  },
  {
   "cell_type": "code",
   "execution_count": 55,
   "metadata": {},
   "outputs": [
    {
     "name": "stderr",
     "output_type": "stream",
     "text": [
      "C:\\Users\\WESLEYQUEST\\AppData\\Local\\Temp\\ipykernel_20448\\726781915.py:1: DtypeWarning: Columns (21) have mixed types. Specify dtype option on import or set low_memory=False.\n",
      "  df_over = pd.read_csv('../Data/Preprocessed/drop_category_big.csv', on_bad_lines = \"skip\")\n"
     ]
    }
   ],
   "source": [
    "df_over = pd.read_csv('../Data/Preprocessed/drop_category_big.csv', on_bad_lines = \"skip\")"
   ]
  },
  {
   "cell_type": "code",
   "execution_count": 56,
   "metadata": {},
   "outputs": [
    {
     "data": {
      "text/html": [
       "<div>\n",
       "<style scoped>\n",
       "    .dataframe tbody tr th:only-of-type {\n",
       "        vertical-align: middle;\n",
       "    }\n",
       "\n",
       "    .dataframe tbody tr th {\n",
       "        vertical-align: top;\n",
       "    }\n",
       "\n",
       "    .dataframe thead th {\n",
       "        text-align: right;\n",
       "    }\n",
       "</style>\n",
       "<table border=\"1\" class=\"dataframe\">\n",
       "  <thead>\n",
       "    <tr style=\"text-align: right;\">\n",
       "      <th></th>\n",
       "      <th>Timestamp</th>\n",
       "      <th>IP</th>\n",
       "      <th>URL</th>\n",
       "      <th>Category</th>\n",
       "      <th>URL Search Word</th>\n",
       "      <th>Referer</th>\n",
       "      <th>Referer Search Word</th>\n",
       "      <th>Referer Source</th>\n",
       "      <th>Referer Category</th>\n",
       "      <th>Referer Content Type</th>\n",
       "      <th>...</th>\n",
       "      <th>bigPath</th>\n",
       "      <th>mcd</th>\n",
       "      <th>rk</th>\n",
       "      <th>bt</th>\n",
       "      <th>bsp</th>\n",
       "      <th>middlePath</th>\n",
       "      <th>smallPath</th>\n",
       "      <th>tmp</th>\n",
       "      <th>news_id</th>\n",
       "      <th>idx</th>\n",
       "    </tr>\n",
       "  </thead>\n",
       "  <tbody>\n",
       "    <tr>\n",
       "      <th>0</th>\n",
       "      <td>2023-07-11 00:58:56+09:00</td>\n",
       "      <td>111.90.187.156</td>\n",
       "      <td>/index.html</td>\n",
       "      <td>etc</td>\n",
       "      <td>NaN</td>\n",
       "      <td>http://www.lafent.com</td>\n",
       "      <td>NaN</td>\n",
       "      <td>lafent</td>\n",
       "      <td>etc</td>\n",
       "      <td>etc</td>\n",
       "      <td>...</td>\n",
       "      <td>메인</td>\n",
       "      <td>NaN</td>\n",
       "      <td>NaN</td>\n",
       "      <td>NaN</td>\n",
       "      <td>NaN</td>\n",
       "      <td>메인</td>\n",
       "      <td>메인</td>\n",
       "      <td>index.html</td>\n",
       "      <td>NaN</td>\n",
       "      <td>NaN</td>\n",
       "    </tr>\n",
       "    <tr>\n",
       "      <th>1</th>\n",
       "      <td>2023-07-11 15:29:14+09:00</td>\n",
       "      <td>112.164.156.215</td>\n",
       "      <td>/sns/qna_view.html?mcd=b01&amp;bsp=q01&amp;idx=5245</td>\n",
       "      <td>social media</td>\n",
       "      <td>NaN</td>\n",
       "      <td>NaN</td>\n",
       "      <td>NaN</td>\n",
       "      <td>NaN</td>\n",
       "      <td>etc</td>\n",
       "      <td>etc</td>\n",
       "      <td>...</td>\n",
       "      <td>커뮤니티</td>\n",
       "      <td>mcd=b01</td>\n",
       "      <td>NaN</td>\n",
       "      <td>NaN</td>\n",
       "      <td>bsp=q0</td>\n",
       "      <td>조경인광장</td>\n",
       "      <td>조경인Q&amp;A</td>\n",
       "      <td>sns</td>\n",
       "      <td>NaN</td>\n",
       "      <td>idx=5245</td>\n",
       "    </tr>\n",
       "  </tbody>\n",
       "</table>\n",
       "<p>2 rows × 28 columns</p>\n",
       "</div>"
      ],
      "text/plain": [
       "                   Timestamp               IP  \\\n",
       "0  2023-07-11 00:58:56+09:00   111.90.187.156   \n",
       "1  2023-07-11 15:29:14+09:00  112.164.156.215   \n",
       "\n",
       "                                           URL      Category URL Search Word  \\\n",
       "0                                  /index.html           etc             NaN   \n",
       "1  /sns/qna_view.html?mcd=b01&bsp=q01&idx=5245  social media             NaN   \n",
       "\n",
       "                 Referer Referer Search Word Referer Source Referer Category  \\\n",
       "0  http://www.lafent.com                 NaN         lafent              etc   \n",
       "1                    NaN                 NaN            NaN              etc   \n",
       "\n",
       "  Referer Content Type  ... bigPath      mcd   rk   bt     bsp  middlePath  \\\n",
       "0                  etc  ...      메인      NaN  NaN  NaN     NaN          메인   \n",
       "1                  etc  ...    커뮤니티  mcd=b01  NaN  NaN  bsp=q0       조경인광장   \n",
       "\n",
       "   smallPath         tmp news_id       idx  \n",
       "0         메인  index.html     NaN       NaN  \n",
       "1     조경인Q&A         sns     NaN  idx=5245  \n",
       "\n",
       "[2 rows x 28 columns]"
      ]
     },
     "execution_count": 56,
     "metadata": {},
     "output_type": "execute_result"
    }
   ],
   "source": [
    "df_over.head(2)"
   ]
  },
  {
   "cell_type": "code",
   "execution_count": 59,
   "metadata": {},
   "outputs": [
    {
     "data": {
      "text/plain": [
       "bigPath\n",
       "1    187988\n",
       "Name: count, dtype: int64"
      ]
     },
     "execution_count": 59,
     "metadata": {},
     "output_type": "execute_result"
    }
   ],
   "source": [
    "df_over.groupby(['New IP'])['bigPath'].nunique().reset_index()['bigPath'].value_counts()\n",
    "# .query('bigPath != 1')['New IP']"
   ]
  },
  {
   "cell_type": "code",
   "execution_count": null,
   "metadata": {},
   "outputs": [],
   "source": []
  },
  {
   "cell_type": "code",
   "execution_count": null,
   "metadata": {},
   "outputs": [],
   "source": []
  },
  {
   "cell_type": "code",
   "execution_count": null,
   "metadata": {},
   "outputs": [],
   "source": []
  },
  {
   "cell_type": "code",
   "execution_count": 5,
   "metadata": {},
   "outputs": [
    {
     "data": {
      "application/vnd.plotly.v1+json": {
       "config": {
        "plotlyServerURL": "https://plot.ly"
       },
       "data": [
        {
         "link": {
          "source": [
           0,
           0,
           1,
           2
          ],
          "target": [
           1,
           2,
           3,
           3
          ],
          "value": [
           20,
           10,
           15,
           5
          ]
         },
         "node": {
          "label": [
           "Node A",
           "Node B",
           "Node C",
           "Node D"
          ],
          "line": {
           "color": "black",
           "width": 0.5
          },
          "pad": 15,
          "thickness": 20
         },
         "type": "sankey"
        }
       ],
       "layout": {
        "template": {
         "data": {
          "bar": [
           {
            "error_x": {
             "color": "#2a3f5f"
            },
            "error_y": {
             "color": "#2a3f5f"
            },
            "marker": {
             "line": {
              "color": "#E5ECF6",
              "width": 0.5
             },
             "pattern": {
              "fillmode": "overlay",
              "size": 10,
              "solidity": 0.2
             }
            },
            "type": "bar"
           }
          ],
          "barpolar": [
           {
            "marker": {
             "line": {
              "color": "#E5ECF6",
              "width": 0.5
             },
             "pattern": {
              "fillmode": "overlay",
              "size": 10,
              "solidity": 0.2
             }
            },
            "type": "barpolar"
           }
          ],
          "carpet": [
           {
            "aaxis": {
             "endlinecolor": "#2a3f5f",
             "gridcolor": "white",
             "linecolor": "white",
             "minorgridcolor": "white",
             "startlinecolor": "#2a3f5f"
            },
            "baxis": {
             "endlinecolor": "#2a3f5f",
             "gridcolor": "white",
             "linecolor": "white",
             "minorgridcolor": "white",
             "startlinecolor": "#2a3f5f"
            },
            "type": "carpet"
           }
          ],
          "choropleth": [
           {
            "colorbar": {
             "outlinewidth": 0,
             "ticks": ""
            },
            "type": "choropleth"
           }
          ],
          "contour": [
           {
            "colorbar": {
             "outlinewidth": 0,
             "ticks": ""
            },
            "colorscale": [
             [
              0,
              "#0d0887"
             ],
             [
              0.1111111111111111,
              "#46039f"
             ],
             [
              0.2222222222222222,
              "#7201a8"
             ],
             [
              0.3333333333333333,
              "#9c179e"
             ],
             [
              0.4444444444444444,
              "#bd3786"
             ],
             [
              0.5555555555555556,
              "#d8576b"
             ],
             [
              0.6666666666666666,
              "#ed7953"
             ],
             [
              0.7777777777777778,
              "#fb9f3a"
             ],
             [
              0.8888888888888888,
              "#fdca26"
             ],
             [
              1,
              "#f0f921"
             ]
            ],
            "type": "contour"
           }
          ],
          "contourcarpet": [
           {
            "colorbar": {
             "outlinewidth": 0,
             "ticks": ""
            },
            "type": "contourcarpet"
           }
          ],
          "heatmap": [
           {
            "colorbar": {
             "outlinewidth": 0,
             "ticks": ""
            },
            "colorscale": [
             [
              0,
              "#0d0887"
             ],
             [
              0.1111111111111111,
              "#46039f"
             ],
             [
              0.2222222222222222,
              "#7201a8"
             ],
             [
              0.3333333333333333,
              "#9c179e"
             ],
             [
              0.4444444444444444,
              "#bd3786"
             ],
             [
              0.5555555555555556,
              "#d8576b"
             ],
             [
              0.6666666666666666,
              "#ed7953"
             ],
             [
              0.7777777777777778,
              "#fb9f3a"
             ],
             [
              0.8888888888888888,
              "#fdca26"
             ],
             [
              1,
              "#f0f921"
             ]
            ],
            "type": "heatmap"
           }
          ],
          "heatmapgl": [
           {
            "colorbar": {
             "outlinewidth": 0,
             "ticks": ""
            },
            "colorscale": [
             [
              0,
              "#0d0887"
             ],
             [
              0.1111111111111111,
              "#46039f"
             ],
             [
              0.2222222222222222,
              "#7201a8"
             ],
             [
              0.3333333333333333,
              "#9c179e"
             ],
             [
              0.4444444444444444,
              "#bd3786"
             ],
             [
              0.5555555555555556,
              "#d8576b"
             ],
             [
              0.6666666666666666,
              "#ed7953"
             ],
             [
              0.7777777777777778,
              "#fb9f3a"
             ],
             [
              0.8888888888888888,
              "#fdca26"
             ],
             [
              1,
              "#f0f921"
             ]
            ],
            "type": "heatmapgl"
           }
          ],
          "histogram": [
           {
            "marker": {
             "pattern": {
              "fillmode": "overlay",
              "size": 10,
              "solidity": 0.2
             }
            },
            "type": "histogram"
           }
          ],
          "histogram2d": [
           {
            "colorbar": {
             "outlinewidth": 0,
             "ticks": ""
            },
            "colorscale": [
             [
              0,
              "#0d0887"
             ],
             [
              0.1111111111111111,
              "#46039f"
             ],
             [
              0.2222222222222222,
              "#7201a8"
             ],
             [
              0.3333333333333333,
              "#9c179e"
             ],
             [
              0.4444444444444444,
              "#bd3786"
             ],
             [
              0.5555555555555556,
              "#d8576b"
             ],
             [
              0.6666666666666666,
              "#ed7953"
             ],
             [
              0.7777777777777778,
              "#fb9f3a"
             ],
             [
              0.8888888888888888,
              "#fdca26"
             ],
             [
              1,
              "#f0f921"
             ]
            ],
            "type": "histogram2d"
           }
          ],
          "histogram2dcontour": [
           {
            "colorbar": {
             "outlinewidth": 0,
             "ticks": ""
            },
            "colorscale": [
             [
              0,
              "#0d0887"
             ],
             [
              0.1111111111111111,
              "#46039f"
             ],
             [
              0.2222222222222222,
              "#7201a8"
             ],
             [
              0.3333333333333333,
              "#9c179e"
             ],
             [
              0.4444444444444444,
              "#bd3786"
             ],
             [
              0.5555555555555556,
              "#d8576b"
             ],
             [
              0.6666666666666666,
              "#ed7953"
             ],
             [
              0.7777777777777778,
              "#fb9f3a"
             ],
             [
              0.8888888888888888,
              "#fdca26"
             ],
             [
              1,
              "#f0f921"
             ]
            ],
            "type": "histogram2dcontour"
           }
          ],
          "mesh3d": [
           {
            "colorbar": {
             "outlinewidth": 0,
             "ticks": ""
            },
            "type": "mesh3d"
           }
          ],
          "parcoords": [
           {
            "line": {
             "colorbar": {
              "outlinewidth": 0,
              "ticks": ""
             }
            },
            "type": "parcoords"
           }
          ],
          "pie": [
           {
            "automargin": true,
            "type": "pie"
           }
          ],
          "scatter": [
           {
            "fillpattern": {
             "fillmode": "overlay",
             "size": 10,
             "solidity": 0.2
            },
            "type": "scatter"
           }
          ],
          "scatter3d": [
           {
            "line": {
             "colorbar": {
              "outlinewidth": 0,
              "ticks": ""
             }
            },
            "marker": {
             "colorbar": {
              "outlinewidth": 0,
              "ticks": ""
             }
            },
            "type": "scatter3d"
           }
          ],
          "scattercarpet": [
           {
            "marker": {
             "colorbar": {
              "outlinewidth": 0,
              "ticks": ""
             }
            },
            "type": "scattercarpet"
           }
          ],
          "scattergeo": [
           {
            "marker": {
             "colorbar": {
              "outlinewidth": 0,
              "ticks": ""
             }
            },
            "type": "scattergeo"
           }
          ],
          "scattergl": [
           {
            "marker": {
             "colorbar": {
              "outlinewidth": 0,
              "ticks": ""
             }
            },
            "type": "scattergl"
           }
          ],
          "scattermapbox": [
           {
            "marker": {
             "colorbar": {
              "outlinewidth": 0,
              "ticks": ""
             }
            },
            "type": "scattermapbox"
           }
          ],
          "scatterpolar": [
           {
            "marker": {
             "colorbar": {
              "outlinewidth": 0,
              "ticks": ""
             }
            },
            "type": "scatterpolar"
           }
          ],
          "scatterpolargl": [
           {
            "marker": {
             "colorbar": {
              "outlinewidth": 0,
              "ticks": ""
             }
            },
            "type": "scatterpolargl"
           }
          ],
          "scatterternary": [
           {
            "marker": {
             "colorbar": {
              "outlinewidth": 0,
              "ticks": ""
             }
            },
            "type": "scatterternary"
           }
          ],
          "surface": [
           {
            "colorbar": {
             "outlinewidth": 0,
             "ticks": ""
            },
            "colorscale": [
             [
              0,
              "#0d0887"
             ],
             [
              0.1111111111111111,
              "#46039f"
             ],
             [
              0.2222222222222222,
              "#7201a8"
             ],
             [
              0.3333333333333333,
              "#9c179e"
             ],
             [
              0.4444444444444444,
              "#bd3786"
             ],
             [
              0.5555555555555556,
              "#d8576b"
             ],
             [
              0.6666666666666666,
              "#ed7953"
             ],
             [
              0.7777777777777778,
              "#fb9f3a"
             ],
             [
              0.8888888888888888,
              "#fdca26"
             ],
             [
              1,
              "#f0f921"
             ]
            ],
            "type": "surface"
           }
          ],
          "table": [
           {
            "cells": {
             "fill": {
              "color": "#EBF0F8"
             },
             "line": {
              "color": "white"
             }
            },
            "header": {
             "fill": {
              "color": "#C8D4E3"
             },
             "line": {
              "color": "white"
             }
            },
            "type": "table"
           }
          ]
         },
         "layout": {
          "annotationdefaults": {
           "arrowcolor": "#2a3f5f",
           "arrowhead": 0,
           "arrowwidth": 1
          },
          "autotypenumbers": "strict",
          "coloraxis": {
           "colorbar": {
            "outlinewidth": 0,
            "ticks": ""
           }
          },
          "colorscale": {
           "diverging": [
            [
             0,
             "#8e0152"
            ],
            [
             0.1,
             "#c51b7d"
            ],
            [
             0.2,
             "#de77ae"
            ],
            [
             0.3,
             "#f1b6da"
            ],
            [
             0.4,
             "#fde0ef"
            ],
            [
             0.5,
             "#f7f7f7"
            ],
            [
             0.6,
             "#e6f5d0"
            ],
            [
             0.7,
             "#b8e186"
            ],
            [
             0.8,
             "#7fbc41"
            ],
            [
             0.9,
             "#4d9221"
            ],
            [
             1,
             "#276419"
            ]
           ],
           "sequential": [
            [
             0,
             "#0d0887"
            ],
            [
             0.1111111111111111,
             "#46039f"
            ],
            [
             0.2222222222222222,
             "#7201a8"
            ],
            [
             0.3333333333333333,
             "#9c179e"
            ],
            [
             0.4444444444444444,
             "#bd3786"
            ],
            [
             0.5555555555555556,
             "#d8576b"
            ],
            [
             0.6666666666666666,
             "#ed7953"
            ],
            [
             0.7777777777777778,
             "#fb9f3a"
            ],
            [
             0.8888888888888888,
             "#fdca26"
            ],
            [
             1,
             "#f0f921"
            ]
           ],
           "sequentialminus": [
            [
             0,
             "#0d0887"
            ],
            [
             0.1111111111111111,
             "#46039f"
            ],
            [
             0.2222222222222222,
             "#7201a8"
            ],
            [
             0.3333333333333333,
             "#9c179e"
            ],
            [
             0.4444444444444444,
             "#bd3786"
            ],
            [
             0.5555555555555556,
             "#d8576b"
            ],
            [
             0.6666666666666666,
             "#ed7953"
            ],
            [
             0.7777777777777778,
             "#fb9f3a"
            ],
            [
             0.8888888888888888,
             "#fdca26"
            ],
            [
             1,
             "#f0f921"
            ]
           ]
          },
          "colorway": [
           "#636efa",
           "#EF553B",
           "#00cc96",
           "#ab63fa",
           "#FFA15A",
           "#19d3f3",
           "#FF6692",
           "#B6E880",
           "#FF97FF",
           "#FECB52"
          ],
          "font": {
           "color": "#2a3f5f"
          },
          "geo": {
           "bgcolor": "white",
           "lakecolor": "white",
           "landcolor": "#E5ECF6",
           "showlakes": true,
           "showland": true,
           "subunitcolor": "white"
          },
          "hoverlabel": {
           "align": "left"
          },
          "hovermode": "closest",
          "mapbox": {
           "style": "light"
          },
          "paper_bgcolor": "white",
          "plot_bgcolor": "#E5ECF6",
          "polar": {
           "angularaxis": {
            "gridcolor": "white",
            "linecolor": "white",
            "ticks": ""
           },
           "bgcolor": "#E5ECF6",
           "radialaxis": {
            "gridcolor": "white",
            "linecolor": "white",
            "ticks": ""
           }
          },
          "scene": {
           "xaxis": {
            "backgroundcolor": "#E5ECF6",
            "gridcolor": "white",
            "gridwidth": 2,
            "linecolor": "white",
            "showbackground": true,
            "ticks": "",
            "zerolinecolor": "white"
           },
           "yaxis": {
            "backgroundcolor": "#E5ECF6",
            "gridcolor": "white",
            "gridwidth": 2,
            "linecolor": "white",
            "showbackground": true,
            "ticks": "",
            "zerolinecolor": "white"
           },
           "zaxis": {
            "backgroundcolor": "#E5ECF6",
            "gridcolor": "white",
            "gridwidth": 2,
            "linecolor": "white",
            "showbackground": true,
            "ticks": "",
            "zerolinecolor": "white"
           }
          },
          "shapedefaults": {
           "line": {
            "color": "#2a3f5f"
           }
          },
          "ternary": {
           "aaxis": {
            "gridcolor": "white",
            "linecolor": "white",
            "ticks": ""
           },
           "baxis": {
            "gridcolor": "white",
            "linecolor": "white",
            "ticks": ""
           },
           "bgcolor": "#E5ECF6",
           "caxis": {
            "gridcolor": "white",
            "linecolor": "white",
            "ticks": ""
           }
          },
          "title": {
           "x": 0.05
          },
          "xaxis": {
           "automargin": true,
           "gridcolor": "white",
           "linecolor": "white",
           "ticks": "",
           "title": {
            "standoff": 15
           },
           "zerolinecolor": "white",
           "zerolinewidth": 2
          },
          "yaxis": {
           "automargin": true,
           "gridcolor": "white",
           "linecolor": "white",
           "ticks": "",
           "title": {
            "standoff": 15
           },
           "zerolinecolor": "white",
           "zerolinewidth": 2
          }
         }
        },
        "title": {
         "text": "Sankey Diagram Example"
        }
       }
      }
     },
     "metadata": {},
     "output_type": "display_data"
    }
   ],
   "source": [
    "import plotly.graph_objects as go\n",
    "\n",
    "# Define the nodes and links for the Sankey chart\n",
    "nodes = [\"Node A\", \"Node B\", \"Node C\", \"Node D\"]\n",
    "links = [\n",
    "    {\"source\": 0, \"target\": 1, \"value\": 20},\n",
    "    {\"source\": 0, \"target\": 2, \"value\": 10},\n",
    "    {\"source\": 1, \"target\": 3, \"value\": 15},\n",
    "    {\"source\": 2, \"target\": 3, \"value\": 5},\n",
    "]\n",
    "\n",
    "# Create the Sankey diagram\n",
    "fig = go.Figure(go.Sankey(\n",
    "    node=dict(\n",
    "        pad=15,\n",
    "        thickness=20,\n",
    "        line=dict(color=\"black\", width=0.5),\n",
    "        label=nodes\n",
    "    ),\n",
    "    link=dict(\n",
    "        source=[link[\"source\"] for link in links],\n",
    "        target=[link[\"target\"] for link in links],\n",
    "        value=[link[\"value\"] for link in links]\n",
    "    )\n",
    "))\n",
    "\n",
    "# Customize the layout and appearance\n",
    "fig.update_layout(title_text=\"Sankey Diagram Example\")\n",
    "fig.show()"
   ]
  },
  {
   "cell_type": "code",
   "execution_count": null,
   "metadata": {},
   "outputs": [],
   "source": []
  }
 ],
 "metadata": {
  "kernelspec": {
   "display_name": "BigDataUtilization2023",
   "language": "python",
   "name": "bigdatautilization2023"
  },
  "language_info": {
   "codemirror_mode": {
    "name": "ipython",
    "version": 3
   },
   "file_extension": ".py",
   "mimetype": "text/x-python",
   "name": "python",
   "nbconvert_exporter": "python",
   "pygments_lexer": "ipython3",
   "version": "3.11.6"
  }
 },
 "nbformat": 4,
 "nbformat_minor": 2
}
