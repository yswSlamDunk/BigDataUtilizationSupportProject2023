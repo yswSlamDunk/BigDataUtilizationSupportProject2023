{
 "cells": [
  {
   "cell_type": "code",
   "execution_count": 1,
   "metadata": {},
   "outputs": [],
   "source": [
    "import os\n",
    "import pandas as pd\n",
    "import numpy as np\n",
    "import re\n",
    "\n",
    "from urllib import parse\n",
    "\n",
    "import matplotlib.pyplot as plt\n",
    "\n",
    "from tqdm import tqdm\n",
    "tqdm.pandas()"
   ]
  },
  {
   "cell_type": "code",
   "execution_count": 2,
   "metadata": {},
   "outputs": [],
   "source": [
    "bigDict = {'/jobse/' : '채용/인재',\n",
    "           '/magazine/' : '매거진',\n",
    "           '/inews/' : '뉴스',\n",
    "           'https://edu.lafent.com' : 'e-아카데미',\n",
    "           '/mtrial/' : '작품/조경수/자재',\n",
    "           '/photo/' : '포토갤러리',\n",
    "           '/sns/' : '커뮤니티',\n",
    "           '/help/' : '고객센터',\n",
    "           '/myinfo/' : '마이페이지',\n",
    "           '/search/' : '검색'}\n",
    "    \n",
    "\n",
    "def findBig(x, bigDict = bigDict):\n",
    "    for key in bigDict.keys():\n",
    "        if key in x:\n",
    "            return bigDict[key]\n",
    "    return '기타'  "
   ]
  },
  {
   "cell_type": "code",
   "execution_count": 3,
   "metadata": {},
   "outputs": [
    {
     "name": "stderr",
     "output_type": "stream",
     "text": [
      "C:\\Users\\WESLEYQUEST\\AppData\\Local\\Temp\\ipykernel_21216\\18505219.py:3: DtypeWarning: Columns (4,5,6,7) have mixed types. Specify dtype option on import or set low_memory=False.\n",
      "  innerOut_df_origin = pd.read_csv(innerOut_path)\n",
      "C:\\Users\\WESLEYQUEST\\AppData\\Local\\Temp\\ipykernel_21216\\18505219.py:9: FutureWarning: The default value of regex will change from True to False in a future version.\n",
      "  innerOut_df_origin.loc[:, 'URL'] = innerOut_df_origin.loc[:, 'URL'].str.replace('lafent.com/', '/')\n",
      "100%|██████████| 3119639/3119639 [00:04<00:00, 632110.70it/s]\n"
     ]
    }
   ],
   "source": [
    "# 기타(크롤링)을 제외한 로그 데이터 \n",
    "innerOut_path = '../Data/Preprocessed/innerOut.csv'\n",
    "innerOut_df_origin = pd.read_csv(innerOut_path)\n",
    "innerOut_df_origin['Timestamp'] = pd.to_datetime(innerOut_df_origin['Timestamp'])\n",
    "innerOut_df_origin.loc[:, 'URL'] = innerOut_df_origin.loc[:, 'URL'].str.lower()\n",
    "innerOut_df_origin.loc[:, 'URL'] = innerOut_df_origin.loc[:, 'URL'].apply(lambda x : parse.unquote(x))\n",
    "innerOut_df_origin.loc[:, 'URL'] = innerOut_df_origin.loc[:, 'URL'].str.replace('http://', '')\n",
    "innerOut_df_origin.loc[:, 'URL'] = innerOut_df_origin.loc[:, 'URL'].str.replace('https://', '')\n",
    "innerOut_df_origin.loc[:, 'URL'] = innerOut_df_origin.loc[:, 'URL'].str.replace('lafent.com/', '/')\n",
    "innerOut_df_origin.loc[:, 'URL'] = innerOut_df_origin.loc[:, 'URL'].str.replace('/mbweb/', '/')\n",
    "innerOut_df_origin.loc[:, 'bigPath'] = innerOut_df_origin.loc[:, 'URL'].progress_apply(lambda x : findBig(x)).values\n",
    "\n",
    "innerOut_df_origin['mcd'] = innerOut_df_origin['URL'].str.extract(r\"(mcd=[a-z]\\d{2})\")\n",
    "innerOut_df_origin['rk'] = innerOut_df_origin['URL'].str.extract(r\"(rk=[a-z])\")\n",
    "innerOut_df_origin['bt'] = innerOut_df_origin['URL'].str.extract(r\"(bt=[a-z])\")\n",
    "innerOut_df_origin['bsp'] = innerOut_df_origin['URL'].str.extract(r\"(bsp=[a-z0-9]{2})\")\n",
    "innerOut_df_origin[['mcd', 'rk', 'bt', 'bsp']] = innerOut_df_origin[['mcd', 'rk', 'bt', 'bsp']].fillna('NA')"
   ]
  },
  {
   "cell_type": "code",
   "execution_count": 4,
   "metadata": {},
   "outputs": [
    {
     "data": {
      "text/html": [
       "<div>\n",
       "<style scoped>\n",
       "    .dataframe tbody tr th:only-of-type {\n",
       "        vertical-align: middle;\n",
       "    }\n",
       "\n",
       "    .dataframe tbody tr th {\n",
       "        vertical-align: top;\n",
       "    }\n",
       "\n",
       "    .dataframe thead th {\n",
       "        text-align: right;\n",
       "    }\n",
       "</style>\n",
       "<table border=\"1\" class=\"dataframe\">\n",
       "  <thead>\n",
       "    <tr style=\"text-align: right;\">\n",
       "      <th></th>\n",
       "      <th>Timestamp</th>\n",
       "      <th>IP</th>\n",
       "      <th>URL</th>\n",
       "      <th>Category</th>\n",
       "      <th>URL Search Word</th>\n",
       "      <th>Referer</th>\n",
       "      <th>Referer Search Word</th>\n",
       "      <th>Referer Source</th>\n",
       "      <th>Referer Category</th>\n",
       "      <th>Referer Content Type</th>\n",
       "      <th>...</th>\n",
       "      <th>New Category</th>\n",
       "      <th>User Type</th>\n",
       "      <th>month</th>\n",
       "      <th>day</th>\n",
       "      <th>hour</th>\n",
       "      <th>bigPath</th>\n",
       "      <th>mcd</th>\n",
       "      <th>rk</th>\n",
       "      <th>bt</th>\n",
       "      <th>bsp</th>\n",
       "    </tr>\n",
       "  </thead>\n",
       "  <tbody>\n",
       "    <tr>\n",
       "      <th>0</th>\n",
       "      <td>2022-08-01 14:30:55+09:00</td>\n",
       "      <td>1.220.249.83</td>\n",
       "      <td>/jobse/job_view.html?mcd=c01&amp;idx=24596</td>\n",
       "      <td>jobs</td>\n",
       "      <td>NaN</td>\n",
       "      <td>NaN</td>\n",
       "      <td>NaN</td>\n",
       "      <td>NaN</td>\n",
       "      <td>etc</td>\n",
       "      <td>etc</td>\n",
       "      <td>...</td>\n",
       "      <td>jobs</td>\n",
       "      <td>내부</td>\n",
       "      <td>8</td>\n",
       "      <td>1</td>\n",
       "      <td>14</td>\n",
       "      <td>채용/인재</td>\n",
       "      <td>mcd=c01</td>\n",
       "      <td>NA</td>\n",
       "      <td>NA</td>\n",
       "      <td>NA</td>\n",
       "    </tr>\n",
       "    <tr>\n",
       "      <th>1</th>\n",
       "      <td>2022-08-01 14:32:14+09:00</td>\n",
       "      <td>1.220.249.83</td>\n",
       "      <td>/jobse/job_view.html?mcd=c01&amp;idx=23934</td>\n",
       "      <td>jobs</td>\n",
       "      <td>NaN</td>\n",
       "      <td>NaN</td>\n",
       "      <td>NaN</td>\n",
       "      <td>NaN</td>\n",
       "      <td>etc</td>\n",
       "      <td>etc</td>\n",
       "      <td>...</td>\n",
       "      <td>jobs</td>\n",
       "      <td>내부</td>\n",
       "      <td>8</td>\n",
       "      <td>1</td>\n",
       "      <td>14</td>\n",
       "      <td>채용/인재</td>\n",
       "      <td>mcd=c01</td>\n",
       "      <td>NA</td>\n",
       "      <td>NA</td>\n",
       "      <td>NA</td>\n",
       "    </tr>\n",
       "  </tbody>\n",
       "</table>\n",
       "<p>2 rows × 23 columns</p>\n",
       "</div>"
      ],
      "text/plain": [
       "                  Timestamp            IP  \\\n",
       "0 2022-08-01 14:30:55+09:00  1.220.249.83   \n",
       "1 2022-08-01 14:32:14+09:00  1.220.249.83   \n",
       "\n",
       "                                      URL Category URL Search Word Referer  \\\n",
       "0  /jobse/job_view.html?mcd=c01&idx=24596     jobs             NaN     NaN   \n",
       "1  /jobse/job_view.html?mcd=c01&idx=23934     jobs             NaN     NaN   \n",
       "\n",
       "  Referer Search Word Referer Source Referer Category Referer Content Type  \\\n",
       "0                 NaN            NaN              etc                  etc   \n",
       "1                 NaN            NaN              etc                  etc   \n",
       "\n",
       "   ... New Category User Type  month day hour  bigPath      mcd  rk  bt bsp  \n",
       "0  ...         jobs        내부      8   1   14    채용/인재  mcd=c01  NA  NA  NA  \n",
       "1  ...         jobs        내부      8   1   14    채용/인재  mcd=c01  NA  NA  NA  \n",
       "\n",
       "[2 rows x 23 columns]"
      ]
     },
     "execution_count": 4,
     "metadata": {},
     "output_type": "execute_result"
    }
   ],
   "source": [
    "innerOut_df_origin.head(2)"
   ]
  },
  {
   "cell_type": "code",
   "execution_count": 5,
   "metadata": {},
   "outputs": [
    {
     "name": "stderr",
     "output_type": "stream",
     "text": [
      "100%|██████████| 744/744 [00:00<00:00, 372693.44it/s]\n"
     ]
    }
   ],
   "source": [
    "# 경로 데이터\n",
    "path_path = '../Data/Raw/category.xlsx'\n",
    "path_df_origin = pd.read_excel(path_path)\n",
    "path_df_origin = path_df_origin.fillna(method = 'ffill')\n",
    "path_df_origin.loc[(path_df_origin['path'].str[0] != '/') & ~(path_df_origin['path'].str.contains('http')), 'path'] = path_df_origin.loc[(path_df_origin['path'].str[0] != '/') & ~(path_df_origin['path'].str.contains('http')), 'path'].apply(lambda x : '/' + x)\n",
    "path_df_origin['path'] = path_df_origin['path'].str.lower()\n",
    "path_df_origin['mcd'] = path_df_origin['path'].str.extract(r\"(mcd=[a-z]\\d{2})\")\n",
    "path_df_origin['rk'] = path_df_origin['path'].str.extract(r\"(rk=[a-z])\")\n",
    "path_df_origin['bt'] = path_df_origin['path'].str.extract(r\"(bt=[a-z])\")\n",
    "path_df_origin['bsp'] = path_df_origin['path'].str.extract(r\"(bsp=[a-z0-9]{2})\")\n",
    "path_df_origin['bigPath'] = path_df_origin['path'].progress_apply(lambda x : findBig(x))\n",
    "path_df_origin[['mcd', 'rk', 'bt', 'bsp']] = path_df_origin[['mcd', 'rk', 'bt', 'bsp']].fillna('NA')\n",
    "\n",
    "# path_df_origin.to_csv('../Data/Preprocessed/category.csv',\n",
    "#                       index = False, \n",
    "#                       encoding = 'utf-8-sig', \n",
    "#                       escapechar = '\\\\')"
   ]
  },
  {
   "cell_type": "code",
   "execution_count": 6,
   "metadata": {},
   "outputs": [],
   "source": [
    "def makeCategory(x, path_df):\n",
    "    try:\n",
    "        if x['URL'] == '/':\n",
    "            return '메인', '메인'\n",
    "\n",
    "        else:\n",
    "            path_df.loc[:, 'tmp'] = x['URL']\n",
    "            result = path_df[path_df.apply(lambda x : x['path'] in x['tmp'], axis = 1)]\n",
    "\n",
    "            if len(result) != 0:\n",
    "                return result['middlePath'].values[0], result['smallPath'].values[0]\n",
    "            \n",
    "            else:\n",
    "                result = path_df.loc[(path_df['bigPath'] == x['bigPath']) & (path_df['mcd'] == x['mcd']) & (path_df['rk'] == x['rk']) & (path_df['bt'] == x['bt']) & (path_df['bsp'] == x['bsp'])]\n",
    "                return result['middlePath'].values[0], result['smallPath'].values[0]                   \n",
    "    \n",
    "    except:\n",
    "        return 'error', 'error'\n"
   ]
  },
  {
   "cell_type": "code",
   "execution_count": 7,
   "metadata": {},
   "outputs": [
    {
     "name": "stderr",
     "output_type": "stream",
     "text": [
      "100%|██████████| 3119639/3119639 [7:56:52<00:00, 109.03it/s]  \n"
     ]
    },
    {
     "ename": "KeyError",
     "evalue": "'pathBig'",
     "output_type": "error",
     "traceback": [
      "\u001b[1;31m---------------------------------------------------------------------------\u001b[0m",
      "\u001b[1;31mKeyError\u001b[0m                                  Traceback (most recent call last)",
      "File \u001b[1;32mc:\\Users\\WESLEYQUEST\\anaconda3\\envs\\BIgDataUtilization2023\\Lib\\site-packages\\pandas\\core\\indexes\\base.py:3802\u001b[0m, in \u001b[0;36mIndex.get_loc\u001b[1;34m(self, key, method, tolerance)\u001b[0m\n\u001b[0;32m   3801\u001b[0m \u001b[39mtry\u001b[39;00m:\n\u001b[1;32m-> 3802\u001b[0m     \u001b[39mreturn\u001b[39;00m \u001b[39mself\u001b[39;49m\u001b[39m.\u001b[39;49m_engine\u001b[39m.\u001b[39;49mget_loc(casted_key)\n\u001b[0;32m   3803\u001b[0m \u001b[39mexcept\u001b[39;00m \u001b[39mKeyError\u001b[39;00m \u001b[39mas\u001b[39;00m err:\n",
      "File \u001b[1;32mc:\\Users\\WESLEYQUEST\\anaconda3\\envs\\BIgDataUtilization2023\\Lib\\site-packages\\pandas\\_libs\\index.pyx:138\u001b[0m, in \u001b[0;36mpandas._libs.index.IndexEngine.get_loc\u001b[1;34m()\u001b[0m\n",
      "File \u001b[1;32mc:\\Users\\WESLEYQUEST\\anaconda3\\envs\\BIgDataUtilization2023\\Lib\\site-packages\\pandas\\_libs\\index.pyx:165\u001b[0m, in \u001b[0;36mpandas._libs.index.IndexEngine.get_loc\u001b[1;34m()\u001b[0m\n",
      "File \u001b[1;32mpandas\\_libs\\hashtable_class_helper.pxi:5745\u001b[0m, in \u001b[0;36mpandas._libs.hashtable.PyObjectHashTable.get_item\u001b[1;34m()\u001b[0m\n",
      "File \u001b[1;32mpandas\\_libs\\hashtable_class_helper.pxi:5753\u001b[0m, in \u001b[0;36mpandas._libs.hashtable.PyObjectHashTable.get_item\u001b[1;34m()\u001b[0m\n",
      "\u001b[1;31mKeyError\u001b[0m: 'pathBig'",
      "\nThe above exception was the direct cause of the following exception:\n",
      "\u001b[1;31mKeyError\u001b[0m                                  Traceback (most recent call last)",
      "\u001b[1;32me:\\BigDataUtilizationSupportProject2023\\랜트\\Jupyter\\0301. 카테고리 분석__전처리.ipynb 셀 7\u001b[0m line \u001b[0;36m2\n\u001b[0;32m      <a href='vscode-notebook-cell:/e%3A/BigDataUtilizationSupportProject2023/%EB%9E%9C%ED%8A%B8/Jupyter/0301.%20%EC%B9%B4%ED%85%8C%EA%B3%A0%EB%A6%AC%20%EB%B6%84%EC%84%9D__%EC%A0%84%EC%B2%98%EB%A6%AC.ipynb#W6sZmlsZQ%3D%3D?line=0'>1</a>\u001b[0m innerOut_df_origin[[\u001b[39m'\u001b[39m\u001b[39mmiddlePath\u001b[39m\u001b[39m'\u001b[39m, \u001b[39m'\u001b[39m\u001b[39msmallPath\u001b[39m\u001b[39m'\u001b[39m]] \u001b[39m=\u001b[39m innerOut_df_origin\u001b[39m.\u001b[39mprogress_apply(\u001b[39mlambda\u001b[39;00m x: makeCategory(x, path_df_origin), axis \u001b[39m=\u001b[39m \u001b[39m1\u001b[39m, result_type \u001b[39m=\u001b[39m \u001b[39m'\u001b[39m\u001b[39mexpand\u001b[39m\u001b[39m'\u001b[39m)\n\u001b[1;32m----> <a href='vscode-notebook-cell:/e%3A/BigDataUtilizationSupportProject2023/%EB%9E%9C%ED%8A%B8/Jupyter/0301.%20%EC%B9%B4%ED%85%8C%EA%B3%A0%EB%A6%AC%20%EB%B6%84%EC%84%9D__%EC%A0%84%EC%B2%98%EB%A6%AC.ipynb#W6sZmlsZQ%3D%3D?line=1'>2</a>\u001b[0m innerOut_df_origin\u001b[39m.\u001b[39mloc[(innerOut_df_origin[\u001b[39m'\u001b[39;49m\u001b[39mpathBig\u001b[39;49m\u001b[39m'\u001b[39;49m] \u001b[39m==\u001b[39m \u001b[39m'\u001b[39m\u001b[39m기타\u001b[39m\u001b[39m'\u001b[39m) \u001b[39m&\u001b[39m (innerOut_df_origin[\u001b[39m'\u001b[39m\u001b[39mmiddlePath\u001b[39m\u001b[39m'\u001b[39m] \u001b[39m==\u001b[39m \u001b[39m'\u001b[39m\u001b[39m메인\u001b[39m\u001b[39m'\u001b[39m) \u001b[39m&\u001b[39m (innerOut_df_origin[\u001b[39m'\u001b[39m\u001b[39msmallPath\u001b[39m\u001b[39m'\u001b[39m] \u001b[39m==\u001b[39m \u001b[39m'\u001b[39m\u001b[39m메인\u001b[39m\u001b[39m'\u001b[39m), [\u001b[39m'\u001b[39m\u001b[39mmiddlePath\u001b[39m\u001b[39m'\u001b[39m, \u001b[39m'\u001b[39m\u001b[39msmallPath\u001b[39m\u001b[39m'\u001b[39m]] \u001b[39m=\u001b[39m [\u001b[39m'\u001b[39m\u001b[39m기타\u001b[39m\u001b[39m'\u001b[39m, \u001b[39m'\u001b[39m\u001b[39m기타\u001b[39m\u001b[39m'\u001b[39m]\n\u001b[0;32m      <a href='vscode-notebook-cell:/e%3A/BigDataUtilizationSupportProject2023/%EB%9E%9C%ED%8A%B8/Jupyter/0301.%20%EC%B9%B4%ED%85%8C%EA%B3%A0%EB%A6%AC%20%EB%B6%84%EC%84%9D__%EC%A0%84%EC%B2%98%EB%A6%AC.ipynb#W6sZmlsZQ%3D%3D?line=2'>3</a>\u001b[0m innerOut_df_origin\u001b[39m.\u001b[39mto_csv(\u001b[39m'\u001b[39m\u001b[39m../Data/Preprocessed/innerOutTaged.csv\u001b[39m\u001b[39m'\u001b[39m,\n\u001b[0;32m      <a href='vscode-notebook-cell:/e%3A/BigDataUtilizationSupportProject2023/%EB%9E%9C%ED%8A%B8/Jupyter/0301.%20%EC%B9%B4%ED%85%8C%EA%B3%A0%EB%A6%AC%20%EB%B6%84%EC%84%9D__%EC%A0%84%EC%B2%98%EB%A6%AC.ipynb#W6sZmlsZQ%3D%3D?line=3'>4</a>\u001b[0m                           encoding \u001b[39m=\u001b[39m \u001b[39m'\u001b[39m\u001b[39mutf-8-sig\u001b[39m\u001b[39m'\u001b[39m,\n\u001b[0;32m      <a href='vscode-notebook-cell:/e%3A/BigDataUtilizationSupportProject2023/%EB%9E%9C%ED%8A%B8/Jupyter/0301.%20%EC%B9%B4%ED%85%8C%EA%B3%A0%EB%A6%AC%20%EB%B6%84%EC%84%9D__%EC%A0%84%EC%B2%98%EB%A6%AC.ipynb#W6sZmlsZQ%3D%3D?line=4'>5</a>\u001b[0m                           escapechar \u001b[39m=\u001b[39m \u001b[39m'\u001b[39m\u001b[39m\\\\\u001b[39;00m\u001b[39m'\u001b[39m,\n\u001b[0;32m      <a href='vscode-notebook-cell:/e%3A/BigDataUtilizationSupportProject2023/%EB%9E%9C%ED%8A%B8/Jupyter/0301.%20%EC%B9%B4%ED%85%8C%EA%B3%A0%EB%A6%AC%20%EB%B6%84%EC%84%9D__%EC%A0%84%EC%B2%98%EB%A6%AC.ipynb#W6sZmlsZQ%3D%3D?line=5'>6</a>\u001b[0m                           index \u001b[39m=\u001b[39m \u001b[39mFalse\u001b[39;00m)\n",
      "File \u001b[1;32mc:\\Users\\WESLEYQUEST\\anaconda3\\envs\\BIgDataUtilization2023\\Lib\\site-packages\\pandas\\core\\frame.py:3807\u001b[0m, in \u001b[0;36mDataFrame.__getitem__\u001b[1;34m(self, key)\u001b[0m\n\u001b[0;32m   3805\u001b[0m \u001b[39mif\u001b[39;00m \u001b[39mself\u001b[39m\u001b[39m.\u001b[39mcolumns\u001b[39m.\u001b[39mnlevels \u001b[39m>\u001b[39m \u001b[39m1\u001b[39m:\n\u001b[0;32m   3806\u001b[0m     \u001b[39mreturn\u001b[39;00m \u001b[39mself\u001b[39m\u001b[39m.\u001b[39m_getitem_multilevel(key)\n\u001b[1;32m-> 3807\u001b[0m indexer \u001b[39m=\u001b[39m \u001b[39mself\u001b[39;49m\u001b[39m.\u001b[39;49mcolumns\u001b[39m.\u001b[39;49mget_loc(key)\n\u001b[0;32m   3808\u001b[0m \u001b[39mif\u001b[39;00m is_integer(indexer):\n\u001b[0;32m   3809\u001b[0m     indexer \u001b[39m=\u001b[39m [indexer]\n",
      "File \u001b[1;32mc:\\Users\\WESLEYQUEST\\anaconda3\\envs\\BIgDataUtilization2023\\Lib\\site-packages\\pandas\\core\\indexes\\base.py:3804\u001b[0m, in \u001b[0;36mIndex.get_loc\u001b[1;34m(self, key, method, tolerance)\u001b[0m\n\u001b[0;32m   3802\u001b[0m     \u001b[39mreturn\u001b[39;00m \u001b[39mself\u001b[39m\u001b[39m.\u001b[39m_engine\u001b[39m.\u001b[39mget_loc(casted_key)\n\u001b[0;32m   3803\u001b[0m \u001b[39mexcept\u001b[39;00m \u001b[39mKeyError\u001b[39;00m \u001b[39mas\u001b[39;00m err:\n\u001b[1;32m-> 3804\u001b[0m     \u001b[39mraise\u001b[39;00m \u001b[39mKeyError\u001b[39;00m(key) \u001b[39mfrom\u001b[39;00m \u001b[39merr\u001b[39;00m\n\u001b[0;32m   3805\u001b[0m \u001b[39mexcept\u001b[39;00m \u001b[39mTypeError\u001b[39;00m:\n\u001b[0;32m   3806\u001b[0m     \u001b[39m# If we have a listlike key, _check_indexing_error will raise\u001b[39;00m\n\u001b[0;32m   3807\u001b[0m     \u001b[39m#  InvalidIndexError. Otherwise we fall through and re-raise\u001b[39;00m\n\u001b[0;32m   3808\u001b[0m     \u001b[39m#  the TypeError.\u001b[39;00m\n\u001b[0;32m   3809\u001b[0m     \u001b[39mself\u001b[39m\u001b[39m.\u001b[39m_check_indexing_error(key)\n",
      "\u001b[1;31mKeyError\u001b[0m: 'pathBig'"
     ]
    }
   ],
   "source": [
    "innerOut_df_origin[['middlePath', 'smallPath']] = innerOut_df_origin.progress_apply(lambda x: makeCategory(x, path_df_origin), axis = 1, result_type = 'expand')\n",
    "innerOut_df_origin.loc[(innerOut_df_origin['bigPath'] == '기타') & (innerOut_df_origin['middlePath'] == '메인') & (innerOut_df_origin['smallPath'] == '메인'), ['middlePath', 'smallPath']] = ['기타', '기타']\n",
    "# innerOut_df_origin.to_csv('../Data/Preprocessed/innerOutTaged.csv',\n",
    "#                           encoding = 'utf-8-sig',\n",
    "#                           escapechar = '\\\\',\n",
    "#                           index = False)"
   ]
  },
  {
   "cell_type": "code",
   "execution_count": 9,
   "metadata": {},
   "outputs": [
    {
     "name": "stderr",
     "output_type": "stream",
     "text": [
      "C:\\Users\\WESLEYQUEST\\AppData\\Local\\Temp\\ipykernel_21216\\56883465.py:2: DtypeWarning: Columns (4,5,6,7,20,21) have mixed types. Specify dtype option on import or set low_memory=False.\n",
      "  innerOut_df_origin = pd.read_csv('../Data/Preprocessed/innerOutTaged.csv')\n",
      "100%|██████████| 38822/38822 [04:47<00:00, 135.25it/s]\n",
      "100%|██████████| 275133/275133 [39:41<00:00, 115.55it/s]\n"
     ]
    }
   ],
   "source": [
    "# 추가 전처리 01\n",
    "innerOut_df_origin = pd.read_csv('../Data/Preprocessed/innerOutTaged.csv')\n",
    "innerOut_df_origin['tmp'] = innerOut_df_origin['URL'].apply(lambda x : x.split('/')[1] if len(x.split('/')) > 1 else 'error')\n",
    "\n",
    "innerOut_df_origin.loc[(innerOut_df_origin['tmp'] == 'job'), 'mcd'] = innerOut_df_origin.loc[(innerOut_df_origin['tmp'] == 'job'), 'URL'].str.extract(r\"(mcd=[a-z]\\d{2})\").values\n",
    "innerOut_df_origin.loc[(innerOut_df_origin['tmp'] == 'job'), 'rk'] = innerOut_df_origin.loc[(innerOut_df_origin['tmp'] == 'job'), 'URL'].str.extract(r\"(rk=[a-z])\").values\n",
    "innerOut_df_origin.loc[(innerOut_df_origin['tmp'] == 'job'), 'bt'] = innerOut_df_origin.loc[(innerOut_df_origin['tmp'] == 'job'), 'URL'].str.extract(r\"(bt=[a-z])\").values\n",
    "innerOut_df_origin.loc[(innerOut_df_origin['tmp'] == 'job'), 'bsp'] = innerOut_df_origin.loc[(innerOut_df_origin['tmp'] == 'job'), 'URL'].str.extract(r\"(bsp=[a-z0-9]{2})\").values\n",
    "innerOut_df_origin.loc[(innerOut_df_origin['tmp'] == 'job'), ['mcd', 'rk', 'bt', 'bsp']] = innerOut_df_origin.loc[(innerOut_df_origin['tmp'] == 'job'), ['mcd', 'rk', 'bt', 'bsp']].fillna('NA').values\n",
    "\n",
    "innerOut_df_origin.loc[(innerOut_df_origin['tmp'].isin(['news', 'news2'])), 'mcd'] = innerOut_df_origin.loc[(innerOut_df_origin['tmp'].isin(['news', 'news2'])), 'URL'].str.extract(r\"(mcd=[a-z]\\d{2})\").values\n",
    "innerOut_df_origin.loc[(innerOut_df_origin['tmp'].isin(['news', 'news2'])), 'rk'] = innerOut_df_origin.loc[(innerOut_df_origin['tmp'].isin(['news', 'news2'])), 'URL'].str.extract(r\"(rk=[a-z])\").values\n",
    "innerOut_df_origin.loc[(innerOut_df_origin['tmp'].isin(['news', 'news2'])), 'bt'] = innerOut_df_origin.loc[(innerOut_df_origin['tmp'].isin(['news', 'news2'])), 'URL'].str.extract(r\"(bt=[a-z])\").values\n",
    "innerOut_df_origin.loc[(innerOut_df_origin['tmp'].isin(['news', 'news2'])), 'bsp'] = innerOut_df_origin.loc[(innerOut_df_origin['tmp'].isin(['news', 'news2'])), 'URL'].str.extract(r\"(bsp=[a-z0-9]{2})\").values\n",
    "innerOut_df_origin.loc[(innerOut_df_origin['tmp'].isin(['news', 'news2'])), ['mcd', 'rk', 'bt', 'bsp']] = innerOut_df_origin.loc[(innerOut_df_origin['tmp'].isin(['news', 'news2'])), ['mcd', 'rk', 'bt', 'bsp']].fillna('NA').values\n",
    "\n",
    "innerOut_df_origin.loc[(innerOut_df_origin['tmp'] == 'job'), 'bigPath'] = '채용/인재'\n",
    "innerOut_df_origin.loc[(innerOut_df_origin['tmp'].isin(['news', 'news2'])), 'bigPath'] = '뉴스'\n",
    "\n",
    "innerOut_df_origin.loc[(innerOut_df_origin['tmp'] == 'job'), ['middlePath', 'smallPath']] = innerOut_df_origin.loc[(innerOut_df_origin['tmp'] == 'job')].progress_apply(lambda x : makeCategory(x, path_df_origin), axis = 1, result_type = 'expand').values\n",
    "innerOut_df_origin.loc[(innerOut_df_origin['tmp'].isin(['news', 'news2'])), ['middlePath', 'smallPath']] = innerOut_df_origin.loc[(innerOut_df_origin['tmp'].isin(['news', 'news2']))].progress_apply(lambda x : makeCategory(x, path_df_origin), axis = 1, result_type = 'expand').values\n",
    "\n",
    "# innerOut_df_origin.to_csv('../Data/Preprocessed/innerOutTaged.csv',\n",
    "#                           encoding = 'utf-8-sig',\n",
    "#                           escapechar = '\\\\',\n",
    "#                           index = False)"
   ]
  },
  {
   "cell_type": "code",
   "execution_count": 10,
   "metadata": {},
   "outputs": [
    {
     "name": "stderr",
     "output_type": "stream",
     "text": [
      "C:\\Users\\WESLEYQUEST\\AppData\\Local\\Temp\\ipykernel_21216\\1906809498.py:2: DtypeWarning: Columns (4,5,6,7,20,21) have mixed types. Specify dtype option on import or set low_memory=False.\n",
      "  innerOut_df_origin = pd.read_csv('../Data/Preprocessed/innerOutTaged.csv')\n"
     ]
    }
   ],
   "source": [
    "# 추가 전처리 02\n",
    "innerOut_df_origin = pd.read_csv('../Data/Preprocessed/innerOutTaged.csv')\n",
    "innerOut_df_origin.loc[innerOut_df_origin['URL'].str.contains('edu'), ['bigPath', 'middlePath', 'smallPath']] = ['e-아카데미', 'e-아카데미', 'e-아카데미']\n",
    "innerOut_df_origin['news_id'] = innerOut_df_origin['URL'].str.extract('(news_id=\\d*)')\n",
    "innerOut_df_origin['idx'] = innerOut_df_origin['URL'].str.extract('(idx=\\d*)')\n",
    "\n",
    "tmp01 = innerOut_df_origin.loc[(innerOut_df_origin['middlePath'] == '인기통합정보'), 'bigPath'].values\n",
    "tmp02 = innerOut_df_origin.loc[(innerOut_df_origin['middlePath'] == '인기통합정보'), 'smallPath'].values\n",
    "innerOut_df_origin.loc[(innerOut_df_origin['middlePath'] == '인기통합정보'), 'bigPath'] = '인기통합정보'\n",
    "innerOut_df_origin.loc[(innerOut_df_origin['bigPath'] == '인기통합정보'), 'middlePath'] = tmp02\n",
    "innerOut_df_origin.loc[(innerOut_df_origin['bigPath'] == '인기통합정보'), 'smallPath'] = tmp01\n",
    "# innerOut_df_origin.to_csv('../Data/Preprocessed/innerOutTaged.csv', encoding = 'utf-8-sig', escapechar = '\\\\', index = False)"
   ]
  },
  {
   "cell_type": "code",
   "execution_count": null,
   "metadata": {},
   "outputs": [],
   "source": []
  },
  {
   "cell_type": "code",
   "execution_count": null,
   "metadata": {},
   "outputs": [],
   "source": []
  },
  {
   "cell_type": "markdown",
   "metadata": {},
   "source": [
    "# 2023/10/22(일) 추가 전처리 진행"
   ]
  },
  {
   "cell_type": "code",
   "execution_count": 4,
   "metadata": {},
   "outputs": [
    {
     "data": {
      "text/html": [
       "<div>\n",
       "<style scoped>\n",
       "    .dataframe tbody tr th:only-of-type {\n",
       "        vertical-align: middle;\n",
       "    }\n",
       "\n",
       "    .dataframe tbody tr th {\n",
       "        vertical-align: top;\n",
       "    }\n",
       "\n",
       "    .dataframe thead th {\n",
       "        text-align: right;\n",
       "    }\n",
       "</style>\n",
       "<table border=\"1\" class=\"dataframe\">\n",
       "  <thead>\n",
       "    <tr style=\"text-align: right;\">\n",
       "      <th></th>\n",
       "      <th>bigPath</th>\n",
       "      <th>middlePath</th>\n",
       "      <th>smallPath</th>\n",
       "      <th>path</th>\n",
       "      <th>mcd</th>\n",
       "      <th>rk</th>\n",
       "      <th>bt</th>\n",
       "      <th>bsp</th>\n",
       "    </tr>\n",
       "  </thead>\n",
       "  <tbody>\n",
       "    <tr>\n",
       "      <th>0</th>\n",
       "      <td>기타</td>\n",
       "      <td>메인</td>\n",
       "      <td>메인</td>\n",
       "      <td>/index.html</td>\n",
       "      <td>NaN</td>\n",
       "      <td>NaN</td>\n",
       "      <td>NaN</td>\n",
       "      <td>NaN</td>\n",
       "    </tr>\n",
       "    <tr>\n",
       "      <th>1</th>\n",
       "      <td>뉴스</td>\n",
       "      <td>뉴스홈</td>\n",
       "      <td>뉴스홈</td>\n",
       "      <td>/inews/index.html</td>\n",
       "      <td>NaN</td>\n",
       "      <td>NaN</td>\n",
       "      <td>NaN</td>\n",
       "      <td>NaN</td>\n",
       "    </tr>\n",
       "  </tbody>\n",
       "</table>\n",
       "</div>"
      ],
      "text/plain": [
       "  bigPath middlePath smallPath               path  mcd   rk   bt  bsp\n",
       "0      기타         메인        메인        /index.html  NaN  NaN  NaN  NaN\n",
       "1      뉴스        뉴스홈       뉴스홈  /inews/index.html  NaN  NaN  NaN  NaN"
      ]
     },
     "execution_count": 4,
     "metadata": {},
     "output_type": "execute_result"
    }
   ],
   "source": [
    "path_df_origin = pd.read_csv('../Data/Preprocessed/category.csv')\n",
    "path_df_origin = path_df_origin.fillna('NA')"
   ]
  },
  {
   "cell_type": "code",
   "execution_count": 10,
   "metadata": {},
   "outputs": [
    {
     "data": {
      "text/html": [
       "<div>\n",
       "<style scoped>\n",
       "    .dataframe tbody tr th:only-of-type {\n",
       "        vertical-align: middle;\n",
       "    }\n",
       "\n",
       "    .dataframe tbody tr th {\n",
       "        vertical-align: top;\n",
       "    }\n",
       "\n",
       "    .dataframe thead th {\n",
       "        text-align: right;\n",
       "    }\n",
       "</style>\n",
       "<table border=\"1\" class=\"dataframe\">\n",
       "  <thead>\n",
       "    <tr style=\"text-align: right;\">\n",
       "      <th></th>\n",
       "      <th>bigPath</th>\n",
       "      <th>middlePath</th>\n",
       "      <th>smallPath</th>\n",
       "      <th>path</th>\n",
       "      <th>mcd</th>\n",
       "      <th>rk</th>\n",
       "      <th>bt</th>\n",
       "      <th>bsp</th>\n",
       "    </tr>\n",
       "  </thead>\n",
       "  <tbody>\n",
       "    <tr>\n",
       "      <th>0</th>\n",
       "      <td>기타</td>\n",
       "      <td>메인</td>\n",
       "      <td>메인</td>\n",
       "      <td>/index.html</td>\n",
       "      <td>NA</td>\n",
       "      <td>NA</td>\n",
       "      <td>NA</td>\n",
       "      <td>NA</td>\n",
       "    </tr>\n",
       "    <tr>\n",
       "      <th>1</th>\n",
       "      <td>뉴스</td>\n",
       "      <td>뉴스홈</td>\n",
       "      <td>뉴스홈</td>\n",
       "      <td>/inews/index.html</td>\n",
       "      <td>NA</td>\n",
       "      <td>NA</td>\n",
       "      <td>NA</td>\n",
       "      <td>NA</td>\n",
       "    </tr>\n",
       "  </tbody>\n",
       "</table>\n",
       "</div>"
      ],
      "text/plain": [
       "  bigPath middlePath smallPath               path mcd  rk  bt bsp\n",
       "0      기타         메인        메인        /index.html  NA  NA  NA  NA\n",
       "1      뉴스        뉴스홈       뉴스홈  /inews/index.html  NA  NA  NA  NA"
      ]
     },
     "execution_count": 10,
     "metadata": {},
     "output_type": "execute_result"
    }
   ],
   "source": [
    "path_df_origin.head(2)"
   ]
  },
  {
   "cell_type": "code",
   "execution_count": null,
   "metadata": {},
   "outputs": [],
   "source": []
  },
  {
   "cell_type": "code",
   "execution_count": 25,
   "metadata": {},
   "outputs": [],
   "source": [
    "def makeCategory_version02(x, path_df):\n",
    "    try:\n",
    "        if x['URL'] == '/':\n",
    "            return '메인', '메인'\n",
    "\n",
    "        else:\n",
    "            path_df.loc[:, 'tmp'] = x['URL']\n",
    "            result = path_df[path_df.apply(lambda x : x['path'] in x['tmp'], axis = 1)]\n",
    "\n",
    "            if len(result) != 0:\n",
    "                return result['middlePath'].values[0], result['smallPath'].values[0]\n",
    "            \n",
    "            else:\n",
    "                result = path_df.loc[(path_df['bigPath'] == x['bigPath']) & (path_df['mcd'] == x['mcd'])]\n",
    "                return result['middlePath'].values[0], result['smallPath'].values[0]                   \n",
    "    \n",
    "    except:\n",
    "        return 'error', 'error'\n"
   ]
  },
  {
   "cell_type": "code",
   "execution_count": 33,
   "metadata": {},
   "outputs": [
    {
     "name": "stderr",
     "output_type": "stream",
     "text": [
      "C:\\Users\\WESLEYQUEST\\AppData\\Local\\Temp\\ipykernel_13860\\277475096.py:2: DtypeWarning: Columns (4,5,6,7,20,21,26) have mixed types. Specify dtype option on import or set low_memory=False.\n",
      "  innerOut_df_origin = pd.read_csv(innerOut_path)\n",
      "100%|██████████| 20445/20445 [04:34<00:00, 74.51it/s]\n"
     ]
    }
   ],
   "source": [
    "innerOut_path = '../Data/Preprocessed/innerOutTaged.csv'\n",
    "innerOut_df_origin = pd.read_csv(innerOut_path)\n",
    "innerOut_df_origin[['mcd', 'rk', 'bt', 'bsp']] = innerOut_df_origin[['mcd', 'rk', 'bt', 'bsp']].fillna('NA')\n",
    "innerOut_df_origin.loc[innerOut_df_origin['middlePath'] == 'error', ['middlePath', 'smallPath']] = innerOut_df_origin.loc[innerOut_df_origin['middlePath'] == 'error'].progress_apply(lambda x : makeCategory_version02(x, path_df_origin), axis = 1, result_type = 'expand').values\n",
    "innerOut_df_origin.loc[(innerOut_df_origin['URL'] == '/index.html') & (innerOut_df_origin['bigPath'] == '기타'), ['bigPath', 'middlePath', 'smallPath']] = ['메인', '메인', '메인']\n",
    "# innerOut_df_origin.to_csv('../Data/Preprocessed/innerOutTaged.csv',\n",
    "#                           encoding = 'utf-8-sig',\n",
    "#                           escapechar = '\\\\',\n",
    "#                           index = False)"
   ]
  },
  {
   "cell_type": "code",
   "execution_count": null,
   "metadata": {},
   "outputs": [],
   "source": []
  }
 ],
 "metadata": {
  "kernelspec": {
   "display_name": "BigDataUtilization2023",
   "language": "python",
   "name": "bigdatautilization2023"
  },
  "language_info": {
   "codemirror_mode": {
    "name": "ipython",
    "version": 3
   },
   "file_extension": ".py",
   "mimetype": "text/x-python",
   "name": "python",
   "nbconvert_exporter": "python",
   "pygments_lexer": "ipython3",
   "version": "3.11.6"
  },
  "orig_nbformat": 4
 },
 "nbformat": 4,
 "nbformat_minor": 2
}
